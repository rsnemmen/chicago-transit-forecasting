{
 "cells": [
  {
   "cell_type": "markdown",
   "metadata": {
    "id": "tZJKseROC8ZP"
   },
   "source": [
    "# LSTM, GRUs and CNNs"
   ]
  },
  {
   "cell_type": "markdown",
   "metadata": {
    "id": "dFXIv9qNpKzt",
    "tags": []
   },
   "source": [
    "# Initialize"
   ]
  },
  {
   "cell_type": "markdown",
   "metadata": {
    "id": "-vnvOFrpC8ZS"
   },
   "source": [
    "## Packages"
   ]
  },
  {
   "cell_type": "markdown",
   "metadata": {
    "id": "Qbsh01vQAHN9"
   },
   "source": [
    "### General"
   ]
  },
  {
   "cell_type": "code",
   "execution_count": 1,
   "metadata": {
    "id": "LzJbYO9yAHN9"
   },
   "outputs": [],
   "source": [
    "import os, sys\n",
    "import matplotlib.pyplot as plt\n",
    "import numpy as np\n",
    "from pathlib import Path\n",
    "from importlib import reload"
   ]
  },
  {
   "cell_type": "markdown",
   "metadata": {
    "id": "jGBjeaCXkhKX"
   },
   "source": [
    "Save data to Google Drive"
   ]
  },
  {
   "cell_type": "code",
   "execution_count": 2,
   "metadata": {
    "colab": {
     "base_uri": "https://localhost:8080/"
    },
    "id": "geDsLyHTkl1_",
    "outputId": "93937066-2404-4061-8751-637b8dcf49d8"
   },
   "outputs": [
    {
     "name": "stdout",
     "output_type": "stream",
     "text": [
      "Mounted at /content/drive/\n",
      "Running in Google Colab\n"
     ]
    }
   ],
   "source": [
    "try:\n",
    "    from google.colab import drive\n",
    "    drive.mount('/content/drive/')\n",
    "    print(\"Running in Google Colab\")\n",
    "    in_colab=True\n",
    "except:\n",
    "    print(\"Running locally\")\n",
    "    in_colab=False"
   ]
  },
  {
   "cell_type": "markdown",
   "metadata": {
    "id": "91qChDMMEAm2"
   },
   "source": [
    "Formatting"
   ]
  },
  {
   "cell_type": "code",
   "execution_count": 3,
   "metadata": {
    "colab": {
     "base_uri": "https://localhost:8080/"
    },
    "id": "ZP5HJRVZjxb3",
    "outputId": "d91bb7fa-1892-4601-c1e0-78d72a2bc772"
   },
   "outputs": [
    {
     "name": "stdout",
     "output_type": "stream",
     "text": [
      "Collecting asciichartpy\n",
      "  Downloading asciichartpy-1.5.25-py2.py3-none-any.whl.metadata (9.5 kB)\n",
      "Requirement already satisfied: setuptools in /usr/local/lib/python3.11/dist-packages (from asciichartpy) (75.2.0)\n",
      "Downloading asciichartpy-1.5.25-py2.py3-none-any.whl (7.2 kB)\n",
      "Installing collected packages: asciichartpy\n",
      "Successfully installed asciichartpy-1.5.25\n"
     ]
    }
   ],
   "source": [
    "# For ASCII plots of training progress\n",
    "try:\n",
    "    import asciichartpy\n",
    "except ImportError:\n",
    "    !pip install asciichartpy\n",
    "    import asciichartpy\n",
    "\n",
    "from IPython.display import clear_output"
   ]
  },
  {
   "cell_type": "markdown",
   "metadata": {
    "id": "gmwI3U72AHOA"
   },
   "source": [
    "### ML"
   ]
  },
  {
   "cell_type": "code",
   "execution_count": 4,
   "metadata": {
    "id": "0Piq5se2pKzx"
   },
   "outputs": [],
   "source": [
    "import torch\n",
    "from torch.utils.data import Dataset, DataLoader\n",
    "import torch.nn as nn\n",
    "import torch.optim as optim\n",
    "import torch.nn.functional as F\n",
    "import copy"
   ]
  },
  {
   "cell_type": "markdown",
   "metadata": {
    "id": "YTsawKlapKzy"
   },
   "source": [
    "Enables GPU support"
   ]
  },
  {
   "cell_type": "code",
   "execution_count": 5,
   "metadata": {
    "colab": {
     "base_uri": "https://localhost:8080/"
    },
    "id": "Ekxzo6pOpKzy",
    "outputId": "322e16b7-014e-4d2a-cdde-ad9dfab111cf"
   },
   "outputs": [
    {
     "name": "stdout",
     "output_type": "stream",
     "text": [
      "Device Name: Tesla T4\n"
     ]
    }
   ],
   "source": [
    "if not torch.cuda.is_available():\n",
    "    print(\"No GPU was detected. Neural nets can be very slow without a GPU.\")\n",
    "    if \"google.colab\" in sys.modules:\n",
    "        print(\"Go to Runtime > Change runtime and select a GPU hardware accelerator.\")\n",
    "    if \"kaggle_secrets\" in sys.modules:\n",
    "        print(\"Go to Settings > Accelerator and select GPU.\")\n",
    "else:\n",
    "    # Iterate through all available GPU devices and print their names.\n",
    "    for idx in range(torch.cuda.device_count()):\n",
    "        print(f\"Device Name: {torch.cuda.get_device_name(idx)}\")"
   ]
  },
  {
   "cell_type": "code",
   "execution_count": 6,
   "metadata": {
    "id": "uw0mWMmTC8ZV"
   },
   "outputs": [],
   "source": [
    "import pandas as pd"
   ]
  },
  {
   "cell_type": "markdown",
   "metadata": {
    "id": "bbxQuILxC8Zc"
   },
   "source": [
    "## Helper functions\n",
    "\n",
    "Here we define a couple of helper functions that we will reuse several times. Most of magic happens inside `my_functions.py`."
   ]
  },
  {
   "cell_type": "code",
   "execution_count": 7,
   "metadata": {
    "id": "x6xH0M96RMRK"
   },
   "outputs": [],
   "source": [
    "if in_colab:\n",
    "  sys.path.append('/content/drive/MyDrive/Colab Notebooks/pytorch')\n",
    "\n",
    "import my_functions as mine"
   ]
  },
  {
   "cell_type": "markdown",
   "metadata": {
    "id": "aN58qjsoC8Zc"
   },
   "source": [
    "## Data"
   ]
  },
  {
   "cell_type": "markdown",
   "metadata": {
    "id": "w6y_xbmtC8ZV"
   },
   "source": [
    "### Get data"
   ]
  },
  {
   "cell_type": "code",
   "execution_count": 8,
   "metadata": {
    "colab": {
     "base_uri": "https://localhost:8080/"
    },
    "id": "JhtKOCfAC8ZW",
    "outputId": "46dc04d6-779a-4f33-fe95-f1f9bf7a3cab"
   },
   "outputs": [
    {
     "name": "stdout",
     "output_type": "stream",
     "text": [
      "--2025-04-10 17:40:06--  https://github.com/ageron/data/raw/main/ridership.tgz\n",
      "Resolving github.com (github.com)... 140.82.113.4\n",
      "Connecting to github.com (github.com)|140.82.113.4|:443... connected.\n",
      "HTTP request sent, awaiting response... 302 Found\n",
      "Location: https://raw.githubusercontent.com/ageron/data/main/ridership.tgz [following]\n",
      "--2025-04-10 17:40:06--  https://raw.githubusercontent.com/ageron/data/main/ridership.tgz\n",
      "Resolving raw.githubusercontent.com (raw.githubusercontent.com)... 185.199.108.133, 185.199.109.133, 185.199.110.133, ...\n",
      "Connecting to raw.githubusercontent.com (raw.githubusercontent.com)|185.199.108.133|:443... connected.\n",
      "HTTP request sent, awaiting response... 200 OK\n",
      "Length: 108512 (106K) [application/octet-stream]\n",
      "Saving to: ‘ridership.tgz’\n",
      "\n",
      "ridership.tgz       100%[===================>] 105.97K  --.-KB/s    in 0.01s   \n",
      "\n",
      "2025-04-10 17:40:06 (8.71 MB/s) - ‘ridership.tgz’ saved [108512/108512]\n",
      "\n",
      "ridership/\n",
      "ridership/CTA_-_Ridership_-_Daily_Boarding_Totals.csv\n"
     ]
    }
   ],
   "source": [
    "!wget https://github.com/ageron/data/raw/main/ridership.tgz\n",
    "!mkdir data\n",
    "!mv ridership.tgz data\n",
    "!tar -xvzf data/ridership.tgz --directory=data/"
   ]
  },
  {
   "cell_type": "code",
   "execution_count": 9,
   "metadata": {
    "id": "9HaMrRBHC8ZW"
   },
   "outputs": [],
   "source": [
    "# read data\n",
    "path = Path(\"data/ridership/CTA_-_Ridership_-_Daily_Boarding_Totals.csv\")\n",
    "df = pd.read_csv(path, parse_dates=[\"service_date\"])\n",
    "\n",
    "# some cleaning\n",
    "df.columns = [\"date\", \"day_type\", \"bus\", \"rail\", \"total\"]  # shorter names\n",
    "df = df.sort_values(\"date\").set_index(\"date\")\n",
    "df = df.drop(\"total\", axis=1)  # no need for total, it's just bus + rail\n",
    "df = df.drop_duplicates()  # remove duplicated months (2011-10 and 2014-07)"
   ]
  },
  {
   "cell_type": "markdown",
   "metadata": {
    "id": "Vd2uIWoxC8ZX"
   },
   "source": [
    "### Prepares data\n",
    "\n",
    "Our goal will be to forecast tomorrow’s ridership based\n",
    "on the ridership of the past 8 weeks of data (56 days). The inputs to our model\n",
    "will therefore be sequences (usually a single sequence per day once the model is in\n",
    "production), each containing 56 values from time steps $t – 55$ to $t$. For each input\n",
    "sequence, the model will output 14 values in a sequence to vector fashion: the forecasts for time step $t + 14$."
   ]
  },
  {
   "cell_type": "markdown",
   "metadata": {
    "id": "SxYOoLwyC8ZY"
   },
   "source": [
    "Before we continue looking at the data, let's **split the time series into three periods, for training, validation and testing**. We won't look at the test data for now:"
   ]
  },
  {
   "cell_type": "code",
   "execution_count": 10,
   "metadata": {
    "id": "yrBVzaUoC8ZY"
   },
   "outputs": [],
   "source": [
    "rail_train = df[\"rail\"][\"2016-01\":\"2018-12\"] / 1e6\n",
    "rail_valid = df[\"rail\"][\"2019-01\":\"2019-05\"] / 1e6\n",
    "rail_test = df[\"rail\"][\"2019-06\":] / 1e6"
   ]
  },
  {
   "cell_type": "markdown",
   "metadata": {
    "id": "agOx3mYvtkXB"
   },
   "source": [
    "Defines the dataframe and features. Now `df_mulvar` is a DataFrame with five columns: the bus and rail data, plus three\n",
    "columns containing the one-hot encoding of the next day’s type (recall that there are\n",
    "three possible day types, W, A, and U)."
   ]
  },
  {
   "cell_type": "code",
   "execution_count": 14,
   "metadata": {
    "id": "Zk8eCXwfC8Zd"
   },
   "outputs": [],
   "source": [
    "df_mulvar = df[[\"bus\", \"rail\"]] / 1e6  # use both bus & rail series as input\n",
    "df_mulvar[\"next_day_type\"] = df[\"day_type\"].shift(-1)  # we know tomorrow's type\n",
    "df_mulvar = pd.get_dummies(df_mulvar, dtype=int)  # one-hot encode the day type"
   ]
  },
  {
   "cell_type": "code",
   "execution_count": 15,
   "metadata": {
    "colab": {
     "base_uri": "https://localhost:8080/",
     "height": 238
    },
    "id": "EvcSw-vIuJqg",
    "outputId": "610c5d4f-c637-4512-af79-5d2732794a0c"
   },
   "outputs": [
    {
     "data": {
      "application/vnd.google.colaboratory.intrinsic+json": {
       "summary": "{\n  \"name\": \"df_mulvar\",\n  \"rows\": 7639,\n  \"fields\": [\n    {\n      \"column\": \"date\",\n      \"properties\": {\n        \"dtype\": \"date\",\n        \"min\": \"2001-01-01 00:00:00\",\n        \"max\": \"2021-11-30 00:00:00\",\n        \"num_unique_values\": 7639,\n        \"samples\": [\n          \"2002-11-15 00:00:00\",\n          \"2017-03-26 00:00:00\",\n          \"2007-09-24 00:00:00\"\n        ],\n        \"semantic_type\": \"\",\n        \"description\": \"\"\n      }\n    },\n    {\n      \"column\": \"bus\",\n      \"properties\": {\n        \"dtype\": \"number\",\n        \"std\": 0.26255110950317523,\n        \"min\": 0.080783,\n        \"max\": 1.211992,\n        \"num_unique_values\": 7604,\n        \"samples\": [\n          0.523895,\n          0.805441,\n          0.807829\n        ],\n        \"semantic_type\": \"\",\n        \"description\": \"\"\n      }\n    },\n    {\n      \"column\": \"rail\",\n      \"properties\": {\n        \"dtype\": \"number\",\n        \"std\": 0.20539512873290036,\n        \"min\": 0.023544,\n        \"max\": 1.146516,\n        \"num_unique_values\": 7590,\n        \"samples\": [\n          0.615377,\n          0.635754,\n          0.700814\n        ],\n        \"semantic_type\": \"\",\n        \"description\": \"\"\n      }\n    },\n    {\n      \"column\": \"next_day_type_A\",\n      \"properties\": {\n        \"dtype\": \"number\",\n        \"std\": 0,\n        \"min\": 0,\n        \"max\": 1,\n        \"num_unique_values\": 2,\n        \"samples\": [\n          1,\n          0\n        ],\n        \"semantic_type\": \"\",\n        \"description\": \"\"\n      }\n    },\n    {\n      \"column\": \"next_day_type_U\",\n      \"properties\": {\n        \"dtype\": \"number\",\n        \"std\": 0,\n        \"min\": 0,\n        \"max\": 1,\n        \"num_unique_values\": 2,\n        \"samples\": [\n          1,\n          0\n        ],\n        \"semantic_type\": \"\",\n        \"description\": \"\"\n      }\n    },\n    {\n      \"column\": \"next_day_type_W\",\n      \"properties\": {\n        \"dtype\": \"number\",\n        \"std\": 0,\n        \"min\": 0,\n        \"max\": 1,\n        \"num_unique_values\": 2,\n        \"samples\": [\n          0,\n          1\n        ],\n        \"semantic_type\": \"\",\n        \"description\": \"\"\n      }\n    }\n  ]\n}",
       "type": "dataframe",
       "variable_name": "df_mulvar"
      },
      "text/html": [
       "\n",
       "  <div id=\"df-55fd5cb8-04db-4c83-b333-1b1f47d16ced\" class=\"colab-df-container\">\n",
       "    <div>\n",
       "<style scoped>\n",
       "    .dataframe tbody tr th:only-of-type {\n",
       "        vertical-align: middle;\n",
       "    }\n",
       "\n",
       "    .dataframe tbody tr th {\n",
       "        vertical-align: top;\n",
       "    }\n",
       "\n",
       "    .dataframe thead th {\n",
       "        text-align: right;\n",
       "    }\n",
       "</style>\n",
       "<table border=\"1\" class=\"dataframe\">\n",
       "  <thead>\n",
       "    <tr style=\"text-align: right;\">\n",
       "      <th></th>\n",
       "      <th>bus</th>\n",
       "      <th>rail</th>\n",
       "      <th>next_day_type_A</th>\n",
       "      <th>next_day_type_U</th>\n",
       "      <th>next_day_type_W</th>\n",
       "    </tr>\n",
       "    <tr>\n",
       "      <th>date</th>\n",
       "      <th></th>\n",
       "      <th></th>\n",
       "      <th></th>\n",
       "      <th></th>\n",
       "      <th></th>\n",
       "    </tr>\n",
       "  </thead>\n",
       "  <tbody>\n",
       "    <tr>\n",
       "      <th>2001-01-01</th>\n",
       "      <td>0.297192</td>\n",
       "      <td>0.126455</td>\n",
       "      <td>0</td>\n",
       "      <td>0</td>\n",
       "      <td>1</td>\n",
       "    </tr>\n",
       "    <tr>\n",
       "      <th>2001-01-02</th>\n",
       "      <td>0.780827</td>\n",
       "      <td>0.501952</td>\n",
       "      <td>0</td>\n",
       "      <td>0</td>\n",
       "      <td>1</td>\n",
       "    </tr>\n",
       "    <tr>\n",
       "      <th>2001-01-03</th>\n",
       "      <td>0.824923</td>\n",
       "      <td>0.536432</td>\n",
       "      <td>0</td>\n",
       "      <td>0</td>\n",
       "      <td>1</td>\n",
       "    </tr>\n",
       "    <tr>\n",
       "      <th>2001-01-04</th>\n",
       "      <td>0.870021</td>\n",
       "      <td>0.550011</td>\n",
       "      <td>0</td>\n",
       "      <td>0</td>\n",
       "      <td>1</td>\n",
       "    </tr>\n",
       "    <tr>\n",
       "      <th>2001-01-05</th>\n",
       "      <td>0.890426</td>\n",
       "      <td>0.557917</td>\n",
       "      <td>1</td>\n",
       "      <td>0</td>\n",
       "      <td>0</td>\n",
       "    </tr>\n",
       "  </tbody>\n",
       "</table>\n",
       "</div>\n",
       "    <div class=\"colab-df-buttons\">\n",
       "\n",
       "  <div class=\"colab-df-container\">\n",
       "    <button class=\"colab-df-convert\" onclick=\"convertToInteractive('df-55fd5cb8-04db-4c83-b333-1b1f47d16ced')\"\n",
       "            title=\"Convert this dataframe to an interactive table.\"\n",
       "            style=\"display:none;\">\n",
       "\n",
       "  <svg xmlns=\"http://www.w3.org/2000/svg\" height=\"24px\" viewBox=\"0 -960 960 960\">\n",
       "    <path d=\"M120-120v-720h720v720H120Zm60-500h600v-160H180v160Zm220 220h160v-160H400v160Zm0 220h160v-160H400v160ZM180-400h160v-160H180v160Zm440 0h160v-160H620v160ZM180-180h160v-160H180v160Zm440 0h160v-160H620v160Z\"/>\n",
       "  </svg>\n",
       "    </button>\n",
       "\n",
       "  <style>\n",
       "    .colab-df-container {\n",
       "      display:flex;\n",
       "      gap: 12px;\n",
       "    }\n",
       "\n",
       "    .colab-df-convert {\n",
       "      background-color: #E8F0FE;\n",
       "      border: none;\n",
       "      border-radius: 50%;\n",
       "      cursor: pointer;\n",
       "      display: none;\n",
       "      fill: #1967D2;\n",
       "      height: 32px;\n",
       "      padding: 0 0 0 0;\n",
       "      width: 32px;\n",
       "    }\n",
       "\n",
       "    .colab-df-convert:hover {\n",
       "      background-color: #E2EBFA;\n",
       "      box-shadow: 0px 1px 2px rgba(60, 64, 67, 0.3), 0px 1px 3px 1px rgba(60, 64, 67, 0.15);\n",
       "      fill: #174EA6;\n",
       "    }\n",
       "\n",
       "    .colab-df-buttons div {\n",
       "      margin-bottom: 4px;\n",
       "    }\n",
       "\n",
       "    [theme=dark] .colab-df-convert {\n",
       "      background-color: #3B4455;\n",
       "      fill: #D2E3FC;\n",
       "    }\n",
       "\n",
       "    [theme=dark] .colab-df-convert:hover {\n",
       "      background-color: #434B5C;\n",
       "      box-shadow: 0px 1px 3px 1px rgba(0, 0, 0, 0.15);\n",
       "      filter: drop-shadow(0px 1px 2px rgba(0, 0, 0, 0.3));\n",
       "      fill: #FFFFFF;\n",
       "    }\n",
       "  </style>\n",
       "\n",
       "    <script>\n",
       "      const buttonEl =\n",
       "        document.querySelector('#df-55fd5cb8-04db-4c83-b333-1b1f47d16ced button.colab-df-convert');\n",
       "      buttonEl.style.display =\n",
       "        google.colab.kernel.accessAllowed ? 'block' : 'none';\n",
       "\n",
       "      async function convertToInteractive(key) {\n",
       "        const element = document.querySelector('#df-55fd5cb8-04db-4c83-b333-1b1f47d16ced');\n",
       "        const dataTable =\n",
       "          await google.colab.kernel.invokeFunction('convertToInteractive',\n",
       "                                                    [key], {});\n",
       "        if (!dataTable) return;\n",
       "\n",
       "        const docLinkHtml = 'Like what you see? Visit the ' +\n",
       "          '<a target=\"_blank\" href=https://colab.research.google.com/notebooks/data_table.ipynb>data table notebook</a>'\n",
       "          + ' to learn more about interactive tables.';\n",
       "        element.innerHTML = '';\n",
       "        dataTable['output_type'] = 'display_data';\n",
       "        await google.colab.output.renderOutput(dataTable, element);\n",
       "        const docLink = document.createElement('div');\n",
       "        docLink.innerHTML = docLinkHtml;\n",
       "        element.appendChild(docLink);\n",
       "      }\n",
       "    </script>\n",
       "  </div>\n",
       "\n",
       "\n",
       "<div id=\"df-ecb3390e-a321-4d3f-a202-33e5c51a7edd\">\n",
       "  <button class=\"colab-df-quickchart\" onclick=\"quickchart('df-ecb3390e-a321-4d3f-a202-33e5c51a7edd')\"\n",
       "            title=\"Suggest charts\"\n",
       "            style=\"display:none;\">\n",
       "\n",
       "<svg xmlns=\"http://www.w3.org/2000/svg\" height=\"24px\"viewBox=\"0 0 24 24\"\n",
       "     width=\"24px\">\n",
       "    <g>\n",
       "        <path d=\"M19 3H5c-1.1 0-2 .9-2 2v14c0 1.1.9 2 2 2h14c1.1 0 2-.9 2-2V5c0-1.1-.9-2-2-2zM9 17H7v-7h2v7zm4 0h-2V7h2v10zm4 0h-2v-4h2v4z\"/>\n",
       "    </g>\n",
       "</svg>\n",
       "  </button>\n",
       "\n",
       "<style>\n",
       "  .colab-df-quickchart {\n",
       "      --bg-color: #E8F0FE;\n",
       "      --fill-color: #1967D2;\n",
       "      --hover-bg-color: #E2EBFA;\n",
       "      --hover-fill-color: #174EA6;\n",
       "      --disabled-fill-color: #AAA;\n",
       "      --disabled-bg-color: #DDD;\n",
       "  }\n",
       "\n",
       "  [theme=dark] .colab-df-quickchart {\n",
       "      --bg-color: #3B4455;\n",
       "      --fill-color: #D2E3FC;\n",
       "      --hover-bg-color: #434B5C;\n",
       "      --hover-fill-color: #FFFFFF;\n",
       "      --disabled-bg-color: #3B4455;\n",
       "      --disabled-fill-color: #666;\n",
       "  }\n",
       "\n",
       "  .colab-df-quickchart {\n",
       "    background-color: var(--bg-color);\n",
       "    border: none;\n",
       "    border-radius: 50%;\n",
       "    cursor: pointer;\n",
       "    display: none;\n",
       "    fill: var(--fill-color);\n",
       "    height: 32px;\n",
       "    padding: 0;\n",
       "    width: 32px;\n",
       "  }\n",
       "\n",
       "  .colab-df-quickchart:hover {\n",
       "    background-color: var(--hover-bg-color);\n",
       "    box-shadow: 0 1px 2px rgba(60, 64, 67, 0.3), 0 1px 3px 1px rgba(60, 64, 67, 0.15);\n",
       "    fill: var(--button-hover-fill-color);\n",
       "  }\n",
       "\n",
       "  .colab-df-quickchart-complete:disabled,\n",
       "  .colab-df-quickchart-complete:disabled:hover {\n",
       "    background-color: var(--disabled-bg-color);\n",
       "    fill: var(--disabled-fill-color);\n",
       "    box-shadow: none;\n",
       "  }\n",
       "\n",
       "  .colab-df-spinner {\n",
       "    border: 2px solid var(--fill-color);\n",
       "    border-color: transparent;\n",
       "    border-bottom-color: var(--fill-color);\n",
       "    animation:\n",
       "      spin 1s steps(1) infinite;\n",
       "  }\n",
       "\n",
       "  @keyframes spin {\n",
       "    0% {\n",
       "      border-color: transparent;\n",
       "      border-bottom-color: var(--fill-color);\n",
       "      border-left-color: var(--fill-color);\n",
       "    }\n",
       "    20% {\n",
       "      border-color: transparent;\n",
       "      border-left-color: var(--fill-color);\n",
       "      border-top-color: var(--fill-color);\n",
       "    }\n",
       "    30% {\n",
       "      border-color: transparent;\n",
       "      border-left-color: var(--fill-color);\n",
       "      border-top-color: var(--fill-color);\n",
       "      border-right-color: var(--fill-color);\n",
       "    }\n",
       "    40% {\n",
       "      border-color: transparent;\n",
       "      border-right-color: var(--fill-color);\n",
       "      border-top-color: var(--fill-color);\n",
       "    }\n",
       "    60% {\n",
       "      border-color: transparent;\n",
       "      border-right-color: var(--fill-color);\n",
       "    }\n",
       "    80% {\n",
       "      border-color: transparent;\n",
       "      border-right-color: var(--fill-color);\n",
       "      border-bottom-color: var(--fill-color);\n",
       "    }\n",
       "    90% {\n",
       "      border-color: transparent;\n",
       "      border-bottom-color: var(--fill-color);\n",
       "    }\n",
       "  }\n",
       "</style>\n",
       "\n",
       "  <script>\n",
       "    async function quickchart(key) {\n",
       "      const quickchartButtonEl =\n",
       "        document.querySelector('#' + key + ' button');\n",
       "      quickchartButtonEl.disabled = true;  // To prevent multiple clicks.\n",
       "      quickchartButtonEl.classList.add('colab-df-spinner');\n",
       "      try {\n",
       "        const charts = await google.colab.kernel.invokeFunction(\n",
       "            'suggestCharts', [key], {});\n",
       "      } catch (error) {\n",
       "        console.error('Error during call to suggestCharts:', error);\n",
       "      }\n",
       "      quickchartButtonEl.classList.remove('colab-df-spinner');\n",
       "      quickchartButtonEl.classList.add('colab-df-quickchart-complete');\n",
       "    }\n",
       "    (() => {\n",
       "      let quickchartButtonEl =\n",
       "        document.querySelector('#df-ecb3390e-a321-4d3f-a202-33e5c51a7edd button');\n",
       "      quickchartButtonEl.style.display =\n",
       "        google.colab.kernel.accessAllowed ? 'block' : 'none';\n",
       "    })();\n",
       "  </script>\n",
       "</div>\n",
       "\n",
       "    </div>\n",
       "  </div>\n"
      ],
      "text/plain": [
       "                 bus      rail  next_day_type_A  next_day_type_U  \\\n",
       "date                                                               \n",
       "2001-01-01  0.297192  0.126455                0                0   \n",
       "2001-01-02  0.780827  0.501952                0                0   \n",
       "2001-01-03  0.824923  0.536432                0                0   \n",
       "2001-01-04  0.870021  0.550011                0                0   \n",
       "2001-01-05  0.890426  0.557917                1                0   \n",
       "\n",
       "            next_day_type_W  \n",
       "date                         \n",
       "2001-01-01                1  \n",
       "2001-01-02                1  \n",
       "2001-01-03                1  \n",
       "2001-01-04                1  \n",
       "2001-01-05                0  "
      ]
     },
     "execution_count": 15,
     "metadata": {},
     "output_type": "execute_result"
    }
   ],
   "source": [
    "df_mulvar.head()"
   ]
  },
  {
   "cell_type": "markdown",
   "metadata": {
    "id": "lbMjMlJ_tpgL"
   },
   "source": [
    "Next we can proceed much like we did earlier.\n",
    "First we split the data into three periods, for training, validation, and testing:"
   ]
  },
  {
   "cell_type": "code",
   "execution_count": 16,
   "metadata": {
    "id": "YfmD_evFC8Zd"
   },
   "outputs": [],
   "source": [
    "mulvar_train = df_mulvar[\"2016-01\":\"2018-12\"]\n",
    "mulvar_valid = df_mulvar[\"2019-01\":\"2019-05\"]\n",
    "mulvar_test = df_mulvar[\"2019-06\":]"
   ]
  },
  {
   "cell_type": "markdown",
   "metadata": {
    "id": "OGn7SnRvAHOG"
   },
   "source": [
    "Training and validation data"
   ]
  },
  {
   "cell_type": "code",
   "execution_count": 11,
   "metadata": {
    "id": "9UNbX-g8yLfC"
   },
   "outputs": [],
   "source": [
    "ahead = 14       # forecast horizon\n",
    "seq_length=56"
   ]
  },
  {
   "cell_type": "code",
   "execution_count": 12,
   "metadata": {
    "id": "YbSFWf1BgsqT"
   },
   "outputs": [],
   "source": [
    "class TSDataset(Dataset):\n",
    "    def __init__(self, series, history, ahead=14, target_col=1):\n",
    "        \"\"\"\n",
    "        Args:\n",
    "            series (np.ndarray): the full time series data with shape (num_timesteps, num_features).\n",
    "            history (int): the number of time steps to use as input (i.e. seq_length).\n",
    "            ahead (int): the forecast horizon (number of steps ahead).\n",
    "            target_col (int): the index of the target column (e.g. 1).\n",
    "\n",
    "        The dataset windows are of length 'history + ahead'. For each window, the first\n",
    "        'history' time steps become the input features and the following 'ahead' steps (from\n",
    "        the target column) become the target.\n",
    "        \"\"\"\n",
    "        self.series = series\n",
    "        self.window_length = history + ahead\n",
    "        self.history = history\n",
    "        self.ahead = ahead\n",
    "        self.target_col = target_col\n",
    "\n",
    "    def __len__(self):\n",
    "        # For a series with N timesteps, the number of windows is N - (window_length - 1)\n",
    "        return len(self.series) - self.window_length + 1\n",
    "\n",
    "    def __getitem__(self, idx):\n",
    "        # Extract a window from the series\n",
    "        window = self.series[idx: idx + self.window_length]\n",
    "        # Convert to a torch tensor (float32)\n",
    "        window = torch.tensor(window, dtype=torch.float32)\n",
    "\n",
    "        # Split the window into:\n",
    "        # - X: first 'history' steps with all features\n",
    "        # - y: last 'ahead' steps for the target column\n",
    "        X = window[:self.history, :]\n",
    "        y = window[self.history:, self.target_col]\n",
    "        return X, y"
   ]
  },
  {
   "cell_type": "code",
   "execution_count": 17,
   "metadata": {
    "id": "VGH7JCYnyLfC"
   },
   "outputs": [],
   "source": [
    "train_series = mulvar_train.to_numpy()\n",
    "valid_series = mulvar_valid.to_numpy()\n",
    "\n",
    "# Create dataset objects\n",
    "train_dataset = TSDataset(train_series, history=seq_length, ahead=ahead, target_col=1)\n",
    "valid_dataset = TSDataset(valid_series, history=seq_length, ahead=ahead, target_col=1)\n",
    "\n",
    "# Create data loaders equivalent to the tf.keras dataset pipelines (with batch size of 32)\n",
    "ahead_train_loader = DataLoader(train_dataset, batch_size=32, shuffle=True)\n",
    "ahead_valid_loader = DataLoader(valid_dataset, batch_size=32, shuffle=False)"
   ]
  },
  {
   "cell_type": "markdown",
   "metadata": {
    "id": "WOqEFfecC8Zi"
   },
   "source": [
    "# LSTMs"
   ]
  },
  {
   "cell_type": "markdown",
   "metadata": {
    "id": "GRewCennpSm8"
   },
   "source": [
    "Below: defines model, trains, saves (or loads) model to disk."
   ]
  },
  {
   "cell_type": "code",
   "execution_count": 42,
   "metadata": {
    "id": "cnqIczZF4qZj"
   },
   "outputs": [],
   "source": [
    "class LSTMModel(nn.Module):\n",
    "    def __init__(self, input_features, hidden_units, num_ahead):\n",
    "        \"\"\"\n",
    "        Args:\n",
    "            input_features (int): Number of features in the input time series (5 in your case).\n",
    "            hidden_units (int): Number of units in the LSTM layer (32 in your case).\n",
    "            num_ahead (int): The forecast horizon (14 in your case).\n",
    "        \"\"\"\n",
    "        super().__init__()\n",
    "        self.input_features = input_features\n",
    "        self.hidden_units = hidden_units\n",
    "        self.num_ahead = num_ahead\n",
    "\n",
    "        self.lstm = nn.LSTM(input_size=self.input_features,\n",
    "                            hidden_size=self.hidden_units,\n",
    "                            batch_first=True)\n",
    "\n",
    "        self.linear = nn.Linear(in_features=self.hidden_units,\n",
    "                                out_features=self.num_ahead)\n",
    "\n",
    "    def forward(self, x):\n",
    "        \"\"\"\n",
    "        Defines the forward pass of the model.\n",
    "\n",
    "        Args:\n",
    "            x (torch.Tensor): Input tensor with shape (batch_size, seq_length, input_features).\n",
    "\n",
    "        Returns:\n",
    "            torch.Tensor: Output tensor with shape (batch_size, num_ahead).\n",
    "        \"\"\"\n",
    "        lstm_out, _ = self.lstm(x)\n",
    "        last_time_step_output = lstm_out[:, -1, :]\n",
    "        predictions = self.linear(last_time_step_output)\n",
    "\n",
    "        return predictions"
   ]
  },
  {
   "cell_type": "code",
   "execution_count": 43,
   "metadata": {
    "id": "XS0tR-Ymzzg-"
   },
   "outputs": [],
   "source": [
    "# initialize model\n",
    "lstm_model = LSTMModel(input_features=5, hidden_units=32, num_ahead=ahead)"
   ]
  },
  {
   "cell_type": "code",
   "execution_count": 44,
   "metadata": {
    "colab": {
     "base_uri": "https://localhost:8080/"
    },
    "id": "lke0fUVz0EQ3",
    "outputId": "b250716b-64d7-42a0-9460-c953d0e18fb4"
   },
   "outputs": [
    {
     "name": "stdout",
     "output_type": "stream",
     "text": [
      "Epoch 468/1000, Validation MAE: 0.036952\n",
      "   -0.84  ┤\n",
      "   -0.90  ┤\n",
      "   -0.95  ┤\n",
      "   -1.01  ┤\n",
      "   -1.06  ┤\n",
      "   -1.12  ┤\n",
      "   -1.17  ┤\n",
      "   -1.23  ┤\n",
      "   -1.28  ┤\n",
      "   -1.34  ┤\n",
      "   -1.39  ┤╭───╮ ╭──╮  ╭─╮ ╭╮     ╭╮   ╭──╮╭╮  ╭╮╭──╮╭╮╭─╮   ╭╮       ╭╮╭─╮╭╮      ╭╮    ╭╮         ╭╮\n",
      "   -1.45  ┼╯   ╰─╯  ╰──╯ ╰─╯╰─────╯╰───╯  ╰╯╰──╯╰╯  ╰╯╰╯ ╰───╯╰───────╯╰╯ ╰╯╰──────╯╰────╯╰─────────╯╰────────\n",
      "Early stopping triggered at epoch 468\n",
      "CPU times: user 1min 8s, sys: 3.1 s, total: 1min 11s\n",
      "Wall time: 1min 13s\n"
     ]
    }
   ],
   "source": [
    "%time mine.train_save(lstm_model, ahead_train_loader, ahead_valid_loader, mine.fit_and_evaluate_mulvar, in_colab=in_colab, filename=\"lstm.pth\", learning_rate=0.1, rewrite=True, epochs=1000)"
   ]
  },
  {
   "cell_type": "code",
   "execution_count": 56,
   "metadata": {
    "id": "cUMs5iz81zrV"
   },
   "outputs": [],
   "source": [
    "y_ahead=mine.forecast_ahead(seq_length, mulvar_valid[:seq_length], lstm_model)\n",
    "\n",
    "# convert to pandas TS\n",
    "y_aheadP = pd.Series(y_ahead[0, :], index=pd.date_range(\"2019-02-26\", \"2019-03-11\"))"
   ]
  },
  {
   "cell_type": "code",
   "execution_count": 57,
   "metadata": {
    "colab": {
     "base_uri": "https://localhost:8080/",
     "height": 403
    },
    "id": "0sWCkBilqAHQ",
    "outputId": "eab519a3-464b-47b7-cc7a-1606d75432da"
   },
   "outputs": [
    {
     "data": {
      "image/png": "[encoded data removed]",
      "text/plain": [
       "<Figure size 800x350 with 1 Axes>"
      ]
     },
     "metadata": {},
     "output_type": "display_data"
    }
   ],
   "source": [
    "fig, ax = plt.subplots(figsize=(8, 3.5))\n",
    "(rail_valid * 1e6)[\"2019-02-01\":\"2019-03-11\"].plot(label=\"Data\", marker=\".\", ax=ax)\n",
    "(mulvar_valid[0:seq_length]['rail']*1e6).plot(label=\"Input\", marker=\".\", ax=ax)\n",
    "(y_aheadP * 1e6).plot(label=\"Model\", grid=True, marker=\"x\", color=\"r\", ax=ax)\n",
    "\n",
    "ax.vlines(\"2019-02-25\", 0, 1e6, color=\"k\", linestyle=\"--\", label=\"Today\")\n",
    "ax.set_xlim([\"2019-02-11\", \"2019-03-11\"])\n",
    "ax.set_ylim([200_000, 800_000])\n",
    "plt.legend(loc=\"upper left\")\n",
    "plt.show()"
   ]
  },
  {
   "cell_type": "markdown",
   "metadata": {
    "id": "C1QP_OI7C8Zj"
   },
   "source": [
    "# GRUs"
   ]
  },
  {
   "cell_type": "code",
   "execution_count": 47,
   "metadata": {
    "id": "8b5iPbupC8Zj",
    "scrolled": true
   },
   "outputs": [],
   "source": [
    "class GRUModel(nn.Module):\n",
    "    def __init__(self, input_features, hidden_units, num_ahead):\n",
    "        super().__init__()\n",
    "        self.input_features = input_features\n",
    "        self.hidden_units = hidden_units\n",
    "        self.num_ahead = num_ahead\n",
    "\n",
    "        self.gru = nn.GRU(input_size=self.input_features,\n",
    "                            hidden_size=self.hidden_units,\n",
    "                            batch_first=True)\n",
    "\n",
    "        self.linear = nn.Linear(in_features=self.hidden_units,\n",
    "                                out_features=self.num_ahead)\n",
    "\n",
    "    def forward(self, x):\n",
    "        gru_out, _ = self.gru(x)\n",
    "        last_time_step_output = gru_out[:, -1, :]\n",
    "        predictions = self.linear(last_time_step_output)\n",
    "\n",
    "        return predictions"
   ]
  },
  {
   "cell_type": "code",
   "execution_count": 48,
   "metadata": {
    "id": "DhlmUYieK4-W"
   },
   "outputs": [],
   "source": [
    "# initialize model\n",
    "gru_model = GRUModel(input_features=5, hidden_units=32, num_ahead=ahead)"
   ]
  },
  {
   "cell_type": "code",
   "execution_count": 49,
   "metadata": {
    "colab": {
     "base_uri": "https://localhost:8080/"
    },
    "id": "FNFgc_8DK4-W",
    "outputId": "4a93ee64-61ee-49fd-e5e4-1c6537bce866"
   },
   "outputs": [
    {
     "name": "stdout",
     "output_type": "stream",
     "text": [
      "Epoch 409/1000, Validation MAE: 0.036892\n",
      "   -0.74  ┤\n",
      "   -0.80  ┤\n",
      "   -0.87  ┤\n",
      "   -0.93  ┤\n",
      "   -1.00  ┤\n",
      "   -1.06  ┤\n",
      "   -1.12  ┤\n",
      "   -1.19  ┤\n",
      "   -1.25  ┤\n",
      "   -1.32  ┤              ╭╮                                         ╭╮                                     ╭╮\n",
      "   -1.38  ┼──────────────╯╰────────────────────────────────╮╭───────╯╰──────────╮╭─────────────────────────╯╰─\n",
      "   -1.44  ┤                                                ╰╯                   ╰╯\n",
      "Early stopping triggered at epoch 409\n",
      "CPU times: user 4min 18s, sys: 751 ms, total: 4min 18s\n",
      "Wall time: 4min 23s\n"
     ]
    }
   ],
   "source": [
    "%time mine.train_save(gru_model, ahead_train_loader, ahead_valid_loader, mine.fit_and_evaluate_mulvar, in_colab=in_colab, filename=\"gru.pth\", learning_rate=0.1, rewrite=True, epochs=1000)"
   ]
  },
  {
   "cell_type": "code",
   "execution_count": 50,
   "metadata": {
    "id": "_RpgoVtFK4-X"
   },
   "outputs": [],
   "source": [
    "y_ahead=mine.forecast_ahead(seq_length, mulvar_valid[:seq_length], gru_model)\n",
    "\n",
    "# convert to pandas TS\n",
    "y_aheadP = pd.Series(y_ahead[0, :], index=pd.date_range(\"2019-02-26\", \"2019-03-11\"))"
   ]
  },
  {
   "cell_type": "code",
   "execution_count": 54,
   "metadata": {
    "colab": {
     "base_uri": "https://localhost:8080/",
     "height": 403
    },
    "id": "9kNX74uzK4-X",
    "outputId": "1cb0f144-4729-43a0-d533-891d3de70dfd"
   },
   "outputs": [
    {
     "data": {
      "image/png": "[encoded data removed]",
      "text/plain": [
       "<Figure size 800x350 with 1 Axes>"
      ]
     },
     "metadata": {},
     "output_type": "display_data"
    }
   ],
   "source": [
    "fig, ax = plt.subplots(figsize=(8, 3.5))\n",
    "(rail_valid * 1e6)[\"2019-02-01\":\"2019-03-11\"].plot(label=\"Data\", marker=\".\", ax=ax)\n",
    "(mulvar_valid[0:seq_length]['rail']*1e6).plot(label=\"Input\", marker=\".\", ax=ax)\n",
    "(y_aheadP * 1e6).plot(label=\"Model\", grid=True, marker=\"x\", color=\"r\", ax=ax)\n",
    "\n",
    "ax.vlines(\"2019-02-25\", 0, 1e6, color=\"k\", linestyle=\"--\", label=\"Today\")\n",
    "ax.set_xlim([\"2019-02-11\", \"2019-03-11\"])\n",
    "ax.set_ylim([200_000, 800_000])\n",
    "plt.legend(loc=\"upper left\")\n",
    "plt.show()"
   ]
  },
  {
   "cell_type": "markdown",
   "metadata": {
    "id": "bTUgOWFwC8Zj"
   },
   "source": [
    "# 1D CNNs"
   ]
  },
  {
   "cell_type": "markdown",
   "metadata": {
    "id": "4MMBKAgtC8Zj"
   },
   "source": [
    "```\n",
    "  |-----0-----|      |-----3----|      |--... |-------52------|\n",
    "         |-----1----|      |-----4----|   ... |       |-------53------|\n",
    "               |-----2----|     |------5--...-51------|       |-------54------|\n",
    "X:  0  1  2  3  4  5  6  7  8  9 10 11 12 ...  104 105 106 107 108 109 110 111\n",
    "Y:      from 4     6     8    10    12    ...      106     108     110     112\n",
    "         to 17    19    21    23    25    ...      119     121     123     125\n",
    "```"
   ]
  },
  {
   "cell_type": "code",
   "execution_count": null,
   "metadata": {
    "colab": {
     "base_uri": "https://localhost:8080/"
    },
    "id": "nyednPgMC8Zj",
    "outputId": "68279a8b-81b0-4ee7-99fc-c89308de5dbc"
   },
   "outputs": [
    {
     "name": "stderr",
     "output_type": "stream",
     "text": [
      "/usr/local/lib/python3.11/dist-packages/keras/src/layers/convolutional/base_conv.py:107: UserWarning: Do not pass an `input_shape`/`input_dim` argument to a layer. When using Sequential models, prefer using an `Input(shape)` object as the first layer in the model instead.\n",
      "  super().__init__(activity_regularizer=activity_regularizer, **kwargs)\n"
     ]
    }
   ],
   "source": [
    "tf.random.set_seed(42)  # extra code – ensures reproducibility\n",
    "conv_rnn_model = tf.keras.Sequential([\n",
    "    tf.keras.layers.Conv1D(filters=32, kernel_size=4, strides=2,\n",
    "                           activation=\"relu\", input_shape=[None, 5]),\n",
    "    tf.keras.layers.GRU(32, return_sequences=True),\n",
    "    tf.keras.layers.Dense(14)\n",
    "])\n",
    "\n",
    "longer_train = to_seq2seq_dataset(mulvar_train, seq_length=112,\n",
    "                                       shuffle=True, seed=42)\n",
    "longer_valid = to_seq2seq_dataset(mulvar_valid, seq_length=112)\n",
    "downsampled_train = longer_train.map(lambda X, Y: (X, Y[:, 3::2]))\n",
    "downsampled_valid = longer_valid.map(lambda X, Y: (X, Y[:, 3::2]))"
   ]
  },
  {
   "cell_type": "markdown",
   "metadata": {
    "id": "aFoUpKQHC8Zj"
   },
   "source": [
    "Just training for 5 epochs to show that it works (you can increase this if you want):"
   ]
  },
  {
   "cell_type": "code",
   "execution_count": null,
   "metadata": {
    "colab": {
     "base_uri": "https://localhost:8080/"
    },
    "id": "LL0QtHgiC8Zj",
    "outputId": "79fe52c3-1464-4e76-f88a-005bfc036e57"
   },
   "outputs": [
    {
     "name": "stderr",
     "output_type": "stream",
     "text": [
      "/usr/lib/python3.11/contextlib.py:158: UserWarning: Your input ran out of data; interrupting training. Make sure that your dataset or generator can generate at least `steps_per_epoch * epochs` batches. You may need to use the `.repeat()` function when building your dataset.\n",
      "  self.gen.throw(typ, value, traceback)\n"
     ]
    },
    {
     "name": "stdout",
     "output_type": "stream",
     "text": [
      "\u001b[1m1/1\u001b[0m \u001b[32m━━━━━━━━━━━━━━━━━━━━\u001b[0m\u001b[37m\u001b[0m \u001b[1m0s\u001b[0m 56ms/step - loss: 0.0119 - mae: 0.1155\n"
     ]
    },
    {
     "data": {
      "text/plain": [
       "115491.04005098343"
      ]
     },
     "execution_count": 29,
     "metadata": {},
     "output_type": "execute_result"
    }
   ],
   "source": [
    "fit_and_evaluate(conv_rnn_model, downsampled_train, downsampled_valid,\n",
    "                 learning_rate=0.1, epochs=5)"
   ]
  },
  {
   "cell_type": "markdown",
   "metadata": {
    "id": "RXIHBsGSC8Zj"
   },
   "source": [
    "# WaveNet"
   ]
  },
  {
   "cell_type": "markdown",
   "metadata": {
    "id": "LL_pngwdC8Zj"
   },
   "source": [
    "```\n",
    " ⋮\n",
    "C2  /\\ /\\ /\\ /\\ /\\ /\\ /\\ /\\ /\\ /\\ /\\ /\\ /\\...\n",
    "   \\  /  \\  /  \\  /  \\  /  \\  /  \\  /  \\     \n",
    "     /    \\      /    \\      /    \\          \n",
    "C1  /\\ /\\ /\\ /\\ /\\ /\\ /\\ /\\ /\\ /\\ /\\  /\\ /...\\\n",
    "X: 0  1  2  3  4  5  6  7  8  9  10 11 12 ... 111\n",
    "Y: 1  2  3  4  5  6  7  8  9  10 11 12 13 ... 112\n",
    " /14 15 16 17 18 19 20 21 22  23 24 25 26 ... 125\n",
    "```"
   ]
  },
  {
   "cell_type": "code",
   "execution_count": null,
   "metadata": {
    "id": "vZ-r9kpHC8Zj"
   },
   "outputs": [],
   "source": [
    "tf.random.set_seed(42)  # extra code – ensures reproducibility\n",
    "wavenet_model = tf.keras.Sequential()\n",
    "wavenet_model.add(tf.keras.layers.InputLayer(input_shape=[None, 5]))\n",
    "for rate in (1, 2, 4, 8) * 2:\n",
    "    wavenet_model.add(tf.keras.layers.Conv1D(\n",
    "        filters=32, kernel_size=2, padding=\"causal\", activation=\"relu\",\n",
    "        dilation_rate=rate))\n",
    "wavenet_model.add(tf.keras.layers.Conv1D(filters=14, kernel_size=1))"
   ]
  },
  {
   "cell_type": "markdown",
   "metadata": {
    "id": "04u33XxqC8Zj"
   },
   "source": [
    "Just training for 5 epochs to show that it works (you can increase this if you want):"
   ]
  },
  {
   "cell_type": "code",
   "execution_count": null,
   "metadata": {
    "id": "U6JqcQT9C8Zk",
    "outputId": "9bf42c9d-5658-4c4a-e1de-d53c54fdd374"
   },
   "outputs": [
    {
     "name": "stdout",
     "output_type": "stream",
     "text": [
      "Epoch 1/5\n",
      "31/31 [==============================] - 2s 26ms/step - loss: 0.0796 - mae: 0.3159 - val_loss: 0.0239 - val_mae: 0.1723\n",
      "Epoch 2/5\n",
      "31/31 [==============================] - 1s 16ms/step - loss: 0.0172 - mae: 0.1585 - val_loss: 0.0182 - val_mae: 0.1545\n",
      "Epoch 3/5\n",
      "31/31 [==============================] - 1s 16ms/step - loss: 0.0159 - mae: 0.1561 - val_loss: 0.0181 - val_mae: 0.1505\n",
      "Epoch 4/5\n",
      "31/31 [==============================] - 1s 16ms/step - loss: 0.0155 - mae: 0.1535 - val_loss: 0.0175 - val_mae: 0.1479\n",
      "Epoch 5/5\n",
      "31/31 [==============================] - 1s 17ms/step - loss: 0.0147 - mae: 0.1488 - val_loss: 0.0166 - val_mae: 0.1407\n",
      "1/1 [==============================] - 0s 74ms/step - loss: 0.0166 - mae: 0.1407\n"
     ]
    },
    {
     "data": {
      "text/plain": [
       "140713.95993232727"
      ]
     },
     "execution_count": 76,
     "metadata": {},
     "output_type": "execute_result"
    }
   ],
   "source": [
    "fit_and_evaluate(wavenet_model, longer_train, longer_valid,\n",
    "                 learning_rate=0.1, epochs=5)"
   ]
  },
  {
   "cell_type": "markdown",
   "metadata": {
    "id": "zJxVnYpPC8Zk"
   },
   "source": [
    "# Extra Material – Wavenet Implementation"
   ]
  },
  {
   "cell_type": "markdown",
   "metadata": {
    "id": "QFN31--NC8Zk"
   },
   "source": [
    "Here is the original WaveNet defined in the paper: it uses Gated Activation Units instead of ReLU and parametrized skip connections, plus it pads with zeros on the left to avoid getting shorter and shorter sequences:"
   ]
  },
  {
   "cell_type": "code",
   "execution_count": null,
   "metadata": {
    "id": "3BJRPB9fC8Zk"
   },
   "outputs": [],
   "source": [
    "class GatedActivationUnit(tf.keras.layers.Layer):\n",
    "    def __init__(self, activation=\"tanh\", **kwargs):\n",
    "        super().__init__(**kwargs)\n",
    "        self.activation = tf.keras.activations.get(activation)\n",
    "\n",
    "    def call(self, inputs):\n",
    "        n_filters = inputs.shape[-1] // 2\n",
    "        linear_output = self.activation(inputs[..., :n_filters])\n",
    "        gate = tf.keras.activations.sigmoid(inputs[..., n_filters:])\n",
    "        return self.activation(linear_output) * gate"
   ]
  },
  {
   "cell_type": "code",
   "execution_count": null,
   "metadata": {
    "id": "mUoxEIJCC8Zk"
   },
   "outputs": [],
   "source": [
    "def wavenet_residual_block(inputs, n_filters, dilation_rate):\n",
    "    z = tf.keras.layers.Conv1D(2 * n_filters, kernel_size=2, padding=\"causal\",\n",
    "                            dilation_rate=dilation_rate)(inputs)\n",
    "    z = GatedActivationUnit()(z)\n",
    "    z = tf.keras.layers.Conv1D(n_filters, kernel_size=1)(z)\n",
    "    return tf.keras.layers.Add()([z, inputs]), z"
   ]
  },
  {
   "cell_type": "code",
   "execution_count": null,
   "metadata": {
    "id": "XwPtdW8NC8Zk"
   },
   "outputs": [],
   "source": [
    "tf.random.set_seed(42)\n",
    "\n",
    "n_layers_per_block = 3  # 10 in the paper\n",
    "n_blocks = 1  # 3 in the paper\n",
    "n_filters = 32  # 128 in the paper\n",
    "n_outputs = 14  # 256 in the paper\n",
    "\n",
    "inputs = tf.keras.layers.Input(shape=[None, 5])\n",
    "z = tf.keras.layers.Conv1D(n_filters, kernel_size=2, padding=\"causal\")(inputs)\n",
    "skip_to_last = []\n",
    "for dilation_rate in [2**i for i in range(n_layers_per_block)] * n_blocks:\n",
    "    z, skip = wavenet_residual_block(z, n_filters, dilation_rate)\n",
    "    skip_to_last.append(skip)\n",
    "\n",
    "z = tf.keras.activations.relu(tf.keras.layers.Add()(skip_to_last))\n",
    "z = tf.keras.layers.Conv1D(n_filters, kernel_size=1, activation=\"relu\")(z)\n",
    "Y_preds = tf.keras.layers.Conv1D(n_outputs, kernel_size=1)(z)\n",
    "\n",
    "full_wavenet_model = tf.keras.Model(inputs=[inputs], outputs=[Y_preds])"
   ]
  },
  {
   "cell_type": "markdown",
   "metadata": {
    "id": "5qtCwhkWC8Zk"
   },
   "source": [
    "Just training for 5 epochs to show that it works (you can increase this if you want):"
   ]
  },
  {
   "cell_type": "code",
   "execution_count": null,
   "metadata": {
    "id": "Lih-2V9dC8Zk",
    "outputId": "cbca1ad2-0df2-4472-9d1b-065bcb02dfa1"
   },
   "outputs": [
    {
     "name": "stdout",
     "output_type": "stream",
     "text": [
      "Epoch 1/5\n",
      "31/31 [==============================] - 2s 26ms/step - loss: 0.0706 - mae: 0.2861 - val_loss: 0.0209 - val_mae: 0.1630\n",
      "Epoch 2/5\n",
      "31/31 [==============================] - 1s 18ms/step - loss: 0.0137 - mae: 0.1398 - val_loss: 0.0140 - val_mae: 0.1273\n",
      "Epoch 3/5\n",
      "31/31 [==============================] - 1s 20ms/step - loss: 0.0104 - mae: 0.1190 - val_loss: 0.0116 - val_mae: 0.1125\n",
      "Epoch 4/5\n",
      "31/31 [==============================] - 1s 18ms/step - loss: 0.0086 - mae: 0.1048 - val_loss: 0.0096 - val_mae: 0.1020\n",
      "Epoch 5/5\n",
      "31/31 [==============================] - 1s 19ms/step - loss: 0.0073 - mae: 0.0942 - val_loss: 0.0087 - val_mae: 0.0953\n",
      "1/1 [==============================] - 0s 71ms/step - loss: 0.0087 - mae: 0.0953\n"
     ]
    },
    {
     "data": {
      "text/plain": [
       "95349.08086061478"
      ]
     },
     "execution_count": 80,
     "metadata": {},
     "output_type": "execute_result"
    }
   ],
   "source": [
    "fit_and_evaluate(full_wavenet_model, longer_train, longer_valid,\n",
    "                 learning_rate=0.1, epochs=5)"
   ]
  },
  {
   "cell_type": "markdown",
   "metadata": {
    "id": "grtp86hKC8Zk"
   },
   "source": [
    "In this chapter we explored the fundamentals of RNNs and used them to process sequences (namely, time series). In the process we also looked at other ways to process sequences, including CNNs. In the next chapter we will use RNNs for Natural Language Processing, and we will learn more about RNNs (bidirectional RNNs, stateful vs stateless RNNs, Encoder–Decoders, and Attention-augmented Encoder-Decoders). We will also look at the Transformer, an Attention-only architecture."
   ]
  }
 ],
 "metadata": {
  "accelerator": "GPU",
  "colab": {
   "provenance": [],
   "toc_visible": true
  },
  "kernelspec": {
   "display_name": "Python 3 (ipykernel)",
   "language": "python",
   "name": "python3"
  },
  "language_info": {
   "codemirror_mode": {
    "name": "ipython",
    "version": 3
   },
   "file_extension": ".py",
   "mimetype": "text/x-python",
   "name": "python",
   "nbconvert_exporter": "python",
   "pygments_lexer": "ipython3",
   "version": "3.11.7"
  },
  "nav_menu": {},
  "toc": {
   "navigate_menu": true,
   "number_sections": true,
   "sideBar": true,
   "threshold": 6,
   "toc_cell": false,
   "toc_section_display": "block",
   "toc_window_display": false
  }
 },
 "nbformat": 4,
 "nbformat_minor": 4
}

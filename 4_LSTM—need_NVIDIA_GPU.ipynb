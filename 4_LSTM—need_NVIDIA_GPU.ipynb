{
  "cells": [
    {
      "cell_type": "markdown",
      "metadata": {
        "id": "tZJKseROC8ZP"
      },
      "source": [
        "# LSTM, GRUs and CNNs\n",
        "\n",
        "TODO:\n",
        "\n",
        "- [ ] WaveNet model not working well, need to check it"
      ]
    },
    {
      "cell_type": "markdown",
      "metadata": {
        "id": "dFXIv9qNpKzt",
        "tags": []
      },
      "source": [
        "# Initialize"
      ]
    },
    {
      "cell_type": "markdown",
      "metadata": {
        "id": "-vnvOFrpC8ZS"
      },
      "source": [
        "## Packages"
      ]
    },
    {
      "cell_type": "markdown",
      "metadata": {
        "id": "Qbsh01vQAHN9"
      },
      "source": [
        "### General"
      ]
    },
    {
      "cell_type": "code",
      "execution_count": 55,
      "metadata": {
        "id": "LzJbYO9yAHN9"
      },
      "outputs": [],
      "source": [
        "import os, sys\n",
        "import matplotlib.pyplot as plt\n",
        "import numpy as np\n",
        "from pathlib import Path\n",
        "from importlib import reload"
      ]
    },
    {
      "cell_type": "markdown",
      "metadata": {
        "id": "jGBjeaCXkhKX"
      },
      "source": [
        "Save data to Google Drive"
      ]
    },
    {
      "cell_type": "code",
      "execution_count": 56,
      "metadata": {
        "colab": {
          "base_uri": "https://localhost:8080/"
        },
        "id": "geDsLyHTkl1_",
        "outputId": "dcc6b600-df2e-4587-d2ae-3d55e649948a"
      },
      "outputs": [
        {
          "output_type": "stream",
          "name": "stdout",
          "text": [
            "Drive already mounted at /content/drive/; to attempt to forcibly remount, call drive.mount(\"/content/drive/\", force_remount=True).\n",
            "Running in Google Colab\n"
          ]
        }
      ],
      "source": [
        "try:\n",
        "    from google.colab import drive\n",
        "    drive.mount('/content/drive/')\n",
        "    print(\"Running in Google Colab\")\n",
        "    in_colab=True\n",
        "except:\n",
        "    print(\"Running locally\")\n",
        "    in_colab=False"
      ]
    },
    {
      "cell_type": "markdown",
      "metadata": {
        "id": "91qChDMMEAm2"
      },
      "source": [
        "Formatting"
      ]
    },
    {
      "cell_type": "code",
      "execution_count": 57,
      "metadata": {
        "id": "ZP5HJRVZjxb3"
      },
      "outputs": [],
      "source": [
        "# For ASCII plots of training progress\n",
        "try:\n",
        "    import asciichartpy\n",
        "except ImportError:\n",
        "    !pip install asciichartpy\n",
        "    import asciichartpy\n",
        "\n",
        "from IPython.display import clear_output"
      ]
    },
    {
      "cell_type": "markdown",
      "metadata": {
        "id": "gmwI3U72AHOA"
      },
      "source": [
        "### ML"
      ]
    },
    {
      "cell_type": "code",
      "execution_count": 58,
      "metadata": {
        "id": "0Piq5se2pKzx"
      },
      "outputs": [],
      "source": [
        "import torch\n",
        "from torch.utils.data import Dataset, DataLoader\n",
        "import torch.nn as nn\n",
        "import torch.optim as optim\n",
        "import torch.nn.functional as F\n",
        "import copy"
      ]
    },
    {
      "cell_type": "markdown",
      "metadata": {
        "id": "YTsawKlapKzy"
      },
      "source": [
        "Enables GPU support"
      ]
    },
    {
      "cell_type": "code",
      "execution_count": 59,
      "metadata": {
        "colab": {
          "base_uri": "https://localhost:8080/"
        },
        "id": "Ekxzo6pOpKzy",
        "outputId": "537b93a4-38ee-4792-e901-774ee957b9b0"
      },
      "outputs": [
        {
          "output_type": "stream",
          "name": "stdout",
          "text": [
            "Device Name: Tesla T4\n"
          ]
        }
      ],
      "source": [
        "if not torch.cuda.is_available():\n",
        "    print(\"No GPU was detected. Neural nets can be very slow without a GPU.\")\n",
        "    if \"google.colab\" in sys.modules:\n",
        "        print(\"Go to Runtime > Change runtime and select a GPU hardware accelerator.\")\n",
        "    if \"kaggle_secrets\" in sys.modules:\n",
        "        print(\"Go to Settings > Accelerator and select GPU.\")\n",
        "else:\n",
        "    # Iterate through all available GPU devices and print their names.\n",
        "    for idx in range(torch.cuda.device_count()):\n",
        "        print(f\"Device Name: {torch.cuda.get_device_name(idx)}\")"
      ]
    },
    {
      "cell_type": "code",
      "execution_count": 60,
      "metadata": {
        "id": "uw0mWMmTC8ZV"
      },
      "outputs": [],
      "source": [
        "import pandas as pd"
      ]
    },
    {
      "cell_type": "markdown",
      "metadata": {
        "id": "bbxQuILxC8Zc"
      },
      "source": [
        "## Helper functions\n",
        "\n",
        "Here we define a couple of helper functions that we will reuse several times. Most of magic happens inside `my_functions.py`."
      ]
    },
    {
      "cell_type": "code",
      "execution_count": 61,
      "metadata": {
        "id": "x6xH0M96RMRK"
      },
      "outputs": [],
      "source": [
        "if in_colab:\n",
        "  sys.path.append('/content/drive/MyDrive/Colab Notebooks/pytorch')\n",
        "\n",
        "import my_functions as mine"
      ]
    },
    {
      "cell_type": "markdown",
      "metadata": {
        "id": "aN58qjsoC8Zc"
      },
      "source": [
        "## Data"
      ]
    },
    {
      "cell_type": "markdown",
      "metadata": {
        "id": "w6y_xbmtC8ZV"
      },
      "source": [
        "### Get data"
      ]
    },
    {
      "cell_type": "code",
      "execution_count": 62,
      "metadata": {
        "colab": {
          "base_uri": "https://localhost:8080/"
        },
        "id": "JhtKOCfAC8ZW",
        "outputId": "939c69ab-f09c-4dbf-8298-f861078df3e5"
      },
      "outputs": [
        {
          "output_type": "stream",
          "name": "stdout",
          "text": [
            "--2025-04-10 22:24:35--  https://github.com/ageron/data/raw/main/ridership.tgz\n",
            "Resolving github.com (github.com)... 20.205.243.166\n",
            "Connecting to github.com (github.com)|20.205.243.166|:443... connected.\n",
            "HTTP request sent, awaiting response... 302 Found\n",
            "Location: https://raw.githubusercontent.com/ageron/data/main/ridership.tgz [following]\n",
            "--2025-04-10 22:24:35--  https://raw.githubusercontent.com/ageron/data/main/ridership.tgz\n",
            "Resolving raw.githubusercontent.com (raw.githubusercontent.com)... 185.199.108.133, 185.199.109.133, 185.199.110.133, ...\n",
            "Connecting to raw.githubusercontent.com (raw.githubusercontent.com)|185.199.108.133|:443... connected.\n",
            "HTTP request sent, awaiting response... 200 OK\n",
            "Length: 108512 (106K) [application/octet-stream]\n",
            "Saving to: ‘ridership.tgz’\n",
            "\n",
            "ridership.tgz       100%[===================>] 105.97K  --.-KB/s    in 0.002s  \n",
            "\n",
            "2025-04-10 22:24:36 (52.9 MB/s) - ‘ridership.tgz’ saved [108512/108512]\n",
            "\n",
            "mkdir: cannot create directory ‘data’: File exists\n",
            "ridership/\n",
            "ridership/CTA_-_Ridership_-_Daily_Boarding_Totals.csv\n"
          ]
        }
      ],
      "source": [
        "!wget https://github.com/ageron/data/raw/main/ridership.tgz\n",
        "!mkdir data\n",
        "!mv ridership.tgz data\n",
        "!tar -xvzf data/ridership.tgz --directory=data/"
      ]
    },
    {
      "cell_type": "code",
      "execution_count": 63,
      "metadata": {
        "id": "9HaMrRBHC8ZW"
      },
      "outputs": [],
      "source": [
        "# read data\n",
        "path = Path(\"data/ridership/CTA_-_Ridership_-_Daily_Boarding_Totals.csv\")\n",
        "df = pd.read_csv(path, parse_dates=[\"service_date\"])\n",
        "\n",
        "# some cleaning\n",
        "df.columns = [\"date\", \"day_type\", \"bus\", \"rail\", \"total\"]  # shorter names\n",
        "df = df.sort_values(\"date\").set_index(\"date\")\n",
        "df = df.drop(\"total\", axis=1)  # no need for total, it's just bus + rail\n",
        "df = df.drop_duplicates()  # remove duplicated months (2011-10 and 2014-07)"
      ]
    },
    {
      "cell_type": "markdown",
      "metadata": {
        "id": "Vd2uIWoxC8ZX"
      },
      "source": [
        "### Prepares data\n",
        "\n",
        "Our goal will be to forecast tomorrow’s ridership based\n",
        "on the ridership of the past 8 weeks of data (56 days). The inputs to our model\n",
        "will therefore be sequences (usually a single sequence per day once the model is in\n",
        "production), each containing 56 values from time steps $t – 55$ to $t$. For each input\n",
        "sequence, the model will output 14 values in a sequence to vector fashion: the forecasts for time step $t + 14$."
      ]
    },
    {
      "cell_type": "markdown",
      "metadata": {
        "id": "SxYOoLwyC8ZY"
      },
      "source": [
        "Before we continue looking at the data, let's **split the time series into three periods, for training, validation and testing**. We won't look at the test data for now:"
      ]
    },
    {
      "cell_type": "code",
      "execution_count": 64,
      "metadata": {
        "id": "yrBVzaUoC8ZY"
      },
      "outputs": [],
      "source": [
        "rail_train = df[\"rail\"][\"2016-01\":\"2018-12\"] / 1e6\n",
        "rail_valid = df[\"rail\"][\"2019-01\":\"2019-05\"] / 1e6\n",
        "rail_test = df[\"rail\"][\"2019-06\":] / 1e6"
      ]
    },
    {
      "cell_type": "markdown",
      "metadata": {
        "id": "agOx3mYvtkXB"
      },
      "source": [
        "Defines the dataframe and features. Now `df_mulvar` is a DataFrame with five columns: the bus and rail data, plus three\n",
        "columns containing the one-hot encoding of the next day’s type (recall that there are\n",
        "three possible day types, W, A, and U)."
      ]
    },
    {
      "cell_type": "code",
      "execution_count": 65,
      "metadata": {
        "id": "Zk8eCXwfC8Zd"
      },
      "outputs": [],
      "source": [
        "df_mulvar = df[[\"bus\", \"rail\"]] / 1e6  # use both bus & rail series as input\n",
        "df_mulvar[\"next_day_type\"] = df[\"day_type\"].shift(-1)  # we know tomorrow's type\n",
        "df_mulvar = pd.get_dummies(df_mulvar, dtype=int)  # one-hot encode the day type"
      ]
    },
    {
      "cell_type": "code",
      "execution_count": 66,
      "metadata": {
        "colab": {
          "base_uri": "https://localhost:8080/",
          "height": 238
        },
        "id": "EvcSw-vIuJqg",
        "outputId": "35d9ec02-fd6f-4f38-e659-44c872d9cc30"
      },
      "outputs": [
        {
          "output_type": "execute_result",
          "data": {
            "text/plain": [
              "                 bus      rail  next_day_type_A  next_day_type_U  \\\n",
              "date                                                               \n",
              "2001-01-01  0.297192  0.126455                0                0   \n",
              "2001-01-02  0.780827  0.501952                0                0   \n",
              "2001-01-03  0.824923  0.536432                0                0   \n",
              "2001-01-04  0.870021  0.550011                0                0   \n",
              "2001-01-05  0.890426  0.557917                1                0   \n",
              "\n",
              "            next_day_type_W  \n",
              "date                         \n",
              "2001-01-01                1  \n",
              "2001-01-02                1  \n",
              "2001-01-03                1  \n",
              "2001-01-04                1  \n",
              "2001-01-05                0  "
            ],
            "text/html": [
              "\n",
              "  <div id=\"df-05f13779-df82-44ef-86f5-69969ca1ae07\" class=\"colab-df-container\">\n",
              "    <div>\n",
              "<style scoped>\n",
              "    .dataframe tbody tr th:only-of-type {\n",
              "        vertical-align: middle;\n",
              "    }\n",
              "\n",
              "    .dataframe tbody tr th {\n",
              "        vertical-align: top;\n",
              "    }\n",
              "\n",
              "    .dataframe thead th {\n",
              "        text-align: right;\n",
              "    }\n",
              "</style>\n",
              "<table border=\"1\" class=\"dataframe\">\n",
              "  <thead>\n",
              "    <tr style=\"text-align: right;\">\n",
              "      <th></th>\n",
              "      <th>bus</th>\n",
              "      <th>rail</th>\n",
              "      <th>next_day_type_A</th>\n",
              "      <th>next_day_type_U</th>\n",
              "      <th>next_day_type_W</th>\n",
              "    </tr>\n",
              "    <tr>\n",
              "      <th>date</th>\n",
              "      <th></th>\n",
              "      <th></th>\n",
              "      <th></th>\n",
              "      <th></th>\n",
              "      <th></th>\n",
              "    </tr>\n",
              "  </thead>\n",
              "  <tbody>\n",
              "    <tr>\n",
              "      <th>2001-01-01</th>\n",
              "      <td>0.297192</td>\n",
              "      <td>0.126455</td>\n",
              "      <td>0</td>\n",
              "      <td>0</td>\n",
              "      <td>1</td>\n",
              "    </tr>\n",
              "    <tr>\n",
              "      <th>2001-01-02</th>\n",
              "      <td>0.780827</td>\n",
              "      <td>0.501952</td>\n",
              "      <td>0</td>\n",
              "      <td>0</td>\n",
              "      <td>1</td>\n",
              "    </tr>\n",
              "    <tr>\n",
              "      <th>2001-01-03</th>\n",
              "      <td>0.824923</td>\n",
              "      <td>0.536432</td>\n",
              "      <td>0</td>\n",
              "      <td>0</td>\n",
              "      <td>1</td>\n",
              "    </tr>\n",
              "    <tr>\n",
              "      <th>2001-01-04</th>\n",
              "      <td>0.870021</td>\n",
              "      <td>0.550011</td>\n",
              "      <td>0</td>\n",
              "      <td>0</td>\n",
              "      <td>1</td>\n",
              "    </tr>\n",
              "    <tr>\n",
              "      <th>2001-01-05</th>\n",
              "      <td>0.890426</td>\n",
              "      <td>0.557917</td>\n",
              "      <td>1</td>\n",
              "      <td>0</td>\n",
              "      <td>0</td>\n",
              "    </tr>\n",
              "  </tbody>\n",
              "</table>\n",
              "</div>\n",
              "    <div class=\"colab-df-buttons\">\n",
              "\n",
              "  <div class=\"colab-df-container\">\n",
              "    <button class=\"colab-df-convert\" onclick=\"convertToInteractive('df-05f13779-df82-44ef-86f5-69969ca1ae07')\"\n",
              "            title=\"Convert this dataframe to an interactive table.\"\n",
              "            style=\"display:none;\">\n",
              "\n",
              "  <svg xmlns=\"http://www.w3.org/2000/svg\" height=\"24px\" viewBox=\"0 -960 960 960\">\n",
              "    <path d=\"M120-120v-720h720v720H120Zm60-500h600v-160H180v160Zm220 220h160v-160H400v160Zm0 220h160v-160H400v160ZM180-400h160v-160H180v160Zm440 0h160v-160H620v160ZM180-180h160v-160H180v160Zm440 0h160v-160H620v160Z\"/>\n",
              "  </svg>\n",
              "    </button>\n",
              "\n",
              "  <style>\n",
              "    .colab-df-container {\n",
              "      display:flex;\n",
              "      gap: 12px;\n",
              "    }\n",
              "\n",
              "    .colab-df-convert {\n",
              "      background-color: #E8F0FE;\n",
              "      border: none;\n",
              "      border-radius: 50%;\n",
              "      cursor: pointer;\n",
              "      display: none;\n",
              "      fill: #1967D2;\n",
              "      height: 32px;\n",
              "      padding: 0 0 0 0;\n",
              "      width: 32px;\n",
              "    }\n",
              "\n",
              "    .colab-df-convert:hover {\n",
              "      background-color: #E2EBFA;\n",
              "      box-shadow: 0px 1px 2px rgba(60, 64, 67, 0.3), 0px 1px 3px 1px rgba(60, 64, 67, 0.15);\n",
              "      fill: #174EA6;\n",
              "    }\n",
              "\n",
              "    .colab-df-buttons div {\n",
              "      margin-bottom: 4px;\n",
              "    }\n",
              "\n",
              "    [theme=dark] .colab-df-convert {\n",
              "      background-color: #3B4455;\n",
              "      fill: #D2E3FC;\n",
              "    }\n",
              "\n",
              "    [theme=dark] .colab-df-convert:hover {\n",
              "      background-color: #434B5C;\n",
              "      box-shadow: 0px 1px 3px 1px rgba(0, 0, 0, 0.15);\n",
              "      filter: drop-shadow(0px 1px 2px rgba(0, 0, 0, 0.3));\n",
              "      fill: #FFFFFF;\n",
              "    }\n",
              "  </style>\n",
              "\n",
              "    <script>\n",
              "      const buttonEl =\n",
              "        document.querySelector('#df-05f13779-df82-44ef-86f5-69969ca1ae07 button.colab-df-convert');\n",
              "      buttonEl.style.display =\n",
              "        google.colab.kernel.accessAllowed ? 'block' : 'none';\n",
              "\n",
              "      async function convertToInteractive(key) {\n",
              "        const element = document.querySelector('#df-05f13779-df82-44ef-86f5-69969ca1ae07');\n",
              "        const dataTable =\n",
              "          await google.colab.kernel.invokeFunction('convertToInteractive',\n",
              "                                                    [key], {});\n",
              "        if (!dataTable) return;\n",
              "\n",
              "        const docLinkHtml = 'Like what you see? Visit the ' +\n",
              "          '<a target=\"_blank\" href=https://colab.research.google.com/notebooks/data_table.ipynb>data table notebook</a>'\n",
              "          + ' to learn more about interactive tables.';\n",
              "        element.innerHTML = '';\n",
              "        dataTable['output_type'] = 'display_data';\n",
              "        await google.colab.output.renderOutput(dataTable, element);\n",
              "        const docLink = document.createElement('div');\n",
              "        docLink.innerHTML = docLinkHtml;\n",
              "        element.appendChild(docLink);\n",
              "      }\n",
              "    </script>\n",
              "  </div>\n",
              "\n",
              "\n",
              "<div id=\"df-a1c913db-73e7-43e3-a7c5-eea268e82bf9\">\n",
              "  <button class=\"colab-df-quickchart\" onclick=\"quickchart('df-a1c913db-73e7-43e3-a7c5-eea268e82bf9')\"\n",
              "            title=\"Suggest charts\"\n",
              "            style=\"display:none;\">\n",
              "\n",
              "<svg xmlns=\"http://www.w3.org/2000/svg\" height=\"24px\"viewBox=\"0 0 24 24\"\n",
              "     width=\"24px\">\n",
              "    <g>\n",
              "        <path d=\"M19 3H5c-1.1 0-2 .9-2 2v14c0 1.1.9 2 2 2h14c1.1 0 2-.9 2-2V5c0-1.1-.9-2-2-2zM9 17H7v-7h2v7zm4 0h-2V7h2v10zm4 0h-2v-4h2v4z\"/>\n",
              "    </g>\n",
              "</svg>\n",
              "  </button>\n",
              "\n",
              "<style>\n",
              "  .colab-df-quickchart {\n",
              "      --bg-color: #E8F0FE;\n",
              "      --fill-color: #1967D2;\n",
              "      --hover-bg-color: #E2EBFA;\n",
              "      --hover-fill-color: #174EA6;\n",
              "      --disabled-fill-color: #AAA;\n",
              "      --disabled-bg-color: #DDD;\n",
              "  }\n",
              "\n",
              "  [theme=dark] .colab-df-quickchart {\n",
              "      --bg-color: #3B4455;\n",
              "      --fill-color: #D2E3FC;\n",
              "      --hover-bg-color: #434B5C;\n",
              "      --hover-fill-color: #FFFFFF;\n",
              "      --disabled-bg-color: #3B4455;\n",
              "      --disabled-fill-color: #666;\n",
              "  }\n",
              "\n",
              "  .colab-df-quickchart {\n",
              "    background-color: var(--bg-color);\n",
              "    border: none;\n",
              "    border-radius: 50%;\n",
              "    cursor: pointer;\n",
              "    display: none;\n",
              "    fill: var(--fill-color);\n",
              "    height: 32px;\n",
              "    padding: 0;\n",
              "    width: 32px;\n",
              "  }\n",
              "\n",
              "  .colab-df-quickchart:hover {\n",
              "    background-color: var(--hover-bg-color);\n",
              "    box-shadow: 0 1px 2px rgba(60, 64, 67, 0.3), 0 1px 3px 1px rgba(60, 64, 67, 0.15);\n",
              "    fill: var(--button-hover-fill-color);\n",
              "  }\n",
              "\n",
              "  .colab-df-quickchart-complete:disabled,\n",
              "  .colab-df-quickchart-complete:disabled:hover {\n",
              "    background-color: var(--disabled-bg-color);\n",
              "    fill: var(--disabled-fill-color);\n",
              "    box-shadow: none;\n",
              "  }\n",
              "\n",
              "  .colab-df-spinner {\n",
              "    border: 2px solid var(--fill-color);\n",
              "    border-color: transparent;\n",
              "    border-bottom-color: var(--fill-color);\n",
              "    animation:\n",
              "      spin 1s steps(1) infinite;\n",
              "  }\n",
              "\n",
              "  @keyframes spin {\n",
              "    0% {\n",
              "      border-color: transparent;\n",
              "      border-bottom-color: var(--fill-color);\n",
              "      border-left-color: var(--fill-color);\n",
              "    }\n",
              "    20% {\n",
              "      border-color: transparent;\n",
              "      border-left-color: var(--fill-color);\n",
              "      border-top-color: var(--fill-color);\n",
              "    }\n",
              "    30% {\n",
              "      border-color: transparent;\n",
              "      border-left-color: var(--fill-color);\n",
              "      border-top-color: var(--fill-color);\n",
              "      border-right-color: var(--fill-color);\n",
              "    }\n",
              "    40% {\n",
              "      border-color: transparent;\n",
              "      border-right-color: var(--fill-color);\n",
              "      border-top-color: var(--fill-color);\n",
              "    }\n",
              "    60% {\n",
              "      border-color: transparent;\n",
              "      border-right-color: var(--fill-color);\n",
              "    }\n",
              "    80% {\n",
              "      border-color: transparent;\n",
              "      border-right-color: var(--fill-color);\n",
              "      border-bottom-color: var(--fill-color);\n",
              "    }\n",
              "    90% {\n",
              "      border-color: transparent;\n",
              "      border-bottom-color: var(--fill-color);\n",
              "    }\n",
              "  }\n",
              "</style>\n",
              "\n",
              "  <script>\n",
              "    async function quickchart(key) {\n",
              "      const quickchartButtonEl =\n",
              "        document.querySelector('#' + key + ' button');\n",
              "      quickchartButtonEl.disabled = true;  // To prevent multiple clicks.\n",
              "      quickchartButtonEl.classList.add('colab-df-spinner');\n",
              "      try {\n",
              "        const charts = await google.colab.kernel.invokeFunction(\n",
              "            'suggestCharts', [key], {});\n",
              "      } catch (error) {\n",
              "        console.error('Error during call to suggestCharts:', error);\n",
              "      }\n",
              "      quickchartButtonEl.classList.remove('colab-df-spinner');\n",
              "      quickchartButtonEl.classList.add('colab-df-quickchart-complete');\n",
              "    }\n",
              "    (() => {\n",
              "      let quickchartButtonEl =\n",
              "        document.querySelector('#df-a1c913db-73e7-43e3-a7c5-eea268e82bf9 button');\n",
              "      quickchartButtonEl.style.display =\n",
              "        google.colab.kernel.accessAllowed ? 'block' : 'none';\n",
              "    })();\n",
              "  </script>\n",
              "</div>\n",
              "\n",
              "    </div>\n",
              "  </div>\n"
            ],
            "application/vnd.google.colaboratory.intrinsic+json": {
              "type": "dataframe",
              "variable_name": "df_mulvar",
              "summary": "{\n  \"name\": \"df_mulvar\",\n  \"rows\": 7639,\n  \"fields\": [\n    {\n      \"column\": \"date\",\n      \"properties\": {\n        \"dtype\": \"date\",\n        \"min\": \"2001-01-01 00:00:00\",\n        \"max\": \"2021-11-30 00:00:00\",\n        \"num_unique_values\": 7639,\n        \"samples\": [\n          \"2002-11-15 00:00:00\",\n          \"2017-03-26 00:00:00\",\n          \"2007-09-24 00:00:00\"\n        ],\n        \"semantic_type\": \"\",\n        \"description\": \"\"\n      }\n    },\n    {\n      \"column\": \"bus\",\n      \"properties\": {\n        \"dtype\": \"number\",\n        \"std\": 0.26255110950317523,\n        \"min\": 0.080783,\n        \"max\": 1.211992,\n        \"num_unique_values\": 7604,\n        \"samples\": [\n          0.523895,\n          0.805441,\n          0.807829\n        ],\n        \"semantic_type\": \"\",\n        \"description\": \"\"\n      }\n    },\n    {\n      \"column\": \"rail\",\n      \"properties\": {\n        \"dtype\": \"number\",\n        \"std\": 0.20539512873290036,\n        \"min\": 0.023544,\n        \"max\": 1.146516,\n        \"num_unique_values\": 7590,\n        \"samples\": [\n          0.615377,\n          0.635754,\n          0.700814\n        ],\n        \"semantic_type\": \"\",\n        \"description\": \"\"\n      }\n    },\n    {\n      \"column\": \"next_day_type_A\",\n      \"properties\": {\n        \"dtype\": \"number\",\n        \"std\": 0,\n        \"min\": 0,\n        \"max\": 1,\n        \"num_unique_values\": 2,\n        \"samples\": [\n          1,\n          0\n        ],\n        \"semantic_type\": \"\",\n        \"description\": \"\"\n      }\n    },\n    {\n      \"column\": \"next_day_type_U\",\n      \"properties\": {\n        \"dtype\": \"number\",\n        \"std\": 0,\n        \"min\": 0,\n        \"max\": 1,\n        \"num_unique_values\": 2,\n        \"samples\": [\n          1,\n          0\n        ],\n        \"semantic_type\": \"\",\n        \"description\": \"\"\n      }\n    },\n    {\n      \"column\": \"next_day_type_W\",\n      \"properties\": {\n        \"dtype\": \"number\",\n        \"std\": 0,\n        \"min\": 0,\n        \"max\": 1,\n        \"num_unique_values\": 2,\n        \"samples\": [\n          0,\n          1\n        ],\n        \"semantic_type\": \"\",\n        \"description\": \"\"\n      }\n    }\n  ]\n}"
            }
          },
          "metadata": {},
          "execution_count": 66
        }
      ],
      "source": [
        "df_mulvar.head()"
      ]
    },
    {
      "cell_type": "markdown",
      "metadata": {
        "id": "lbMjMlJ_tpgL"
      },
      "source": [
        "Next we can proceed much like we did earlier.\n",
        "First we split the data into three periods, for training, validation, and testing:"
      ]
    },
    {
      "cell_type": "code",
      "execution_count": 67,
      "metadata": {
        "id": "YfmD_evFC8Zd"
      },
      "outputs": [],
      "source": [
        "mulvar_train = df_mulvar[\"2016-01\":\"2018-12\"]\n",
        "mulvar_valid = df_mulvar[\"2019-01\":\"2019-05\"]\n",
        "mulvar_test = df_mulvar[\"2019-06\":]"
      ]
    },
    {
      "cell_type": "markdown",
      "metadata": {
        "id": "OGn7SnRvAHOG"
      },
      "source": [
        "Training and validation data"
      ]
    },
    {
      "cell_type": "code",
      "execution_count": 68,
      "metadata": {
        "id": "9UNbX-g8yLfC"
      },
      "outputs": [],
      "source": [
        "ahead = 14       # forecast horizon\n",
        "seq_length=56"
      ]
    },
    {
      "cell_type": "code",
      "execution_count": 69,
      "metadata": {
        "id": "YbSFWf1BgsqT"
      },
      "outputs": [],
      "source": [
        "class TSDataset(Dataset):\n",
        "    def __init__(self, series, history, ahead=14, target_col=1):\n",
        "        \"\"\"\n",
        "        Args:\n",
        "            series (np.ndarray): the full time series data with shape (num_timesteps, num_features).\n",
        "            history (int): the number of time steps to use as input (i.e. seq_length).\n",
        "            ahead (int): the forecast horizon (number of steps ahead).\n",
        "            target_col (int): the index of the target column (e.g. 1).\n",
        "\n",
        "        The dataset windows are of length 'history + ahead'. For each window, the first\n",
        "        'history' time steps become the input features and the following 'ahead' steps (from\n",
        "        the target column) become the target.\n",
        "        \"\"\"\n",
        "        self.series = series\n",
        "        self.window_length = history + ahead\n",
        "        self.history = history\n",
        "        self.ahead = ahead\n",
        "        self.target_col = target_col\n",
        "\n",
        "    def __len__(self):\n",
        "        # For a series with N timesteps, the number of windows is N - (window_length - 1)\n",
        "        return len(self.series) - self.window_length + 1\n",
        "\n",
        "    def __getitem__(self, idx):\n",
        "        # Extract a window from the series\n",
        "        window = self.series[idx: idx + self.window_length]\n",
        "        # Convert to a torch tensor (float32)\n",
        "        window = torch.tensor(window, dtype=torch.float32)\n",
        "\n",
        "        # Split the window into:\n",
        "        # - X: first 'history' steps with all features\n",
        "        # - y: last 'ahead' steps for the target column\n",
        "        X = window[:self.history, :]\n",
        "        y = window[self.history:, self.target_col]\n",
        "        return X, y"
      ]
    },
    {
      "cell_type": "code",
      "execution_count": 70,
      "metadata": {
        "id": "VGH7JCYnyLfC"
      },
      "outputs": [],
      "source": [
        "train_series = mulvar_train.to_numpy()\n",
        "valid_series = mulvar_valid.to_numpy()\n",
        "\n",
        "# Create dataset objects\n",
        "train_dataset = TSDataset(train_series, history=seq_length, ahead=ahead, target_col=1)\n",
        "valid_dataset = TSDataset(valid_series, history=seq_length, ahead=ahead, target_col=1)\n",
        "\n",
        "# Create data loaders equivalent to the tf.keras dataset pipelines (with batch size of 32)\n",
        "ahead_train_loader = DataLoader(train_dataset, batch_size=32, shuffle=True)\n",
        "ahead_valid_loader = DataLoader(valid_dataset, batch_size=32, shuffle=False)"
      ]
    },
    {
      "cell_type": "markdown",
      "metadata": {
        "id": "WOqEFfecC8Zi"
      },
      "source": [
        "# LSTMs"
      ]
    },
    {
      "cell_type": "markdown",
      "metadata": {
        "id": "GRewCennpSm8"
      },
      "source": [
        "Below: defines model, trains, saves (or loads) model to disk."
      ]
    },
    {
      "cell_type": "code",
      "source": [
        "class LSTMModel(nn.Module):\n",
        "    def __init__(self, input_features, hidden_units, num_ahead):\n",
        "        \"\"\"\n",
        "        Args:\n",
        "            input_features (int): Number of features in the input time series (5 in your case).\n",
        "            hidden_units (int): Number of units in the LSTM layer (32 in your case).\n",
        "            num_ahead (int): The forecast horizon (14 in your case).\n",
        "        \"\"\"\n",
        "        super().__init__()\n",
        "        self.input_features = input_features\n",
        "        self.hidden_units = hidden_units\n",
        "        self.num_ahead = num_ahead\n",
        "\n",
        "        self.lstm = nn.LSTM(input_size=self.input_features,\n",
        "                            hidden_size=self.hidden_units,\n",
        "                            batch_first=True)\n",
        "\n",
        "        self.linear = nn.Linear(in_features=self.hidden_units,\n",
        "                                out_features=self.num_ahead)\n",
        "\n",
        "    def forward(self, x):\n",
        "        \"\"\"\n",
        "        Defines the forward pass of the model.\n",
        "\n",
        "        Args:\n",
        "            x (torch.Tensor): Input tensor with shape (batch_size, seq_length, input_features).\n",
        "\n",
        "        Returns:\n",
        "            torch.Tensor: Output tensor with shape (batch_size, num_ahead).\n",
        "        \"\"\"\n",
        "        lstm_out, _ = self.lstm(x)\n",
        "        last_time_step_output = lstm_out[:, -1, :]\n",
        "        predictions = self.linear(last_time_step_output)\n",
        "\n",
        "        return predictions"
      ],
      "metadata": {
        "id": "cnqIczZF4qZj"
      },
      "execution_count": 71,
      "outputs": []
    },
    {
      "cell_type": "code",
      "execution_count": 72,
      "metadata": {
        "id": "XS0tR-Ymzzg-"
      },
      "outputs": [],
      "source": [
        "# initialize model\n",
        "lstm_model = LSTMModel(input_features=5, hidden_units=32, num_ahead=ahead)"
      ]
    },
    {
      "cell_type": "code",
      "execution_count": 73,
      "metadata": {
        "colab": {
          "base_uri": "https://localhost:8080/"
        },
        "id": "lke0fUVz0EQ3",
        "outputId": "2ff3c8b1-29fd-4137-dcc8-e96c82a94ff7"
      },
      "outputs": [
        {
          "output_type": "stream",
          "name": "stdout",
          "text": [
            "Loading weights from disk: /content/drive/MyDrive/Colab Notebooks/pytorch/models/lstm.pth\n",
            "Model loaded successfully.\n",
            "CPU times: user 14 ms, sys: 94 µs, total: 14.1 ms\n",
            "Wall time: 1.79 s\n"
          ]
        }
      ],
      "source": [
        "%time mine.train_save(lstm_model, ahead_train_loader, ahead_valid_loader, mine.fit_and_evaluate_mulvar, in_colab=in_colab, filename=\"lstm.pth\", learning_rate=0.1, rewrite=False, epochs=1000)"
      ]
    },
    {
      "cell_type": "code",
      "execution_count": 74,
      "metadata": {
        "id": "cUMs5iz81zrV"
      },
      "outputs": [],
      "source": [
        "y_ahead=mine.forecast_ahead(seq_length, mulvar_valid[:seq_length], lstm_model)\n",
        "\n",
        "# convert to pandas TS\n",
        "y_aheadP = pd.Series(y_ahead[0, :], index=pd.date_range(\"2019-02-26\", \"2019-03-11\"))"
      ]
    },
    {
      "cell_type": "code",
      "execution_count": 75,
      "metadata": {
        "colab": {
          "base_uri": "https://localhost:8080/",
          "height": 420
        },
        "id": "0sWCkBilqAHQ",
        "outputId": "040565c7-cedc-4182-f78a-99770ffb049c"
      },
      "outputs": [
        {
          "output_type": "display_data",
          "data": {
            "text/plain": [
              "<Figure size 800x350 with 1 Axes>"
            ],
            "image/png": "[encoded data removed]"
          },
          "metadata": {}
        }
      ],
      "source": [
        "fig, ax = plt.subplots(figsize=(8, 3.5))\n",
        "(rail_valid * 1e6)[\"2019-02-01\":\"2019-03-11\"].plot(label=\"Data\", marker=\".\", ax=ax)\n",
        "(mulvar_valid[0:seq_length]['rail']*1e6).plot(label=\"Input\", marker=\".\", ax=ax)\n",
        "(y_aheadP * 1e6).plot(label=\"Model\", grid=True, marker=\"x\", color=\"r\", ax=ax)\n",
        "\n",
        "ax.vlines(\"2019-02-25\", 0, 1e6, color=\"k\", linestyle=\"--\", label=\"Today\")\n",
        "ax.set_xlim([\"2019-02-11\", \"2019-03-11\"])\n",
        "ax.set_ylim([200_000, 800_000])\n",
        "plt.legend(loc=\"upper left\")\n",
        "plt.title('LSTM')\n",
        "plt.show()"
      ]
    },
    {
      "cell_type": "markdown",
      "metadata": {
        "id": "C1QP_OI7C8Zj"
      },
      "source": [
        "# GRUs"
      ]
    },
    {
      "cell_type": "code",
      "execution_count": 76,
      "metadata": {
        "id": "8b5iPbupC8Zj",
        "scrolled": true
      },
      "outputs": [],
      "source": [
        "class GRUModel(nn.Module):\n",
        "    def __init__(self, input_features, hidden_units, num_ahead):\n",
        "        super().__init__()\n",
        "        self.input_features = input_features\n",
        "        self.hidden_units = hidden_units\n",
        "        self.num_ahead = num_ahead\n",
        "\n",
        "        self.gru = nn.GRU(input_size=self.input_features,\n",
        "                            hidden_size=self.hidden_units,\n",
        "                            batch_first=True)\n",
        "\n",
        "        self.linear = nn.Linear(in_features=self.hidden_units,\n",
        "                                out_features=self.num_ahead)\n",
        "\n",
        "    def forward(self, x):\n",
        "        gru_out, _ = self.gru(x)\n",
        "        last_time_step_output = gru_out[:, -1, :]\n",
        "        predictions = self.linear(last_time_step_output)\n",
        "\n",
        "        return predictions"
      ]
    },
    {
      "cell_type": "code",
      "execution_count": 77,
      "metadata": {
        "id": "DhlmUYieK4-W"
      },
      "outputs": [],
      "source": [
        "# initialize model\n",
        "gru_model = GRUModel(input_features=5, hidden_units=32, num_ahead=ahead)"
      ]
    },
    {
      "cell_type": "code",
      "execution_count": 78,
      "metadata": {
        "colab": {
          "base_uri": "https://localhost:8080/"
        },
        "outputId": "58a44b54-b1f7-4b73-d467-9fd810f76f58",
        "id": "FNFgc_8DK4-W"
      },
      "outputs": [
        {
          "output_type": "stream",
          "name": "stdout",
          "text": [
            "Epoch 452/1000, Validation MAE: 0.037274\n",
            "   -0.73  ┤\n",
            "   -0.80  ┤\n",
            "   -0.86  ┤\n",
            "   -0.93  ┤\n",
            "   -0.99  ┤\n",
            "   -1.06  ┤\n",
            "   -1.13  ┤\n",
            "   -1.19  ┤\n",
            "   -1.26  ┤                                           ╭╮               ╭╮\n",
            "   -1.32  ┤ ╭╮             ╭╮   ╭╮  ╭─╮   ╭─╮         ││         ╭─╮   ││ ╭╮            ╭╮   ╭─╮ ╭╮╭╮╭╮    ╭╮\n",
            "   -1.39  ┼─╯╰─────────────╯╰───╯╰──╯ ╰───╯ ╰─────────╯╰─────────╯ ╰───╯╰─╯╰────────────╯╰───╯ ╰─╯╰╯╰╯╰────╯╰─\n",
            "   -1.46  ┤\n",
            "Early stopping triggered at epoch 452\n",
            "Saving trained weights to disk: /content/drive/MyDrive/Colab Notebooks/pytorch/models/gru.pth\n",
            "CPU times: user 5min 17s, sys: 923 ms, total: 5min 18s\n",
            "Wall time: 5min 20s\n"
          ]
        },
        {
          "output_type": "execute_result",
          "data": {
            "text/plain": [
              "34981.68462296811"
            ]
          },
          "metadata": {},
          "execution_count": 78
        }
      ],
      "source": [
        "%time mine.train_save(gru_model, ahead_train_loader, ahead_valid_loader, mine.fit_and_evaluate_mulvar, in_colab=in_colab, filename=\"gru.pth\", learning_rate=0.1, rewrite=False, epochs=1000)"
      ]
    },
    {
      "cell_type": "code",
      "execution_count": 79,
      "metadata": {
        "id": "_RpgoVtFK4-X"
      },
      "outputs": [],
      "source": [
        "y_ahead=mine.forecast_ahead(seq_length, mulvar_valid[:seq_length], gru_model)\n",
        "\n",
        "# convert to pandas TS\n",
        "y_aheadP = pd.Series(y_ahead[0, :], index=pd.date_range(\"2019-02-26\", \"2019-03-11\"))"
      ]
    },
    {
      "cell_type": "code",
      "execution_count": 80,
      "metadata": {
        "colab": {
          "base_uri": "https://localhost:8080/",
          "height": 420
        },
        "outputId": "00c8466e-2ed8-451f-e162-c58931ea4e9c",
        "id": "9kNX74uzK4-X"
      },
      "outputs": [
        {
          "output_type": "display_data",
          "data": {
            "text/plain": [
              "<Figure size 800x350 with 1 Axes>"
            ],
            "image/png": "[encoded data removed]"
          },
          "metadata": {}
        }
      ],
      "source": [
        "fig, ax = plt.subplots(figsize=(8, 3.5))\n",
        "(rail_valid * 1e6)[\"2019-02-01\":\"2019-03-11\"].plot(label=\"Data\", marker=\".\", ax=ax)\n",
        "(mulvar_valid[0:seq_length]['rail']*1e6).plot(label=\"Input\", marker=\".\", ax=ax)\n",
        "(y_aheadP * 1e6).plot(label=\"Model\", grid=True, marker=\"x\", color=\"r\", ax=ax)\n",
        "\n",
        "ax.vlines(\"2019-02-25\", 0, 1e6, color=\"k\", linestyle=\"--\", label=\"Today\")\n",
        "ax.set_xlim([\"2019-02-11\", \"2019-03-11\"])\n",
        "ax.set_ylim([200_000, 800_000])\n",
        "plt.legend(loc=\"upper left\")\n",
        "plt.title('GRU')\n",
        "plt.show()"
      ]
    },
    {
      "cell_type": "markdown",
      "metadata": {
        "id": "bTUgOWFwC8Zj"
      },
      "source": [
        "# 1D CNNs\n",
        "\n",
        "## Primer\n",
        "\n",
        "**What Are 1D CNNs?**\n",
        "\n",
        "Just as 2D CNNs slide small filters across images to detect features, 1D CNNs slide filters across sequences (like time series data). Each filter learns to detect short patterns within the sequence, and using multiple filters creates multiple feature sequences.\n",
        "\n",
        "For example, with 10 filters, your output becomes either:\n",
        "- 10 separate sequences (one per filter)\n",
        "- Or a single sequence where each position has 10 dimensions\n",
        "\n",
        "**Using 1D CNNs with Sequences**\n",
        "\n",
        "You can combine 1D convolutional layers with recurrent layers (like GRU or LSTM) in your neural networks. The sequence length after a convolutional layer depends on:\n",
        "\n",
        "- With stride=1 and \"same\" padding: Output length equals input length\n",
        "- With \"valid\" padding or stride>1: Output length is shorter than input\n",
        "\n",
        "```\n",
        "  |-----0-----|      |-----3----|      |--... |-------52------|\n",
        "         |-----1----|      |-----4----|   ... |       |-------53------|\n",
        "               |-----2----|     |------5--...-51------|       |-------54------|\n",
        "X:  0  1  2  3  4  5  6  7  8  9 10 11 12 ...  104 105 106 107 108 109 110 111\n",
        "Y:      from 4     6     8    10    12    ...      106     108     110     112\n",
        "         to 17    19    21    23    25    ...      119     121     123     125\n",
        "```\n",
        "\n",
        "**Practical Example**\n",
        "\n",
        "Here's a simplified model that uses a 1D CNN to downsample a sequence before processing it with a GRU layer:\n",
        "\n",
        "```python\n",
        "model = tf.keras.Sequential([\n",
        "    # Reduces sequence length by half (stride=2)\n",
        "    tf.keras.layers.Conv1D(filters=32, kernel_size=4, strides=2, activation=\"relu\"),\n",
        "    tf.keras.layers.GRU(32, return_sequences=True),\n",
        "    tf.keras.layers.Dense(14)\n",
        "])\n",
        "```\n",
        "\n",
        "When using this downsampling approach:\n",
        "1. You can process longer input sequences (112 days instead of 56)\n",
        "2. The CNN helps filter out unimportant details while preserving key information\n",
        "3. The GRU can more easily detect longer patterns in the shorter sequence\n",
        "4. You need to adjust your target sequences accordingly (cropping and downsampling)\n",
        "\n",
        "This combined approach often performs better than using recurrent layers alone. In fact, sometimes you can build effective sequence models using only 1D convolutions without any recurrent layers!"
      ]
    },
    {
      "cell_type": "markdown",
      "source": [
        "## Model"
      ],
      "metadata": {
        "id": "wmseez0Ypoc7"
      }
    },
    {
      "cell_type": "code",
      "source": [
        "class CNNGRUModel(nn.Module):\n",
        "    def __init__(self, input_features, conv_filters, kernel_size, conv_stride,\n",
        "                 gru_hidden_units, ahead):\n",
        "        \"\"\"\n",
        "        Args:\n",
        "            input_features (int): Number of features in the input time series (5).\n",
        "            conv_filters (int): Number of output filters for the Conv1D layer (32).\n",
        "            kernel_size (int): Kernel size for the Conv1D layer (4).\n",
        "            conv_stride (int): Stride for the Conv1D layer (2).\n",
        "            gru_hidden_units (int): Number of units in the GRU layer (32).\n",
        "            ahead (int): The forecast horizon (14).\n",
        "        \"\"\"\n",
        "        super().__init__()\n",
        "        self.input_features = input_features\n",
        "        self.conv_filters = conv_filters\n",
        "        self.kernel_size = kernel_size\n",
        "        self.conv_stride = conv_stride\n",
        "        self.gru_hidden_units = gru_hidden_units\n",
        "        self.ahead = ahead\n",
        "\n",
        "        # Define the 1D Convolutional layer\n",
        "        self.conv1d = nn.Conv1d(in_channels=self.input_features,\n",
        "                                out_channels=self.conv_filters,\n",
        "                                kernel_size=self.kernel_size,\n",
        "                                stride=self.conv_stride)\n",
        "\n",
        "        # Define the GRU layer\n",
        "        self.gru = nn.GRU(input_size=self.conv_filters,\n",
        "                          hidden_size=self.gru_hidden_units,\n",
        "                          batch_first=True)\n",
        "\n",
        "        self.linear = nn.Linear(in_features=self.gru_hidden_units,\n",
        "                                out_features=self.ahead)\n",
        "\n",
        "    def forward(self, x):\n",
        "        # --- Conv1D Layer ---\n",
        "        # Permute for Conv1d: (batch, features, seq_length)\n",
        "        x_conv = x.permute(0, 2, 1) # Shape: (32, 5, 50)\n",
        "\n",
        "        # Apply Conv1d\n",
        "        conv_out = self.conv1d(x_conv) # Shape: (batch, conv_filters, new_seq_length)\n",
        "                                       # e.g., (32, 32, 24) for seq=50, kernel=4, stride=2\n",
        "\n",
        "        # Apply ReLU activation (equivalent to activation='relu' in Keras Conv1D)\n",
        "        relu_out = F.relu(conv_out) # Shape: (32, 32, 24)\n",
        "\n",
        "        # --- GRU Layer ---\n",
        "        # Permute for GRU: (batch, new_seq_length, conv_filters)\n",
        "        gru_input = relu_out.permute(0, 2, 1) # Shape: (32, 24, 32)\n",
        "\n",
        "        # Apply GRU\n",
        "        # gru_out shape: (batch, new_seq_length, gru_hidden_units) e.g., (32, 24, 32)\n",
        "        gru_out, _ = self.gru(gru_input)\n",
        "\n",
        "        # --- Dense Layer ---\n",
        "        # Select the output from the last time step of the GRU sequence\n",
        "        # last_time_step_output shape: (batch_size, gru_hidden_units) e.g., (32, 32)\n",
        "        last_time_step_output = gru_out[:, -1, :]\n",
        "\n",
        "        # Apply final Linear layer\n",
        "        # predictions shape: (batch_size, num_ahead) e.g., (32, 14)\n",
        "        predictions = self.linear(last_time_step_output)\n",
        "\n",
        "        return predictions"
      ],
      "metadata": {
        "id": "2MUj3XyOoGxG"
      },
      "execution_count": 81,
      "outputs": []
    },
    {
      "cell_type": "code",
      "execution_count": 82,
      "metadata": {
        "id": "ddEKNwQho57Q"
      },
      "outputs": [],
      "source": [
        "# initialize model\n",
        "cnn_model = CNNGRUModel(5, 32, 4, 2, 32, ahead)"
      ]
    },
    {
      "cell_type": "markdown",
      "source": [
        "## Data with longer sequences"
      ],
      "metadata": {
        "id": "l4w6VEH1prlO"
      }
    },
    {
      "cell_type": "code",
      "source": [
        "# Create dataset objects\n",
        "cnn_train_dataset = TSDataset(train_series, history=112, ahead=ahead, target_col=1)\n",
        "cnn_valid_dataset = TSDataset(valid_series, history=112, ahead=ahead, target_col=1)\n",
        "\n",
        "# Create data loaders equivalent to the tf.keras dataset pipelines (with batch size of 32)\n",
        "cnn_train_loader = DataLoader(cnn_train_dataset, batch_size=32, shuffle=True)\n",
        "cnn_valid_loader = DataLoader(cnn_valid_dataset, batch_size=32, shuffle=False)"
      ],
      "metadata": {
        "id": "FmN7UFafpvyS"
      },
      "execution_count": 83,
      "outputs": []
    },
    {
      "cell_type": "markdown",
      "source": [
        "## Training"
      ],
      "metadata": {
        "id": "rsFs63eBvKly"
      }
    },
    {
      "cell_type": "code",
      "execution_count": 84,
      "metadata": {
        "colab": {
          "base_uri": "https://localhost:8080/"
        },
        "outputId": "afddf0fd-8630-409a-c841-6030b3dee53c",
        "id": "xlHKbZkYo57R"
      },
      "outputs": [
        {
          "output_type": "stream",
          "name": "stdout",
          "text": [
            "Loading weights from disk: /content/drive/MyDrive/Colab Notebooks/pytorch/models/cnn.pth\n",
            "Model loaded successfully.\n",
            "CPU times: user 3.42 ms, sys: 978 µs, total: 4.4 ms\n",
            "Wall time: 7.27 ms\n"
          ]
        }
      ],
      "source": [
        "%time mine.train_save(cnn_model, cnn_train_loader, cnn_valid_loader, mine.fit_and_evaluate_mulvar, in_colab=in_colab, filename=\"cnn.pth\", learning_rate=0.1, rewrite=False, epochs=1000)"
      ]
    },
    {
      "cell_type": "code",
      "execution_count": 85,
      "metadata": {
        "id": "Y2rGisTKo57R"
      },
      "outputs": [],
      "source": [
        "y_cnn=mine.forecast_ahead(seq_length, mulvar_valid[:112], cnn_model)\n",
        "\n",
        "# convert to pandas TS\n",
        "y_cnnP = pd.Series(y_cnn[0, :], index=pd.date_range(\"2019-02-26\", \"2019-03-11\"))"
      ]
    },
    {
      "cell_type": "code",
      "execution_count": 86,
      "metadata": {
        "colab": {
          "base_uri": "https://localhost:8080/",
          "height": 420
        },
        "outputId": "e35cec2a-dc2e-4308-de81-a073b5bd80aa",
        "id": "xfkkKykCo57R"
      },
      "outputs": [
        {
          "output_type": "display_data",
          "data": {
            "text/plain": [
              "<Figure size 800x350 with 1 Axes>"
            ],
            "image/png": "[encoded data removed]"
          },
          "metadata": {}
        }
      ],
      "source": [
        "fig, ax = plt.subplots(figsize=(8, 3.5))\n",
        "(rail_valid * 1e6)[\"2019-02-01\":\"2019-03-11\"].plot(label=\"Data\", marker=\".\", ax=ax)\n",
        "(mulvar_valid[0:seq_length]['rail']*1e6).plot(label=\"Input\", marker=\".\", ax=ax)\n",
        "(y_cnnP * 1e6).plot(label=\"Model\", grid=True, marker=\"x\", color=\"r\", ax=ax)\n",
        "\n",
        "ax.vlines(\"2019-02-25\", 0, 1e6, color=\"k\", linestyle=\"--\", label=\"Today\")\n",
        "ax.set_xlim([\"2019-02-11\", \"2019-03-11\"])\n",
        "ax.set_ylim([200_000, 800_000])\n",
        "plt.legend(loc=\"upper left\")\n",
        "plt.title('1D CNN + GRU')\n",
        "plt.show()"
      ]
    },
    {
      "cell_type": "markdown",
      "metadata": {
        "id": "RXIHBsGSC8Zj"
      },
      "source": [
        "# WaveNet"
      ]
    },
    {
      "cell_type": "markdown",
      "metadata": {
        "id": "LL_pngwdC8Zj"
      },
      "source": [
        "WaveNet: Efficient Sequence Processing with Dilated Convolutions\n",
        "\n",
        "**What is WaveNet?**\n",
        "\n",
        "WaveNet is an innovative architecture introduced by DeepMind researchers in 2016. It uses a clever arrangement of 1D convolutional layers to efficiently process sequences like audio.\n",
        "\n",
        "**How Dilated Convolutions Work**\n",
        "\n",
        "The key innovation in WaveNet is **dilated convolutions** - where filters skip inputs at regular intervals:\n",
        "\n",
        "- The first layer has a dilation rate of 1 (processes adjacent inputs)\n",
        "- Each subsequent layer doubles the dilation: 2, 4, 8, 16, 32...\n",
        "\n",
        "This means:\n",
        "- Early layers capture short-term patterns (like individual sounds)\n",
        "- Middle layers capture medium-term patterns\n",
        "- Deep layers capture long-term patterns (like words or phrases)\n",
        "\n",
        "**Architecture Benefits**\n",
        "\n",
        "This design creates a powerful hierarchy where:\n",
        "\n",
        "1. Lower layers learn local, fine-grained patterns\n",
        "2. Higher layers learn broader, long-term patterns\n",
        "3. The network efficiently processes very long sequences\n",
        "\n",
        "The original WaveNet had 3 identical stacks of 10 convolutional layers each. Each stack used dilation rates of 1, 2, 4, 8, up to 512. This arrangement effectively works like a massive 1,024-width convolutional layer but requires:\n",
        "- Far fewer parameters\n",
        "- Much less computation\n",
        "- Better learning capability\n",
        "\n",
        "To maintain consistent sequence length, each layer used left-padding with zeros (equal to that layer's dilation rate).\n",
        "\n",
        "This architecture proved extremely effective for complex sequence modeling tasks, especially audio generation.\n",
        "\n",
        "```\n",
        " ⋮\n",
        "C2  /\\ /\\ /\\ /\\ /\\ /\\ /\\ /\\ /\\ /\\ /\\ /\\ /\\...\n",
        "   \\  /  \\  /  \\  /  \\  /  \\  /  \\  /  \\     \n",
        "     /    \\      /    \\      /    \\          \n",
        "C1  /\\ /\\ /\\ /\\ /\\ /\\ /\\ /\\ /\\ /\\ /\\  /\\ /...\\\n",
        "X: 0  1  2  3  4  5  6  7  8  9  10 11 12 ... 111\n",
        "Y: 1  2  3  4  5  6  7  8  9  10 11 12 13 ... 112\n",
        " /14 15 16 17 18 19 20 21 22  23 24 25 26 ... 125\n",
        "```"
      ]
    },
    {
      "cell_type": "markdown",
      "source": [
        "Same model in keras:\n",
        "\n",
        "```python\n",
        "wavenet_model = tf.keras.Sequential()\n",
        "wavenet_model.add(tf.keras.layers.InputLayer(input_shape=[None, 5]))\n",
        "for rate in (1, 2, 4, 8) * 2:\n",
        "    wavenet_model.add(tf.keras.layers.Conv1D(\n",
        "        filters=32, kernel_size=2, padding=\"causal\", activation=\"relu\",\n",
        "        dilation_rate=rate))\n",
        "wavenet_model.add(tf.keras.layers.Conv1D(filters=14, kernel_size=1))\n",
        "```"
      ],
      "metadata": {
        "id": "tjlbH2SVxU7C"
      }
    },
    {
      "cell_type": "code",
      "source": [
        "class WaveNetModel(nn.Module):\n",
        "    def __init__(self, input_features, num_filters, kernel_size, num_ahead):\n",
        "        \"\"\"\n",
        "        Args:\n",
        "            input_features (int): Number of features in the input time series (5).\n",
        "            num_filters (int): Number of filters in the dilated Conv1D layers (32).\n",
        "            kernel_size (int): Kernel size for the dilated Conv1D layers (2).\n",
        "            num_ahead (int): The forecast horizon (14), used for the final Conv1D layer.\n",
        "        \"\"\"\n",
        "        super().__init__()\n",
        "        self.input_features = input_features\n",
        "        self.num_filters = num_filters\n",
        "        self.kernel_size = kernel_size\n",
        "        self.num_ahead = num_ahead\n",
        "        self.dilation_rates = (1, 2, 4, 8) * 2 # (1, 2, 4, 8, 1, 2, 4, 8)\n",
        "\n",
        "        # Create a ModuleList to hold the dilated convolutional layers\n",
        "        self.dilated_convs = nn.ModuleList()\n",
        "        current_channels = input_features\n",
        "\n",
        "        for dilation_rate in self.dilation_rates:\n",
        "            self.dilated_convs.append(\n",
        "                nn.Conv1d(in_channels=current_channels,\n",
        "                          out_channels=self.num_filters,\n",
        "                          kernel_size=self.kernel_size,\n",
        "                          dilation=dilation_rate)\n",
        "                # We will handle causal padding manually in the forward pass\n",
        "            )\n",
        "            # Input channels for the next conv layer is the output channels of the current one\n",
        "            current_channels = self.num_filters\n",
        "\n",
        "        # Final 1x1 Convolution to get the desired output dimension (num_ahead)\n",
        "        self.final_conv = nn.Conv1d(in_channels=self.num_filters,\n",
        "                                    out_channels=self.num_ahead,\n",
        "                                    kernel_size=1)\n",
        "\n",
        "    def forward(self, x):\n",
        "        # Permute for Conv1d: (batch, features, seq_length)\n",
        "        x_permuted = x.permute(0, 2, 1) # Shape: (32, 5, 112)\n",
        "\n",
        "        # Apply dilated convolutions with causal padding\n",
        "        skip_connections = [] # Optional: Store outputs for skip connections if building a full WaveNet\n",
        "        current_input = x_permuted\n",
        "\n",
        "        for i, conv_layer in enumerate(self.dilated_convs):\n",
        "            # Calculate causal padding: (kernel_size - 1) * dilation\n",
        "            dilation_rate = self.dilation_rates[i]\n",
        "            padding_left = (self.kernel_size - 1) * dilation_rate\n",
        "\n",
        "            # Apply manual left padding using F.pad\n",
        "            # Pad format: (pad_left, pad_right) for the last dimension (sequence)\n",
        "            padded_input = F.pad(current_input, (padding_left, 0)) # Shape: (32, channels, seq_len + pad_left)\n",
        "\n",
        "            # Apply convolution\n",
        "            conv_out = conv_layer(padded_input) # Shape: (32, num_filters, seq_len)\n",
        "\n",
        "            # Apply activation (ReLU) - Keras applies it within the layer\n",
        "            activated_out = F.relu(conv_out) # Shape: (32, num_filters, seq_len)\n",
        "\n",
        "            # Update input for the next layer\n",
        "            current_input = activated_out\n",
        "            # skip_connections.append(conv_out) # If implementing skip connections\n",
        "\n",
        "        # Apply final 1x1 convolution\n",
        "        # Input shape: (32, num_filters, seq_len)\n",
        "        final_conv_out = self.final_conv(current_input) # Shape: (32, num_ahead, seq_len) e.g., (32, 14, 112)\n",
        "\n",
        "        # Take the output corresponding to the *last* time step for forecasting\n",
        "        # Select all batches, all output features (num_ahead), and the last element in the sequence dim\n",
        "        output = final_conv_out[:, :, -1] # Shape: (32, 14)\n",
        "\n",
        "        return output"
      ],
      "metadata": {
        "id": "skvMJ6lJxFhB"
      },
      "execution_count": 87,
      "outputs": []
    },
    {
      "cell_type": "code",
      "source": [
        "# Instantiate the model\n",
        "wavenet_model = WaveNetModel(5, 32, 2, ahead)"
      ],
      "metadata": {
        "id": "2FJ3EcUkxcki"
      },
      "execution_count": 88,
      "outputs": []
    },
    {
      "cell_type": "code",
      "execution_count": 89,
      "metadata": {
        "colab": {
          "base_uri": "https://localhost:8080/"
        },
        "outputId": "925c36b4-4933-4ca7-b55f-dd19b438c091",
        "id": "ZmeuruW2ynC5"
      },
      "outputs": [
        {
          "output_type": "stream",
          "name": "stdout",
          "text": [
            "Loading weights from disk: /content/drive/MyDrive/Colab Notebooks/pytorch/models/wavenet.pth\n",
            "Model loaded successfully.\n",
            "CPU times: user 5.94 ms, sys: 2 µs, total: 5.94 ms\n",
            "Wall time: 12.6 ms\n"
          ]
        }
      ],
      "source": [
        "%time mine.train_save(wavenet_model, cnn_train_loader, cnn_valid_loader, mine.fit_and_evaluate_mulvar, in_colab=in_colab, filename=\"wavenet.pth\", learning_rate=0.1, rewrite=False, epochs=1000)"
      ]
    },
    {
      "cell_type": "code",
      "execution_count": 90,
      "metadata": {
        "id": "_Y1jZN8qynC6"
      },
      "outputs": [],
      "source": [
        "y_wave=mine.forecast_ahead(seq_length, mulvar_valid[:112], wavenet_model)\n",
        "\n",
        "# convert to pandas TS\n",
        "y_waveP = pd.Series(y_wave[0, :], index=pd.date_range(\"2019-02-26\", \"2019-03-11\"))"
      ]
    },
    {
      "cell_type": "code",
      "execution_count": 91,
      "metadata": {
        "colab": {
          "base_uri": "https://localhost:8080/",
          "height": 420
        },
        "outputId": "26139d6b-fe8e-494a-e9f4-62afec939895",
        "id": "LkEasUXlynC7"
      },
      "outputs": [
        {
          "output_type": "display_data",
          "data": {
            "text/plain": [
              "<Figure size 800x350 with 1 Axes>"
            ],
            "image/png": "[encoded data removed]"
          },
          "metadata": {}
        }
      ],
      "source": [
        "fig, ax = plt.subplots(figsize=(8, 3.5))\n",
        "(rail_valid * 1e6)[\"2019-02-01\":\"2019-03-11\"].plot(label=\"Data\", marker=\".\", ax=ax)\n",
        "(mulvar_valid[0:seq_length]['rail']*1e6).plot(label=\"Input\", marker=\".\", ax=ax)\n",
        "(y_waveP * 1e6).plot(label=\"Model\", grid=True, marker=\"x\", color=\"r\", ax=ax)\n",
        "\n",
        "ax.vlines(\"2019-02-25\", 0, 1e6, color=\"k\", linestyle=\"--\", label=\"Today\")\n",
        "ax.set_xlim([\"2019-02-11\", \"2019-03-11\"])\n",
        "ax.set_ylim([200_000, 800_000])\n",
        "plt.legend(loc=\"upper left\")\n",
        "plt.title('WaveNet')\n",
        "plt.show()"
      ]
    }
  ],
  "metadata": {
    "accelerator": "GPU",
    "colab": {
      "provenance": [],
      "toc_visible": true
    },
    "kernelspec": {
      "display_name": "Python 3 (ipykernel)",
      "language": "python",
      "name": "python3"
    },
    "language_info": {
      "codemirror_mode": {
        "name": "ipython",
        "version": 3
      },
      "file_extension": ".py",
      "mimetype": "text/x-python",
      "name": "python",
      "nbconvert_exporter": "python",
      "pygments_lexer": "ipython3",
      "version": "3.11.7"
    },
    "nav_menu": {},
    "toc": {
      "navigate_menu": true,
      "number_sections": true,
      "sideBar": true,
      "threshold": 6,
      "toc_cell": false,
      "toc_section_display": "block",
      "toc_window_display": false
    }
  },
  "nbformat": 4,
  "nbformat_minor": 0
}
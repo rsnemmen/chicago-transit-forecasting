{
  "cells": [
    {
      "cell_type": "markdown",
      "metadata": {
        "id": "tZJKseROC8ZP"
      },
      "source": [
        "# RNNs"
      ]
    },
    {
      "cell_type": "markdown",
      "metadata": {
        "id": "_92GhEFZC8ZR"
      },
      "source": [
        "Includes RNNs and models that require NVIDIA GPUs to run."
      ]
    },
    {
      "cell_type": "markdown",
      "metadata": {
        "id": "Wrx2sCScne5T"
      },
      "source": [
        "TODO:\n",
        "\n",
        "- [ ] I included a feature to save the model to disk for most models, but some of them do not have it. So be mindful of that\n",
        "- [ ] includes uncertainty band in prediction"
      ]
    },
    {
      "cell_type": "markdown",
      "metadata": {
        "id": "dFXIv9qNpKzt",
        "tags": []
      },
      "source": [
        "# Initialize"
      ]
    },
    {
      "cell_type": "markdown",
      "metadata": {
        "id": "-vnvOFrpC8ZS"
      },
      "source": [
        "## Packages"
      ]
    },
    {
      "cell_type": "markdown",
      "metadata": {
        "id": "Qbsh01vQAHN9"
      },
      "source": [
        "### General"
      ]
    },
    {
      "cell_type": "code",
      "execution_count": 31,
      "metadata": {
        "id": "LzJbYO9yAHN9"
      },
      "outputs": [],
      "source": [
        "import os, sys\n",
        "import matplotlib.pyplot as plt\n",
        "import numpy as np\n",
        "from pathlib import Path"
      ]
    },
    {
      "cell_type": "markdown",
      "metadata": {
        "id": "jGBjeaCXkhKX"
      },
      "source": [
        "Save data to Google Drive"
      ]
    },
    {
      "cell_type": "code",
      "execution_count": 32,
      "metadata": {
        "colab": {
          "base_uri": "https://localhost:8080/"
        },
        "id": "geDsLyHTkl1_",
        "outputId": "2be4a8a0-5feb-4992-89d6-ebe8e06823aa"
      },
      "outputs": [
        {
          "output_type": "stream",
          "name": "stdout",
          "text": [
            "Drive already mounted at /content/drive/; to attempt to forcibly remount, call drive.mount(\"/content/drive/\", force_remount=True).\n",
            "Running in Google Colab\n"
          ]
        }
      ],
      "source": [
        "try:\n",
        "    from google.colab import drive\n",
        "    drive.mount('/content/drive/')\n",
        "    print(\"Running in Google Colab\")\n",
        "    in_colab=True\n",
        "except:\n",
        "    print(\"Running locally\")\n",
        "    in_colab=False"
      ]
    },
    {
      "cell_type": "markdown",
      "source": [
        "Formatting"
      ],
      "metadata": {
        "id": "91qChDMMEAm2"
      }
    },
    {
      "cell_type": "code",
      "execution_count": 33,
      "metadata": {
        "id": "ZP5HJRVZjxb3"
      },
      "outputs": [],
      "source": [
        "from tqdm import tqdm\n",
        "\n",
        "# For ASCII plots of training progress\n",
        "try:\n",
        "    import asciichartpy\n",
        "except ImportError:\n",
        "    !pip install asciichartpy\n",
        "    import asciichartpy\n",
        "\n",
        "from IPython.display import clear_output"
      ]
    },
    {
      "cell_type": "markdown",
      "metadata": {
        "id": "gmwI3U72AHOA"
      },
      "source": [
        "### ML"
      ]
    },
    {
      "cell_type": "code",
      "execution_count": 34,
      "metadata": {
        "id": "0Piq5se2pKzx"
      },
      "outputs": [],
      "source": [
        "import torch\n",
        "from torch.utils.data import Dataset, DataLoader\n",
        "import torch.nn as nn\n",
        "import torch.optim as optim\n",
        "import torch.nn.functional as F\n",
        "import copy"
      ]
    },
    {
      "cell_type": "markdown",
      "metadata": {
        "id": "YTsawKlapKzy"
      },
      "source": [
        "Enables GPU support"
      ]
    },
    {
      "cell_type": "code",
      "execution_count": 35,
      "metadata": {
        "colab": {
          "base_uri": "https://localhost:8080/"
        },
        "id": "Ekxzo6pOpKzy",
        "outputId": "0782e986-dd88-4ebf-bb84-e44dc5785f02"
      },
      "outputs": [
        {
          "output_type": "stream",
          "name": "stdout",
          "text": [
            "Device Name: Tesla T4\n"
          ]
        }
      ],
      "source": [
        "if not torch.cuda.is_available():\n",
        "    print(\"No GPU was detected. Neural nets can be very slow without a GPU.\")\n",
        "    if \"google.colab\" in sys.modules:\n",
        "        print(\"Go to Runtime > Change runtime and select a GPU hardware accelerator.\")\n",
        "    if \"kaggle_secrets\" in sys.modules:\n",
        "        print(\"Go to Settings > Accelerator and select GPU.\")\n",
        "else:\n",
        "    # Iterate through all available GPU devices and print their names.\n",
        "    for idx in range(torch.cuda.device_count()):\n",
        "        print(f\"Device Name: {torch.cuda.get_device_name(idx)}\")"
      ]
    },
    {
      "cell_type": "code",
      "execution_count": 36,
      "metadata": {
        "id": "uw0mWMmTC8ZV"
      },
      "outputs": [],
      "source": [
        "import pandas as pd"
      ]
    },
    {
      "cell_type": "markdown",
      "metadata": {
        "id": "bbxQuILxC8Zc"
      },
      "source": [
        "## Helper functions\n",
        "\n",
        "Here we define a couple of helper functions that we will reuse several times. Note that some functions will be defined later, such as those for multivariate TS and in the \"several steps ahead\" section."
      ]
    },
    {
      "cell_type": "markdown",
      "source": [
        "### Train\n",
        "\n",
        "This trains and evaluates a model."
      ],
      "metadata": {
        "id": "X-zaz9hmcYzN"
      }
    },
    {
      "cell_type": "code",
      "execution_count": 37,
      "metadata": {
        "id": "43shWwvFC8Zc"
      },
      "outputs": [],
      "source": [
        "def fit_and_evaluate(model, train_loader, valid_loader, learning_rate, epochs=500, verbose=0):\n",
        "    # Device configuration (GPU if available)\n",
        "    device = next(model.parameters()).device\n",
        "\n",
        "    # Setup optimizer (equivalent to SGD with momentum in TensorFlow)\n",
        "    optimizer = torch.optim.SGD(model.parameters(), lr=learning_rate, momentum=0.9)\n",
        "\n",
        "    # Loss functions\n",
        "    huber_loss = torch.nn.HuberLoss()\n",
        "    mae_loss = torch.nn.L1Loss()\n",
        "\n",
        "    # Early stopping setup\n",
        "    patience = 50\n",
        "    best_val_mae = float('inf')\n",
        "    patience_counter = 0\n",
        "    best_model_state = None\n",
        "\n",
        "    loss_list=[]\n",
        "\n",
        "    for epoch in range(epochs):\n",
        "        # Training phase\n",
        "        model.train()\n",
        "        for batch_x, batch_y in train_loader:\n",
        "            # Reshape input: [batch_size, seq_length] -> [batch_size, seq_length, 1]\n",
        "            batch_x = batch_x.unsqueeze(-1).to(device).float()\n",
        "            batch_y = batch_y.to(device).float()\n",
        "\n",
        "            # Zero gradients\n",
        "            optimizer.zero_grad()\n",
        "\n",
        "            # Forward pass\n",
        "            outputs = model(batch_x)\n",
        "\n",
        "            # Ensure compatible shapes - squeeze the output if needed\n",
        "            if len(outputs.shape) > len(batch_y.shape):\n",
        "                outputs = outputs.squeeze()\n",
        "\n",
        "            # Calculate loss\n",
        "            loss = huber_loss(outputs, batch_y)\n",
        "\n",
        "            # Backward pass and optimize\n",
        "            loss.backward()\n",
        "            optimizer.step()\n",
        "\n",
        "        # Validation phase\n",
        "        model.eval()\n",
        "        val_mae_sum = 0.0\n",
        "        val_count = 0\n",
        "\n",
        "        with torch.no_grad():\n",
        "            for batch_x, batch_y in valid_loader:\n",
        "                # Reshape input: [batch_size, seq_length] -> [batch_size, seq_length, 1]\n",
        "                batch_x = batch_x.unsqueeze(-1).to(device).float()\n",
        "                batch_y = batch_y.to(device).float()\n",
        "\n",
        "                outputs = model(batch_x)\n",
        "\n",
        "                # Ensure compatible shapes - squeeze the output if needed\n",
        "                if len(outputs.shape) > len(batch_y.shape):\n",
        "                    outputs = outputs.squeeze()\n",
        "\n",
        "                batch_mae = mae_loss(outputs, batch_y)\n",
        "\n",
        "                val_mae_sum += batch_mae.item() * batch_x.size(0)\n",
        "                val_count += batch_x.size(0)\n",
        "\n",
        "        val_mae = val_mae_sum / val_count\n",
        "        loss_list.append(np.log10(val_mae)) # for ASCII plot\n",
        "\n",
        "        # Print progress if requested\n",
        "        if verbose > 0:\n",
        "            clear_output(wait=True)\n",
        "            print(f'Epoch {epoch+1}/{epochs}, Validation MAE: {val_mae:.6f}')\n",
        "            print(asciichartpy.plot(loss_list[-100:], {'height': 10, 'max':np.max(loss_list)}))\n",
        "\n",
        "\n",
        "        # Early stopping check\n",
        "        if val_mae < best_val_mae:\n",
        "            best_val_mae = val_mae\n",
        "            patience_counter = 0\n",
        "            best_model_state = {k: v.detach().clone() for k, v in model.state_dict().items()}\n",
        "        else:\n",
        "            patience_counter += 1\n",
        "            if patience_counter >= patience:\n",
        "                if verbose > 0:\n",
        "                    print(f'Early stopping triggered at epoch {epoch+1}')\n",
        "                break\n",
        "\n",
        "    # Restore best model weights\n",
        "    if best_model_state is not None:\n",
        "        model.load_state_dict(best_model_state)\n",
        "\n",
        "    return best_val_mae * 1e6"
      ]
    },
    {
      "cell_type": "markdown",
      "source": [
        "For multivariate TS"
      ],
      "metadata": {
        "id": "x4U6y5TmPfr-"
      }
    },
    {
      "cell_type": "code",
      "execution_count": 38,
      "metadata": {
        "id": "2e3oVw_YOw-c"
      },
      "outputs": [],
      "source": [
        "def fit_and_evaluate_mulvar(model, train_loader, valid_loader, learning_rate, epochs=500, verbose=0):\n",
        "    # Device configuration (GPU if available)\n",
        "    device = next(model.parameters()).device\n",
        "\n",
        "    # Setup optimizer (equivalent to SGD with momentum in TensorFlow)\n",
        "    optimizer = torch.optim.SGD(model.parameters(), lr=learning_rate, momentum=0.9)\n",
        "\n",
        "    # Loss functions\n",
        "    huber_loss = torch.nn.HuberLoss()\n",
        "    mae_loss = torch.nn.L1Loss()\n",
        "\n",
        "    # Early stopping setup\n",
        "    patience = 50\n",
        "    best_val_mae = float('inf')\n",
        "    patience_counter = 0\n",
        "    best_model_state = None\n",
        "\n",
        "    loss_list=[]\n",
        "\n",
        "    for epoch in range(epochs):\n",
        "        # Training phase\n",
        "        model.train()\n",
        "        for batch_x, batch_y in train_loader:\n",
        "            # Handle multivariate input - no need to unsqueeze if already multivariate\n",
        "            # batch_x shape should be [batch_size, seq_length, num_features]\n",
        "            batch_x = batch_x.to(device).float()\n",
        "            batch_y = batch_y.to(device).float()\n",
        "\n",
        "            # Zero gradients\n",
        "            optimizer.zero_grad()\n",
        "\n",
        "            # Forward pass\n",
        "            outputs = model(batch_x)\n",
        "\n",
        "            # Ensure compatible shapes for loss calculation\n",
        "            # If predicting a single variable, ensure output shape matches target\n",
        "            if len(batch_y.shape) == 1 and len(outputs.shape) > 1:  # Single target in a batch\n",
        "                outputs = outputs.squeeze(-1)\n",
        "\n",
        "            # Calculate loss\n",
        "            loss = huber_loss(outputs, batch_y)\n",
        "\n",
        "            # Backward pass and optimize\n",
        "            loss.backward()\n",
        "            optimizer.step()\n",
        "\n",
        "        # Validation phase\n",
        "        model.eval()\n",
        "        val_mae_sum = 0.0\n",
        "        val_count = 0\n",
        "\n",
        "        with torch.no_grad():\n",
        "            for batch_x, batch_y in valid_loader:\n",
        "                # Handle multivariate input\n",
        "                batch_x = batch_x.to(device).float()\n",
        "                batch_y = batch_y.to(device).float()\n",
        "\n",
        "                outputs = model(batch_x)\n",
        "\n",
        "                # Ensure compatible shapes for loss calculation\n",
        "                if len(batch_y.shape) == 1 and len(outputs.shape) > 1:  # Single target in a batch\n",
        "                    outputs = outputs.squeeze(-1)\n",
        "\n",
        "                batch_mae = mae_loss(outputs, batch_y)\n",
        "\n",
        "                val_mae_sum += batch_mae.item() * batch_x.size(0)\n",
        "                val_count += batch_x.size(0)\n",
        "\n",
        "        val_mae = val_mae_sum / val_count\n",
        "        loss_list.append(np.log10(val_mae)) # for ASCII plot\n",
        "\n",
        "        # Print progress if requested\n",
        "        if verbose > 0:\n",
        "            clear_output(wait=True)\n",
        "            print(f'Epoch {epoch+1}/{epochs}, Validation MAE: {val_mae:.6f}')\n",
        "            print(asciichartpy.plot(loss_list[-100:], {'height': 10, 'max':np.max(loss_list)}))\n",
        "\n",
        "\n",
        "        # Early stopping check\n",
        "        if val_mae < best_val_mae:\n",
        "            best_val_mae = val_mae\n",
        "            patience_counter = 0\n",
        "            best_model_state = {k: v.detach().clone() for k, v in model.state_dict().items()}\n",
        "        else:\n",
        "            patience_counter += 1\n",
        "            if patience_counter >= patience:\n",
        "                if verbose > 0:\n",
        "                    print(f'Early stopping triggered at epoch {epoch+1}')\n",
        "                break\n",
        "\n",
        "    # Restore best model weights\n",
        "    if best_model_state is not None:\n",
        "        model.load_state_dict(best_model_state)\n",
        "\n",
        "    return best_val_mae * 1e6"
      ]
    },
    {
      "cell_type": "markdown",
      "source": [
        "Trains a model and saves weights to disk. If weight file is found, load it from disk."
      ],
      "metadata": {
        "id": "22jiL2PKfHvy"
      }
    },
    {
      "cell_type": "code",
      "source": [
        "def train_save(model, in_colab, filename, train_loader, valid_loader, learning_rate, training_fn):\n",
        "  if in_colab:\n",
        "    model_file='/content/drive/MyDrive/Colab Notebooks/pytorch/models/'+filename\n",
        "  else:\n",
        "    model_file=Path() / \"models\" / filename\n",
        "\n",
        "  if not os.path.exists(model_file):\n",
        "    # train and evaluate\n",
        "    training_fn(model, train_loader, valid_loader, learning_rate=learning_rate, verbose=1)\n",
        "\n",
        "    # Save weights to Google Drive\n",
        "    print(\"Saving weights to disk\")\n",
        "    torch.save(model.state_dict(), model_file)\n",
        "  else:\n",
        "    # Then load the saved weights\n",
        "    print(\"Loading weights from disk\")\n",
        "    model.load_state_dict(torch.load(model_file))\n",
        "\n",
        "    # Set to evaluation mode if using for inference\n",
        "    model.eval()"
      ],
      "metadata": {
        "id": "6ayKm9OUepEL"
      },
      "execution_count": 39,
      "outputs": []
    },
    {
      "cell_type": "markdown",
      "metadata": {
        "id": "DiJFiA-AgnZa"
      },
      "source": [
        "### Inference\n",
        "\n",
        "Helper function for plotting a model forecast.\n",
        "\n",
        "Single variate."
      ]
    },
    {
      "cell_type": "code",
      "execution_count": 40,
      "metadata": {
        "id": "uM-La5RLM1pG"
      },
      "outputs": [],
      "source": [
        "def get_forecast(seq_length, ts, model):\n",
        "    \"\"\"\n",
        "    PyTorch version of forecasting function\n",
        "\n",
        "    Args:\n",
        "        seq_length: length of input sequence to model\n",
        "        ts: input pandas time series\n",
        "        model: trained PyTorch model\n",
        "\n",
        "    Returns: forecast as pandas Series\n",
        "    \"\"\"\n",
        "    # Set model to evaluation mode\n",
        "    model.eval()\n",
        "\n",
        "    # Get device the model is on\n",
        "    device = next(model.parameters()).device\n",
        "\n",
        "    # Convert time series to numpy array\n",
        "    ts_np = ts.to_numpy()\n",
        "\n",
        "    y_preds = []\n",
        "    t = []\n",
        "\n",
        "    # Initialize the sliding window\n",
        "    t_in = ts_np[:seq_length]\n",
        "\n",
        "    with torch.no_grad():  # No need to track gradients for inference\n",
        "        for i, today in enumerate(ts_np[seq_length+1:]):\n",
        "            # Reshape input for PyTorch model: [batch_size=1, seq_length, features=1]\n",
        "            t_in_torch = torch.tensor(t_in, device=device).float().unsqueeze(0).unsqueeze(-1)\n",
        "\n",
        "            # Get prediction\n",
        "            y_pred = model(t_in_torch)\n",
        "\n",
        "            # Extract the scalar prediction value\n",
        "            if hasattr(y_pred, 'squeeze'):\n",
        "                y_pred = y_pred.squeeze().item()\n",
        "            else:\n",
        "                y_pred = y_pred.item()\n",
        "\n",
        "            # Store prediction and timestamp\n",
        "            y_preds.append(y_pred)\n",
        "            t.append(ts.index[seq_length+1+i])\n",
        "\n",
        "            # Update sliding window (shift left by 1 and add new prediction)\n",
        "            t_in = np.roll(t_in, -1)\n",
        "            t_in[-1] = y_pred\n",
        "\n",
        "    # Return as pandas Series\n",
        "    return pd.Series(y_preds, index=t)"
      ]
    },
    {
      "cell_type": "markdown",
      "source": [
        "Multivariate, one step ahead"
      ],
      "metadata": {
        "id": "zlYL71LLUAA8"
      }
    },
    {
      "cell_type": "code",
      "source": [
        "def get_forecast_mulvar(seq_length, ts, model, target_cols=None, exog_cols=None):\n",
        "    \"\"\"\n",
        "    PyTorch version of multivariate forecasting function\n",
        "\n",
        "    Args:\n",
        "        seq_length: length of input sequence to model\n",
        "        ts: input pandas DataFrame containing all variables\n",
        "        model: trained PyTorch multivariate model\n",
        "        target_cols: list of column names to forecast (default is first column)\n",
        "        exog_cols: list of exogenous column names that aren't forecasted but used as inputs\n",
        "                  (if None, uses all columns as both inputs and potential targets)\n",
        "\n",
        "    Returns: forecast as pandas Series (if single target) or DataFrame (if multiple targets)\n",
        "    \"\"\"\n",
        "    # Set model to evaluation mode\n",
        "    model.eval()\n",
        "\n",
        "    # Get device the model is on\n",
        "    device = next(model.parameters()).device\n",
        "\n",
        "    # Default to first column if target_cols not specified\n",
        "    if target_cols is None:\n",
        "        target_cols = [ts.columns[0]]\n",
        "    elif isinstance(target_cols, str):\n",
        "        target_cols = [target_cols]\n",
        "\n",
        "    # Default to using all columns if exog_cols not specified\n",
        "    if exog_cols is None:\n",
        "        feature_cols = ts.columns.tolist()\n",
        "    else:\n",
        "        feature_cols = list(set(target_cols + exog_cols))\n",
        "\n",
        "    # Number of features in input\n",
        "    n_features = len(feature_cols)\n",
        "    # Number of target variables\n",
        "    n_targets = len(target_cols)\n",
        "\n",
        "    # Convert time series to numpy array\n",
        "    ts_np = ts[feature_cols].to_numpy()\n",
        "\n",
        "    # Initialize storage for predictions\n",
        "    y_preds = [[] for _ in range(n_targets)]\n",
        "    t = []\n",
        "\n",
        "    # Initialize the sliding window with first seq_length observations\n",
        "    t_in = ts_np[:seq_length].copy()\n",
        "\n",
        "    with torch.no_grad():  # No need to track gradients for inference\n",
        "        for i, today in enumerate(ts_np[seq_length+1:]):\n",
        "            # Reshape input for PyTorch model: [batch_size=1, seq_length, n_features]\n",
        "            t_in_torch = torch.tensor(t_in, device=device).float().unsqueeze(0)\n",
        "\n",
        "            # Get prediction\n",
        "            y_pred = model(t_in_torch)\n",
        "\n",
        "            # Process prediction based on model output shape\n",
        "            if n_targets == 1:\n",
        "                # Single target case\n",
        "                y_pred_value = y_pred.squeeze().item()\n",
        "                y_preds[0].append(y_pred_value)\n",
        "            else:\n",
        "                # Multiple target case\n",
        "                y_pred_values = y_pred.squeeze().cpu().numpy()\n",
        "                for j in range(n_targets):\n",
        "                    y_preds[j].append(y_pred_values[j])\n",
        "\n",
        "            # Store timestamp\n",
        "            t.append(ts.index[seq_length+1+i])\n",
        "\n",
        "            # Update sliding window (shift left by 1 and add new values)\n",
        "            t_in = np.roll(t_in, -1, axis=0)\n",
        "\n",
        "            # For each feature, update the last value\n",
        "            for j, col in enumerate(feature_cols):\n",
        "                if col in target_cols:\n",
        "                    # If this is a target column, use our prediction\n",
        "                    target_idx = target_cols.index(col)\n",
        "                    t_in[-1, j] = y_preds[target_idx][-1]\n",
        "                else:\n",
        "                    # For exogenous variables, use actual values if available\n",
        "                    # Otherwise, keep the previous value (assume persistence)\n",
        "                    if i + seq_length + 1 < len(ts_np):\n",
        "                        t_in[-1, j] = ts_np[i + seq_length + 1, j]\n",
        "\n",
        "    # Return as pandas Series (single target) or DataFrame (multiple targets)\n",
        "    if n_targets == 1:\n",
        "        return pd.Series(y_preds[0], index=t, name=target_cols[0])\n",
        "    else:\n",
        "        return pd.DataFrame({col: vals for col, vals in zip(target_cols, y_preds)}, index=t)"
      ],
      "metadata": {
        "id": "mMuA-oFgUCGx"
      },
      "execution_count": 41,
      "outputs": []
    },
    {
      "cell_type": "code",
      "source": [
        "def forecast_ahead(seq_length, data, model, return_numpy=True, device=None):\n",
        "    \"\"\"\n",
        "    Make forecasts using a PyTorch time series model.\n",
        "\n",
        "    Parameters:\n",
        "    -----------\n",
        "    model : nn.Module\n",
        "        PyTorch model for time series forecasting\n",
        "    data : pandas.DataFrame or numpy.ndarray\n",
        "        Input time series data\n",
        "    seq_length : int\n",
        "        Length of the sequence to use for prediction\n",
        "    return_numpy : bool, default=True\n",
        "        Whether to return predictions as numpy array\n",
        "    device : torch.device, default=None\n",
        "        Device to run the model on. If None, uses CUDA if available\n",
        "\n",
        "    Returns:\n",
        "    --------\n",
        "    predictions : numpy.ndarray or torch.Tensor\n",
        "        Forecasted values\n",
        "    \"\"\"\n",
        "    # Determine device if not specified\n",
        "    if device is None:\n",
        "        device = torch.device(\"cuda\" if torch.cuda.is_available() else \"cpu\")\n",
        "\n",
        "    # Convert input data to numpy if it's a DataFrame\n",
        "    if isinstance(data, pd.DataFrame):\n",
        "        data = data.to_numpy()\n",
        "\n",
        "    # Prepare input tensor with shape [1, seq_length, features]\n",
        "    X = torch.tensor(data[np.newaxis, :seq_length], dtype=torch.float32).to(device)\n",
        "\n",
        "    # Set model to evaluation mode and move to device\n",
        "    model = model.to(device)\n",
        "    model.eval()\n",
        "\n",
        "    # Make prediction without computing gradients\n",
        "    with torch.no_grad():\n",
        "        predictions = model(X)\n",
        "\n",
        "    # Return as numpy array if requested\n",
        "    if return_numpy:\n",
        "        return predictions.cpu().numpy()\n",
        "\n",
        "    return predictions"
      ],
      "metadata": {
        "id": "J2Yg1agoAM3g"
      },
      "execution_count": 104,
      "outputs": []
    },
    {
      "cell_type": "code",
      "execution_count": 42,
      "metadata": {
        "id": "k5QHF1itxIzd"
      },
      "outputs": [],
      "source": [
        "# Computes MAE for two numpy arrays\n",
        "maef = lambda y_pred, data: (y_pred - data).abs().mean()"
      ]
    },
    {
      "cell_type": "markdown",
      "metadata": {
        "id": "FbinYP26mByV"
      },
      "source": [
        "Align the phase: helper function"
      ]
    },
    {
      "cell_type": "code",
      "execution_count": 43,
      "metadata": {
        "id": "v_Xgb57hkqIX"
      },
      "outputs": [],
      "source": [
        "def align_phase(ts, dt=-1):\n",
        "  \"\"\"\n",
        "  Returns a pandas time series object.\n",
        "  \"\"\"\n",
        "  # shift the TS by -1 day\n",
        "  values_shift=np.roll(ts, dt)\n",
        "\n",
        "  # create a pandas TS\n",
        "  return pd.Series(values_shift, index=ts.index)"
      ]
    },
    {
      "cell_type": "markdown",
      "metadata": {
        "id": "aN58qjsoC8Zc"
      },
      "source": [
        "# Data\n",
        "\n"
      ]
    },
    {
      "cell_type": "markdown",
      "metadata": {
        "id": "w6y_xbmtC8ZV"
      },
      "source": [
        "## Get data"
      ]
    },
    {
      "cell_type": "code",
      "execution_count": 44,
      "metadata": {
        "colab": {
          "base_uri": "https://localhost:8080/"
        },
        "id": "JhtKOCfAC8ZW",
        "outputId": "bdfeccf6-15d4-4fed-abfe-3dc8b5865dd9"
      },
      "outputs": [
        {
          "output_type": "stream",
          "name": "stdout",
          "text": [
            "--2025-04-08 18:43:08--  https://github.com/ageron/data/raw/main/ridership.tgz\n",
            "Resolving github.com (github.com)... 140.82.116.4\n",
            "Connecting to github.com (github.com)|140.82.116.4|:443... connected.\n",
            "HTTP request sent, awaiting response... 302 Found\n",
            "Location: https://raw.githubusercontent.com/ageron/data/main/ridership.tgz [following]\n",
            "--2025-04-08 18:43:08--  https://raw.githubusercontent.com/ageron/data/main/ridership.tgz\n",
            "Resolving raw.githubusercontent.com (raw.githubusercontent.com)... 185.199.108.133, 185.199.109.133, 185.199.110.133, ...\n",
            "Connecting to raw.githubusercontent.com (raw.githubusercontent.com)|185.199.108.133|:443... connected.\n",
            "HTTP request sent, awaiting response... 200 OK\n",
            "Length: 108512 (106K) [application/octet-stream]\n",
            "Saving to: ‘ridership.tgz’\n",
            "\n",
            "ridership.tgz       100%[===================>] 105.97K  --.-KB/s    in 0.02s   \n",
            "\n",
            "2025-04-08 18:43:09 (6.07 MB/s) - ‘ridership.tgz’ saved [108512/108512]\n",
            "\n",
            "mkdir: cannot create directory ‘data’: File exists\n",
            "ridership/\n",
            "ridership/CTA_-_Ridership_-_Daily_Boarding_Totals.csv\n"
          ]
        }
      ],
      "source": [
        "!wget https://github.com/ageron/data/raw/main/ridership.tgz\n",
        "!mkdir data\n",
        "!mv ridership.tgz data\n",
        "!tar -xvzf data/ridership.tgz --directory=data/"
      ]
    },
    {
      "cell_type": "code",
      "execution_count": 45,
      "metadata": {
        "id": "9HaMrRBHC8ZW"
      },
      "outputs": [],
      "source": [
        "# read data\n",
        "path = Path(\"data/ridership/CTA_-_Ridership_-_Daily_Boarding_Totals.csv\")\n",
        "df = pd.read_csv(path, parse_dates=[\"service_date\"])\n",
        "\n",
        "# some cleaning\n",
        "df.columns = [\"date\", \"day_type\", \"bus\", \"rail\", \"total\"]  # shorter names\n",
        "df = df.sort_values(\"date\").set_index(\"date\")\n",
        "df = df.drop(\"total\", axis=1)  # no need for total, it's just bus + rail\n",
        "df = df.drop_duplicates()  # remove duplicated months (2011-10 and 2014-07)"
      ]
    },
    {
      "cell_type": "markdown",
      "metadata": {
        "id": "Vd2uIWoxC8ZX"
      },
      "source": [
        "## Preparing data for ML models\n",
        "\n",
        "Our goal will be to forecast tomorrow’s ridership based\n",
        "on the ridership of the past 8 weeks of data (56 days). The inputs to our model\n",
        "will therefore be sequences (usually a single sequence per day once the model is in\n",
        "production), each containing 56 values from time steps $t – 55$ to $t$. For each input\n",
        "sequence, the model will output a single value: the forecast for time step $t + 1$."
      ]
    },
    {
      "cell_type": "markdown",
      "metadata": {
        "id": "SxYOoLwyC8ZY"
      },
      "source": [
        "Before we continue looking at the data, let's **split the time series into three periods, for training, validation and testing**. We won't look at the test data for now:"
      ]
    },
    {
      "cell_type": "code",
      "execution_count": 46,
      "metadata": {
        "id": "yrBVzaUoC8ZY"
      },
      "outputs": [],
      "source": [
        "rail_train = df[\"rail\"][\"2016-01\":\"2018-12\"] / 1e6\n",
        "rail_valid = df[\"rail\"][\"2019-01\":\"2019-05\"] / 1e6\n",
        "rail_test = df[\"rail\"][\"2019-06\":] / 1e6"
      ]
    },
    {
      "cell_type": "markdown",
      "metadata": {
        "id": "3gq1AH-RC8ZY"
      },
      "source": [
        "Blue is training, orange if validation, green is test"
      ]
    },
    {
      "cell_type": "code",
      "execution_count": 47,
      "metadata": {
        "colab": {
          "base_uri": "https://localhost:8080/",
          "height": 349
        },
        "id": "F_OQqCaVC8ZZ",
        "outputId": "c2e2b56c-46af-4f74-8820-ee9be11aa079"
      },
      "outputs": [
        {
          "output_type": "display_data",
          "data": {
            "text/plain": [
              "<Figure size 800x350 with 1 Axes>"
            ],
            "image/png": "[encoded data removed]"
          },
          "metadata": {}
        }
      ],
      "source": [
        "rail_train.plot(figsize=(8, 3.5), label='train')\n",
        "rail_valid.plot(label='validation')\n",
        "rail_test[:'2020-1'].plot(label='testing') # excludes the pandemic\n",
        "plt.legend()\n",
        "plt.show()"
      ]
    },
    {
      "cell_type": "markdown",
      "metadata": {
        "id": "OGn7SnRvAHOG"
      },
      "source": [
        "## Preps for pytorch\n",
        "\n",
        "Training and validation data"
      ]
    },
    {
      "cell_type": "code",
      "execution_count": 48,
      "metadata": {
        "id": "ha5v5V87C8ZZ"
      },
      "outputs": [],
      "source": [
        "# For reproducibility\n",
        "torch.manual_seed(42)\n",
        "np.random.seed(42)\n",
        "\n",
        "class TimeSeriesDataset(Dataset):\n",
        "    def __init__(self, data, seq_length):\n",
        "        self.data = data\n",
        "        self.seq_length = seq_length\n",
        "\n",
        "    def __len__(self):\n",
        "        return len(self.data) - self.seq_length\n",
        "\n",
        "    def __getitem__(self, idx):\n",
        "        # Get sequence\n",
        "        sequence = self.data[idx:idx+self.seq_length]\n",
        "        # Get target (next value after sequence)\n",
        "        target = self.data[idx+self.seq_length]\n",
        "        return torch.tensor(sequence, dtype=torch.float32), torch.tensor(target, dtype=torch.float32)"
      ]
    },
    {
      "cell_type": "code",
      "source": [
        "# Convert rail_train to numpy array\n",
        "data_array = rail_train.to_numpy()\n",
        "\n",
        "# Create dataset\n",
        "seq_length = 56\n",
        "dataset = TimeSeriesDataset(data_array, seq_length)\n",
        "\n",
        "# For reproducibility when shuffling\n",
        "g = torch.Generator()\n",
        "g.manual_seed(42)"
      ],
      "metadata": {
        "colab": {
          "base_uri": "https://localhost:8080/"
        },
        "id": "TZDQfZQwJRUY",
        "outputId": "d0e8d340-1a1c-4c48-a224-fddbaa0b4786"
      },
      "execution_count": 49,
      "outputs": [
        {
          "output_type": "execute_result",
          "data": {
            "text/plain": [
              "<torch._C.Generator at 0x7e766d9c3d10>"
            ]
          },
          "metadata": {},
          "execution_count": 49
        }
      ]
    },
    {
      "cell_type": "code",
      "source": [
        "# Create dataloader with shuffling and batching (train_ds)\n",
        "train_loader = DataLoader(\n",
        "    dataset,\n",
        "    batch_size=32,\n",
        "    shuffle=True,\n",
        "    generator=g,\n",
        "    drop_last=False\n",
        ")\n",
        "\n",
        "# Create validation dataset using the same TimeSeriesDataset class\n",
        "valid_data_array = rail_valid.to_numpy()\n",
        "valid_dataset = TimeSeriesDataset(valid_data_array, seq_length)\n",
        "\n",
        "# Create validation dataloader (no shuffling needed for validation) (valid_ds)\n",
        "valid_loader = DataLoader(\n",
        "    valid_dataset,\n",
        "    batch_size=32,\n",
        "    shuffle=False,\n",
        "    drop_last=False\n",
        ")"
      ],
      "metadata": {
        "id": "bAYv84rJJWNo"
      },
      "execution_count": 50,
      "outputs": []
    },
    {
      "cell_type": "markdown",
      "metadata": {
        "id": "wlQ0tBpoI0WQ"
      },
      "source": [
        "# RNN\n",
        "\n"
      ]
    },
    {
      "cell_type": "markdown",
      "metadata": {
        "id": "DM4spJLiKL2w"
      },
      "source": [
        "## One recursive neuron"
      ]
    },
    {
      "cell_type": "markdown",
      "metadata": {
        "id": "0oMU2fWQAHOG"
      },
      "source": [
        "Checks whether the model was already trained and saved to disk, if not performs the training"
      ]
    },
    {
      "cell_type": "markdown",
      "source": [
        "keras-equivalent code:\n",
        "\n",
        "```python\n",
        "if not os.path.exists(model_file): # train\n",
        "    # defines model\n",
        "    model = tf.keras.Sequential([\n",
        "        tf.keras.layers.Input(shape=(None, 1)),  # Define the input shape explicitly\n",
        "        tf.keras.layers.SimpleRNN(1)\n",
        "    ])\n",
        "```"
      ],
      "metadata": {
        "id": "ivyCIV8iLzEM"
      }
    },
    {
      "cell_type": "code",
      "execution_count": 51,
      "metadata": {
        "id": "i8vsdsxUC8Zc"
      },
      "outputs": [],
      "source": [
        "class SimpleRNNModel(nn.Module):\n",
        "    def __init__(self):\n",
        "        super(SimpleRNNModel, self).__init__()\n",
        "        self.rnn = nn.RNN(input_size=1, hidden_size=1, batch_first=True)\n",
        "\n",
        "    def forward(self, x):\n",
        "        # x shape: (batch_size, seq_length, input_size=1)\n",
        "        _, h_n = self.rnn(x)\n",
        "        # h_n shape: (num_layers=1, batch_size, hidden_size=1)\n",
        "        return h_n.squeeze(0)  # shape: (batch_size, hidden_size=1)\n",
        "\n",
        "# Create an instance of the model\n",
        "model = SimpleRNNModel()"
      ]
    },
    {
      "cell_type": "code",
      "source": [
        "if in_colab:\n",
        "  os.makedirs('/content/drive/MyDrive/Colab Notebooks/pytorch/models/', exist_ok=True)\n",
        "else:\n",
        "  os.makedirs(Path() / \"models\", exist_ok=True)"
      ],
      "metadata": {
        "id": "Zy8jMxaINuhE"
      },
      "execution_count": 52,
      "outputs": []
    },
    {
      "cell_type": "code",
      "source": [
        "train_save(model, in_colab, \"rnn-1n.pth\", train_loader, valid_loader, 0.02, fit_and_evaluate)"
      ],
      "metadata": {
        "id": "MxXvskQ1fUyV",
        "colab": {
          "base_uri": "https://localhost:8080/"
        },
        "outputId": "ec6c8f18-3947-4226-a637-396ec6e054fd"
      },
      "execution_count": 53,
      "outputs": [
        {
          "output_type": "stream",
          "name": "stdout",
          "text": [
            "Loading weights from disk\n"
          ]
        }
      ]
    },
    {
      "cell_type": "markdown",
      "metadata": {
        "id": "LK7RBZYQQLQ-"
      },
      "source": [
        "Get the forecast"
      ]
    },
    {
      "cell_type": "code",
      "execution_count": 54,
      "metadata": {
        "colab": {
          "base_uri": "https://localhost:8080/"
        },
        "id": "5f5o8fQTOscT",
        "outputId": "99e0906a-f8aa-450c-90f7-485712f07155"
      },
      "outputs": [
        {
          "output_type": "stream",
          "name": "stdout",
          "text": [
            "CPU times: user 103 ms, sys: 1 µs, total: 103 ms\n",
            "Wall time: 172 ms\n"
          ]
        }
      ],
      "source": [
        "%%time\n",
        "y_1n=get_forecast(seq_length, rail_valid, model)"
      ]
    },
    {
      "cell_type": "code",
      "execution_count": 55,
      "metadata": {
        "colab": {
          "base_uri": "https://localhost:8080/"
        },
        "id": "ejtJMB4sPtQu",
        "outputId": "00aefda3-a10f-47ea-978c-b84cb67e2f3e"
      },
      "outputs": [
        {
          "output_type": "stream",
          "name": "stdout",
          "text": [
            "133759.1406023553\n"
          ]
        }
      ],
      "source": [
        "mae_1n=maef(y_1n, rail_valid[y_1n.index])*1e6\n",
        "print(mae_1n)"
      ]
    },
    {
      "cell_type": "code",
      "execution_count": 56,
      "metadata": {
        "colab": {
          "base_uri": "https://localhost:8080/",
          "height": 386
        },
        "id": "RImCcihRPQTO",
        "outputId": "ecae7c13-bb3c-42f4-e054-c8913045a38f"
      },
      "outputs": [
        {
          "output_type": "stream",
          "name": "stderr",
          "text": [
            "<ipython-input-56-71032f513481>:3: UserWarning: This axis already has a converter set and is updating to a potentially incompatible converter\n",
            "  ax.plot(y_1n, marker=\".\", label=\"1 neuron\")\n"
          ]
        },
        {
          "output_type": "display_data",
          "data": {
            "text/plain": [
              "<Figure size 800x300 with 1 Axes>"
            ],
            "image/png": "[encoded data removed]"
          },
          "metadata": {}
        }
      ],
      "source": [
        "fig, ax = plt.subplots(figsize=(8, 3))\n",
        "rail_valid.loc[y_1n.index[0]-pd.Timedelta(days=10):rail_valid.index[-1]].plot(label=\"Data\", ax=ax, marker=\".\", grid=True)\n",
        "ax.plot(y_1n, marker=\".\", label=\"1 neuron\")\n",
        "plt.legend(fontsize=10, loc='lower right')\n",
        "plt.title(\"RNN\")\n",
        "plt.show()"
      ]
    },
    {
      "cell_type": "markdown",
      "metadata": {
        "id": "CpIYebIJG5yv"
      },
      "source": [
        "### Analysis\n",
        "\n",
        "Why is the performance abysmal?\n",
        "\n",
        "**Underfitting**\n",
        "\n",
        "The model only has a single recurrent neuron, so the only data it can use to\n",
        "make a prediction at each time step is the input value at the current time step\n",
        "and the output value from the previous time step. In\n",
        "other words, the RNN’s memory is just a single number,\n",
        "its previous output.\n",
        "\n",
        "How many parameters this model has? Since\n",
        "there’s just one recurrent neuron with only two input values, the whole model\n",
        "only has three parameters (two weights plus a bias term). That’s far from enough\n",
        "for this time series. In contrast, our previous model could look at all 56 previous\n",
        "values at once, and it had a total of 57 parameters.\n",
        "\n",
        "**Lack of proper normalization**\n",
        "\n",
        "The time series contains values from 0 to about 1.4, but since the default activation function is tanh, the recurrent layer can only output values between –1 and +1. There’s no way it can predict values between 1.0 and 1.4."
      ]
    },
    {
      "cell_type": "markdown",
      "metadata": {
        "id": "w9nh33KBC8Zc"
      },
      "source": [
        "## 32 recurrent neurons\n",
        "\n",
        "Recurrent layer, containing 32 recurrent neurons. We add a dense output layer on top of it with a single output neuron and no activation function. The recurrent layer will be able to carry much more information from one time step to the next, and the dense output layer will project the final output from 32 dimensions down to 1, without any value range constraints.\n",
        "\n",
        "Keras-equivalent code:\n",
        "\n",
        "```python\n",
        "    # defines model\n",
        "    univar_model = tf.keras.Sequential([\n",
        "        tf.keras.Input(shape=[None, 1]),  # Define the input shape explicitly\n",
        "        tf.keras.layers.SimpleRNN(32),\n",
        "        tf.keras.layers.Dense(1)  # No activation function by default\n",
        "    ])\n",
        "```"
      ]
    },
    {
      "cell_type": "code",
      "source": [
        "class UnivarModel(nn.Module):\n",
        "    def __init__(self, input_size=1, hidden_size=32, output_size=1):\n",
        "        super(UnivarModel, self).__init__()\n",
        "\n",
        "        # Equivalent to SimpleRNN(32)\n",
        "        self.rnn = nn.RNN(\n",
        "            input_size=input_size,     # Feature dimension (1 for univariate)\n",
        "            hidden_size=hidden_size,   # Number of RNN units (32)\n",
        "            batch_first=True,          # Input shape is [batch, seq, feature]\n",
        "            nonlinearity='tanh'        # Default activation for SimpleRNN\n",
        "        )\n",
        "\n",
        "        # Equivalent to Dense(1)\n",
        "        self.linear = nn.Linear(hidden_size, output_size)\n",
        "\n",
        "    def forward(self, x):\n",
        "        # x shape: [batch_size, seq_length, input_size]\n",
        "\n",
        "        # RNN returns: output, h_n\n",
        "        # output shape: [batch_size, seq_length, hidden_size]\n",
        "        # h_n shape: [1, batch_size, hidden_size]\n",
        "        _, h_n = self.rnn(x)\n",
        "\n",
        "        # Use the final hidden state\n",
        "        # Reshape h_n: [1, batch_size, hidden_size] -> [batch_size, hidden_size]\n",
        "        h_n = h_n.squeeze(0)\n",
        "\n",
        "        # Apply linear layer\n",
        "        output = self.linear(h_n)\n",
        "\n",
        "        return output\n",
        "\n",
        "# Create an instance of the model\n",
        "model = UnivarModel(input_size=1, hidden_size=32, output_size=1)"
      ],
      "metadata": {
        "id": "DX7CEugZQJ5z"
      },
      "execution_count": 57,
      "outputs": []
    },
    {
      "cell_type": "code",
      "source": [
        "%time train_save(model, in_colab, \"rnn-32n.pth\", train_loader, valid_loader, 0.05, fit_and_evaluate)"
      ],
      "metadata": {
        "colab": {
          "base_uri": "https://localhost:8080/"
        },
        "id": "AAt85EAMf4MU",
        "outputId": "dea7bd07-adbe-430d-81bc-3019083588ad"
      },
      "execution_count": 58,
      "outputs": [
        {
          "output_type": "stream",
          "name": "stdout",
          "text": [
            "Loading weights from disk\n",
            "CPU times: user 1.72 ms, sys: 1 ms, total: 2.72 ms\n",
            "Wall time: 11.8 ms\n"
          ]
        }
      ]
    },
    {
      "cell_type": "code",
      "execution_count": 59,
      "metadata": {
        "id": "O4WoGMmpQQ-l",
        "colab": {
          "base_uri": "https://localhost:8080/"
        },
        "outputId": "56e41f3a-6df6-42c9-f4aa-e0161deef899"
      },
      "outputs": [
        {
          "output_type": "stream",
          "name": "stdout",
          "text": [
            "CPU times: user 107 ms, sys: 328 µs, total: 108 ms\n",
            "Wall time: 115 ms\n"
          ]
        }
      ],
      "source": [
        "%%time\n",
        "y_32n=get_forecast(seq_length, rail_valid, model)"
      ]
    },
    {
      "cell_type": "code",
      "execution_count": 60,
      "metadata": {
        "id": "Y87OSbiwQ0ZJ",
        "colab": {
          "base_uri": "https://localhost:8080/"
        },
        "outputId": "c646c1d6-5abd-46d5-9254-8776ca46473b"
      },
      "outputs": [
        {
          "output_type": "stream",
          "name": "stdout",
          "text": [
            "131804.9164191307\n"
          ]
        }
      ],
      "source": [
        "mae_32n=maef(y_32n, rail_valid[y_32n.index])*1e6\n",
        "print(mae_32n)"
      ]
    },
    {
      "cell_type": "code",
      "execution_count": 61,
      "metadata": {
        "id": "NR5JzTgAQ3RB",
        "colab": {
          "base_uri": "https://localhost:8080/",
          "height": 386
        },
        "outputId": "07136d26-e630-4fa8-bad3-0c32c560aa15"
      },
      "outputs": [
        {
          "output_type": "stream",
          "name": "stderr",
          "text": [
            "<ipython-input-61-a9cae016e86b>:3: UserWarning: This axis already has a converter set and is updating to a potentially incompatible converter\n",
            "  ax.plot(y_32n, marker=\".\", label=\"32 neurons\")\n"
          ]
        },
        {
          "output_type": "display_data",
          "data": {
            "text/plain": [
              "<Figure size 800x300 with 1 Axes>"
            ],
            "image/png": "[encoded data removed]"
          },
          "metadata": {}
        }
      ],
      "source": [
        "fig, ax = plt.subplots(figsize=(8, 3))\n",
        "rail_valid.loc[y_32n.index[0]-pd.Timedelta(days=10):rail_valid.index[-1]].plot(label=\"Data\", ax=ax, marker=\".\", grid=True)\n",
        "ax.plot(y_32n, marker=\".\", label=\"32 neurons\")\n",
        "plt.legend(fontsize=10, loc='lower right')\n",
        "plt.title(\"RNN\")\n",
        "plt.show()"
      ]
    },
    {
      "cell_type": "markdown",
      "metadata": {
        "id": "zQcruXchTZSG"
      },
      "source": [
        "### Aligning the phase\n",
        "\n",
        "As I said in the previous notebook, the model can't know if the starting time for the forecast is in the beginning, middle or end of a period. Let's shift the forecast by one day and see how that impacts the MAE."
      ]
    },
    {
      "cell_type": "code",
      "execution_count": 62,
      "metadata": {
        "id": "X-FibEpWvjQG"
      },
      "outputs": [],
      "source": [
        "# shift the TS by -1 day\n",
        "values_shift=np.roll(y_32n, -1)\n",
        "\n",
        "# create a pandas TS\n",
        "ts_shift=pd.Series(values_shift, index=y_32n.index)"
      ]
    },
    {
      "cell_type": "code",
      "execution_count": 63,
      "metadata": {
        "id": "DVSXix7fwdpy",
        "colab": {
          "base_uri": "https://localhost:8080/",
          "height": 364
        },
        "outputId": "ea0a09c8-85cb-497c-c4da-31981fb41635"
      },
      "outputs": [
        {
          "output_type": "stream",
          "name": "stderr",
          "text": [
            "<ipython-input-63-33b74e8fc46d>:3: UserWarning: This axis already has a converter set and is updating to a potentially incompatible converter\n",
            "  ax.plot(ts_shift, marker=\".\", label=\"32 neurons\")\n"
          ]
        },
        {
          "output_type": "display_data",
          "data": {
            "text/plain": [
              "<Figure size 800x300 with 1 Axes>"
            ],
            "image/png": "[encoded data removed]"
          },
          "metadata": {}
        }
      ],
      "source": [
        "fig, ax = plt.subplots(figsize=(8, 3))\n",
        "rail_valid.loc[y_32n.index[0]-pd.Timedelta(days=10):rail_valid.index[-1]].plot(label=\"True\", ax=ax, marker=\".\", grid=True)\n",
        "ax.plot(ts_shift, marker=\".\", label=\"32 neurons\")\n",
        "plt.legend(fontsize=10, loc='lower right')\n",
        "plt.show()"
      ]
    },
    {
      "cell_type": "code",
      "execution_count": 64,
      "metadata": {
        "id": "BtF3fG6BTww-",
        "colab": {
          "base_uri": "https://localhost:8080/"
        },
        "outputId": "52dceca6-3bac-4203-8509-16c61d8c4d3f"
      },
      "outputs": [
        {
          "output_type": "execute_result",
          "data": {
            "text/plain": [
              "np.float64(31531.949082922438)"
            ]
          },
          "metadata": {},
          "execution_count": 64
        }
      ],
      "source": [
        "# recompute MAE\n",
        "maef(ts_shift, rail_valid[ts_shift.index])*1e6"
      ]
    },
    {
      "cell_type": "markdown",
      "metadata": {
        "id": "jmdsFPUuC8Zc"
      },
      "source": [
        "# Deep RNNs"
      ]
    },
    {
      "cell_type": "markdown",
      "source": [
        "Keras-equivalent code:\n",
        "\n",
        "```python\n",
        "deep_model = tf.keras.Sequential([\n",
        "  tf.keras.layers.SimpleRNN(32, return_sequences=True, input_shape=[None, 1]),\n",
        "  tf.keras.layers.SimpleRNN(32, return_sequences=True),\n",
        "  tf.keras.layers.SimpleRNN(32),\n",
        "  tf.keras.layers.Dense(1)\n",
        "])\n",
        "```"
      ],
      "metadata": {
        "id": "Tm8wvQRjhVxE"
      }
    },
    {
      "cell_type": "code",
      "execution_count": 65,
      "metadata": {
        "id": "xm-9lvrpAHOI"
      },
      "outputs": [],
      "source": [
        "class DeepRNN(nn.Module):\n",
        "    def __init__(self, input_size=1, hidden_size=32, output_size=1):\n",
        "        super(DeepRNN, self).__init__()\n",
        "\n",
        "        # First RNN layer (return_sequences=True)\n",
        "        self.rnn1 = nn.RNN(input_size=input_size, hidden_size=hidden_size, batch_first=True, nonlinearity='tanh')\n",
        "        # Second RNN layer (return_sequences=True)\n",
        "        self.rnn2 = nn.RNN(input_size=input_size, hidden_size=hidden_size, batch_first=True, nonlinearity='tanh')\n",
        "        # Third RNN layer (default: return_sequences=False)\n",
        "        self.rnn3 = nn.RNN(input_size=input_size, hidden_size=hidden_size, batch_first=True, nonlinearity='tanh')\n",
        "        # Output layer\n",
        "        self.linear = nn.Linear(hidden_size, output_size)\n",
        "\n",
        "    def forward(self, x):\n",
        "        output1, _ = self.rnn1(x)\n",
        "        output2, _ = self.rnn2(output1)\n",
        "        _, h_n = self.rnn3(output2)\n",
        "        h_n = h_n.squeeze(0)\n",
        "        output = self.linear(h_n)\n",
        "\n",
        "        return output\n",
        "\n",
        "# Create an instance of the model\n",
        "deep_model = DeepRNN(input_size=1, hidden_size=32, output_size=1)"
      ]
    },
    {
      "cell_type": "code",
      "source": [
        "%%time\n",
        "train_save(deep_model, in_colab, \"rnn-deep.pth\", train_loader, valid_loader, 0.01, fit_and_evaluate)"
      ],
      "metadata": {
        "id": "NlOMuLFlg3EJ",
        "colab": {
          "base_uri": "https://localhost:8080/",
          "height": 478
        },
        "outputId": "c305101f-2819-4c55-ef18-edd1b1dec102"
      },
      "execution_count": 69,
      "outputs": [
        {
          "output_type": "stream",
          "name": "stdout",
          "text": [
            "Loading weights from disk\n"
          ]
        },
        {
          "output_type": "error",
          "ename": "RuntimeError",
          "evalue": "Error(s) in loading state_dict for DeepRNN:\n\tsize mismatch for rnn2.weight_ih_l0: copying a param with shape torch.Size([32, 32]) from checkpoint, the shape in current model is torch.Size([32, 1]).\n\tsize mismatch for rnn3.weight_ih_l0: copying a param with shape torch.Size([32, 32]) from checkpoint, the shape in current model is torch.Size([32, 1]).",
          "traceback": [
            "\u001b[0;31m---------------------------------------------------------------------------\u001b[0m",
            "\u001b[0;31mRuntimeError\u001b[0m                              Traceback (most recent call last)",
            "\u001b[0;32m<timed eval>\u001b[0m in \u001b[0;36m<module>\u001b[0;34m\u001b[0m\n",
            "\u001b[0;32m<ipython-input-39-12bde660d37f>\u001b[0m in \u001b[0;36mtrain_save\u001b[0;34m(model, in_colab, filename, train_loader, valid_loader, learning_rate, training_fn)\u001b[0m\n\u001b[1;32m     15\u001b[0m     \u001b[0;31m# Then load the saved weights\u001b[0m\u001b[0;34m\u001b[0m\u001b[0;34m\u001b[0m\u001b[0m\n\u001b[1;32m     16\u001b[0m     \u001b[0mprint\u001b[0m\u001b[0;34m(\u001b[0m\u001b[0;34m\"Loading weights from disk\"\u001b[0m\u001b[0;34m)\u001b[0m\u001b[0;34m\u001b[0m\u001b[0;34m\u001b[0m\u001b[0m\n\u001b[0;32m---> 17\u001b[0;31m     \u001b[0mmodel\u001b[0m\u001b[0;34m.\u001b[0m\u001b[0mload_state_dict\u001b[0m\u001b[0;34m(\u001b[0m\u001b[0mtorch\u001b[0m\u001b[0;34m.\u001b[0m\u001b[0mload\u001b[0m\u001b[0;34m(\u001b[0m\u001b[0mmodel_file\u001b[0m\u001b[0;34m)\u001b[0m\u001b[0;34m)\u001b[0m\u001b[0;34m\u001b[0m\u001b[0;34m\u001b[0m\u001b[0m\n\u001b[0m\u001b[1;32m     18\u001b[0m \u001b[0;34m\u001b[0m\u001b[0m\n\u001b[1;32m     19\u001b[0m     \u001b[0;31m# Set to evaluation mode if using for inference\u001b[0m\u001b[0;34m\u001b[0m\u001b[0;34m\u001b[0m\u001b[0m\n",
            "\u001b[0;32m/usr/local/lib/python3.11/dist-packages/torch/nn/modules/module.py\u001b[0m in \u001b[0;36mload_state_dict\u001b[0;34m(self, state_dict, strict, assign)\u001b[0m\n\u001b[1;32m   2579\u001b[0m \u001b[0;34m\u001b[0m\u001b[0m\n\u001b[1;32m   2580\u001b[0m         \u001b[0;32mif\u001b[0m \u001b[0mlen\u001b[0m\u001b[0;34m(\u001b[0m\u001b[0merror_msgs\u001b[0m\u001b[0;34m)\u001b[0m \u001b[0;34m>\u001b[0m \u001b[0;36m0\u001b[0m\u001b[0;34m:\u001b[0m\u001b[0;34m\u001b[0m\u001b[0;34m\u001b[0m\u001b[0m\n\u001b[0;32m-> 2581\u001b[0;31m             raise RuntimeError(\n\u001b[0m\u001b[1;32m   2582\u001b[0m                 \"Error(s) in loading state_dict for {}:\\n\\t{}\".format(\n\u001b[1;32m   2583\u001b[0m                     \u001b[0mself\u001b[0m\u001b[0;34m.\u001b[0m\u001b[0m__class__\u001b[0m\u001b[0;34m.\u001b[0m\u001b[0m__name__\u001b[0m\u001b[0;34m,\u001b[0m \u001b[0;34m\"\\n\\t\"\u001b[0m\u001b[0;34m.\u001b[0m\u001b[0mjoin\u001b[0m\u001b[0;34m(\u001b[0m\u001b[0merror_msgs\u001b[0m\u001b[0;34m)\u001b[0m\u001b[0;34m\u001b[0m\u001b[0;34m\u001b[0m\u001b[0m\n",
            "\u001b[0;31mRuntimeError\u001b[0m: Error(s) in loading state_dict for DeepRNN:\n\tsize mismatch for rnn2.weight_ih_l0: copying a param with shape torch.Size([32, 32]) from checkpoint, the shape in current model is torch.Size([32, 1]).\n\tsize mismatch for rnn3.weight_ih_l0: copying a param with shape torch.Size([32, 32]) from checkpoint, the shape in current model is torch.Size([32, 1])."
          ]
        }
      ]
    },
    {
      "cell_type": "markdown",
      "metadata": {
        "id": "si16fxTtmjzr"
      },
      "source": [
        "Forecast"
      ]
    },
    {
      "cell_type": "code",
      "execution_count": 67,
      "metadata": {
        "id": "e4XHdF0fmmFv",
        "colab": {
          "base_uri": "https://localhost:8080/",
          "height": 410
        },
        "outputId": "e9def6a3-6440-4a08-a5cf-e468331fa860"
      },
      "outputs": [
        {
          "output_type": "error",
          "ename": "RuntimeError",
          "evalue": "input.size(-1) must be equal to input_size. Expected 1, got 32",
          "traceback": [
            "\u001b[0;31m---------------------------------------------------------------------------\u001b[0m",
            "\u001b[0;31mRuntimeError\u001b[0m                              Traceback (most recent call last)",
            "\u001b[0;32m<timed exec>\u001b[0m in \u001b[0;36m<module>\u001b[0;34m\u001b[0m\n",
            "\u001b[0;32m<ipython-input-40-465815e0434b>\u001b[0m in \u001b[0;36mget_forecast\u001b[0;34m(seq_length, ts, model)\u001b[0m\n\u001b[1;32m     31\u001b[0m \u001b[0;34m\u001b[0m\u001b[0m\n\u001b[1;32m     32\u001b[0m             \u001b[0;31m# Get prediction\u001b[0m\u001b[0;34m\u001b[0m\u001b[0;34m\u001b[0m\u001b[0m\n\u001b[0;32m---> 33\u001b[0;31m             \u001b[0my_pred\u001b[0m \u001b[0;34m=\u001b[0m \u001b[0mmodel\u001b[0m\u001b[0;34m(\u001b[0m\u001b[0mt_in_torch\u001b[0m\u001b[0;34m)\u001b[0m\u001b[0;34m\u001b[0m\u001b[0;34m\u001b[0m\u001b[0m\n\u001b[0m\u001b[1;32m     34\u001b[0m \u001b[0;34m\u001b[0m\u001b[0m\n\u001b[1;32m     35\u001b[0m             \u001b[0;31m# Extract the scalar prediction value\u001b[0m\u001b[0;34m\u001b[0m\u001b[0;34m\u001b[0m\u001b[0m\n",
            "\u001b[0;32m/usr/local/lib/python3.11/dist-packages/torch/nn/modules/module.py\u001b[0m in \u001b[0;36m_wrapped_call_impl\u001b[0;34m(self, *args, **kwargs)\u001b[0m\n\u001b[1;32m   1737\u001b[0m             \u001b[0;32mreturn\u001b[0m \u001b[0mself\u001b[0m\u001b[0;34m.\u001b[0m\u001b[0m_compiled_call_impl\u001b[0m\u001b[0;34m(\u001b[0m\u001b[0;34m*\u001b[0m\u001b[0margs\u001b[0m\u001b[0;34m,\u001b[0m \u001b[0;34m**\u001b[0m\u001b[0mkwargs\u001b[0m\u001b[0;34m)\u001b[0m  \u001b[0;31m# type: ignore[misc]\u001b[0m\u001b[0;34m\u001b[0m\u001b[0;34m\u001b[0m\u001b[0m\n\u001b[1;32m   1738\u001b[0m         \u001b[0;32melse\u001b[0m\u001b[0;34m:\u001b[0m\u001b[0;34m\u001b[0m\u001b[0;34m\u001b[0m\u001b[0m\n\u001b[0;32m-> 1739\u001b[0;31m             \u001b[0;32mreturn\u001b[0m \u001b[0mself\u001b[0m\u001b[0;34m.\u001b[0m\u001b[0m_call_impl\u001b[0m\u001b[0;34m(\u001b[0m\u001b[0;34m*\u001b[0m\u001b[0margs\u001b[0m\u001b[0;34m,\u001b[0m \u001b[0;34m**\u001b[0m\u001b[0mkwargs\u001b[0m\u001b[0;34m)\u001b[0m\u001b[0;34m\u001b[0m\u001b[0;34m\u001b[0m\u001b[0m\n\u001b[0m\u001b[1;32m   1740\u001b[0m \u001b[0;34m\u001b[0m\u001b[0m\n\u001b[1;32m   1741\u001b[0m     \u001b[0;31m# torchrec tests the code consistency with the following code\u001b[0m\u001b[0;34m\u001b[0m\u001b[0;34m\u001b[0m\u001b[0m\n",
            "\u001b[0;32m/usr/local/lib/python3.11/dist-packages/torch/nn/modules/module.py\u001b[0m in \u001b[0;36m_call_impl\u001b[0;34m(self, *args, **kwargs)\u001b[0m\n\u001b[1;32m   1748\u001b[0m                 \u001b[0;32mor\u001b[0m \u001b[0m_global_backward_pre_hooks\u001b[0m \u001b[0;32mor\u001b[0m \u001b[0m_global_backward_hooks\u001b[0m\u001b[0;34m\u001b[0m\u001b[0;34m\u001b[0m\u001b[0m\n\u001b[1;32m   1749\u001b[0m                 or _global_forward_hooks or _global_forward_pre_hooks):\n\u001b[0;32m-> 1750\u001b[0;31m             \u001b[0;32mreturn\u001b[0m \u001b[0mforward_call\u001b[0m\u001b[0;34m(\u001b[0m\u001b[0;34m*\u001b[0m\u001b[0margs\u001b[0m\u001b[0;34m,\u001b[0m \u001b[0;34m**\u001b[0m\u001b[0mkwargs\u001b[0m\u001b[0;34m)\u001b[0m\u001b[0;34m\u001b[0m\u001b[0;34m\u001b[0m\u001b[0m\n\u001b[0m\u001b[1;32m   1751\u001b[0m \u001b[0;34m\u001b[0m\u001b[0m\n\u001b[1;32m   1752\u001b[0m         \u001b[0mresult\u001b[0m \u001b[0;34m=\u001b[0m \u001b[0;32mNone\u001b[0m\u001b[0;34m\u001b[0m\u001b[0;34m\u001b[0m\u001b[0m\n",
            "\u001b[0;32m<ipython-input-65-f1a4f4dfbd43>\u001b[0m in \u001b[0;36mforward\u001b[0;34m(self, x)\u001b[0m\n\u001b[1;32m     14\u001b[0m     \u001b[0;32mdef\u001b[0m \u001b[0mforward\u001b[0m\u001b[0;34m(\u001b[0m\u001b[0mself\u001b[0m\u001b[0;34m,\u001b[0m \u001b[0mx\u001b[0m\u001b[0;34m)\u001b[0m\u001b[0;34m:\u001b[0m\u001b[0;34m\u001b[0m\u001b[0;34m\u001b[0m\u001b[0m\n\u001b[1;32m     15\u001b[0m         \u001b[0moutput1\u001b[0m\u001b[0;34m,\u001b[0m \u001b[0m_\u001b[0m \u001b[0;34m=\u001b[0m \u001b[0mself\u001b[0m\u001b[0;34m.\u001b[0m\u001b[0mrnn1\u001b[0m\u001b[0;34m(\u001b[0m\u001b[0mx\u001b[0m\u001b[0;34m)\u001b[0m\u001b[0;34m\u001b[0m\u001b[0;34m\u001b[0m\u001b[0m\n\u001b[0;32m---> 16\u001b[0;31m         \u001b[0moutput2\u001b[0m\u001b[0;34m,\u001b[0m \u001b[0m_\u001b[0m \u001b[0;34m=\u001b[0m \u001b[0mself\u001b[0m\u001b[0;34m.\u001b[0m\u001b[0mrnn2\u001b[0m\u001b[0;34m(\u001b[0m\u001b[0moutput1\u001b[0m\u001b[0;34m)\u001b[0m\u001b[0;34m\u001b[0m\u001b[0;34m\u001b[0m\u001b[0m\n\u001b[0m\u001b[1;32m     17\u001b[0m         \u001b[0m_\u001b[0m\u001b[0;34m,\u001b[0m \u001b[0mh_n\u001b[0m \u001b[0;34m=\u001b[0m \u001b[0mself\u001b[0m\u001b[0;34m.\u001b[0m\u001b[0mrnn3\u001b[0m\u001b[0;34m(\u001b[0m\u001b[0moutput2\u001b[0m\u001b[0;34m)\u001b[0m\u001b[0;34m\u001b[0m\u001b[0;34m\u001b[0m\u001b[0m\n\u001b[1;32m     18\u001b[0m         \u001b[0mh_n\u001b[0m \u001b[0;34m=\u001b[0m \u001b[0mh_n\u001b[0m\u001b[0;34m.\u001b[0m\u001b[0msqueeze\u001b[0m\u001b[0;34m(\u001b[0m\u001b[0;36m0\u001b[0m\u001b[0;34m)\u001b[0m\u001b[0;34m\u001b[0m\u001b[0;34m\u001b[0m\u001b[0m\n",
            "\u001b[0;32m/usr/local/lib/python3.11/dist-packages/torch/nn/modules/module.py\u001b[0m in \u001b[0;36m_wrapped_call_impl\u001b[0;34m(self, *args, **kwargs)\u001b[0m\n\u001b[1;32m   1737\u001b[0m             \u001b[0;32mreturn\u001b[0m \u001b[0mself\u001b[0m\u001b[0;34m.\u001b[0m\u001b[0m_compiled_call_impl\u001b[0m\u001b[0;34m(\u001b[0m\u001b[0;34m*\u001b[0m\u001b[0margs\u001b[0m\u001b[0;34m,\u001b[0m \u001b[0;34m**\u001b[0m\u001b[0mkwargs\u001b[0m\u001b[0;34m)\u001b[0m  \u001b[0;31m# type: ignore[misc]\u001b[0m\u001b[0;34m\u001b[0m\u001b[0;34m\u001b[0m\u001b[0m\n\u001b[1;32m   1738\u001b[0m         \u001b[0;32melse\u001b[0m\u001b[0;34m:\u001b[0m\u001b[0;34m\u001b[0m\u001b[0;34m\u001b[0m\u001b[0m\n\u001b[0;32m-> 1739\u001b[0;31m             \u001b[0;32mreturn\u001b[0m \u001b[0mself\u001b[0m\u001b[0;34m.\u001b[0m\u001b[0m_call_impl\u001b[0m\u001b[0;34m(\u001b[0m\u001b[0;34m*\u001b[0m\u001b[0margs\u001b[0m\u001b[0;34m,\u001b[0m \u001b[0;34m**\u001b[0m\u001b[0mkwargs\u001b[0m\u001b[0;34m)\u001b[0m\u001b[0;34m\u001b[0m\u001b[0;34m\u001b[0m\u001b[0m\n\u001b[0m\u001b[1;32m   1740\u001b[0m \u001b[0;34m\u001b[0m\u001b[0m\n\u001b[1;32m   1741\u001b[0m     \u001b[0;31m# torchrec tests the code consistency with the following code\u001b[0m\u001b[0;34m\u001b[0m\u001b[0;34m\u001b[0m\u001b[0m\n",
            "\u001b[0;32m/usr/local/lib/python3.11/dist-packages/torch/nn/modules/module.py\u001b[0m in \u001b[0;36m_call_impl\u001b[0;34m(self, *args, **kwargs)\u001b[0m\n\u001b[1;32m   1748\u001b[0m                 \u001b[0;32mor\u001b[0m \u001b[0m_global_backward_pre_hooks\u001b[0m \u001b[0;32mor\u001b[0m \u001b[0m_global_backward_hooks\u001b[0m\u001b[0;34m\u001b[0m\u001b[0;34m\u001b[0m\u001b[0m\n\u001b[1;32m   1749\u001b[0m                 or _global_forward_hooks or _global_forward_pre_hooks):\n\u001b[0;32m-> 1750\u001b[0;31m             \u001b[0;32mreturn\u001b[0m \u001b[0mforward_call\u001b[0m\u001b[0;34m(\u001b[0m\u001b[0;34m*\u001b[0m\u001b[0margs\u001b[0m\u001b[0;34m,\u001b[0m \u001b[0;34m**\u001b[0m\u001b[0mkwargs\u001b[0m\u001b[0;34m)\u001b[0m\u001b[0;34m\u001b[0m\u001b[0;34m\u001b[0m\u001b[0m\n\u001b[0m\u001b[1;32m   1751\u001b[0m \u001b[0;34m\u001b[0m\u001b[0m\n\u001b[1;32m   1752\u001b[0m         \u001b[0mresult\u001b[0m \u001b[0;34m=\u001b[0m \u001b[0;32mNone\u001b[0m\u001b[0;34m\u001b[0m\u001b[0;34m\u001b[0m\u001b[0m\n",
            "\u001b[0;32m/usr/local/lib/python3.11/dist-packages/torch/nn/modules/rnn.py\u001b[0m in \u001b[0;36mforward\u001b[0;34m(self, input, hx)\u001b[0m\n\u001b[1;32m    710\u001b[0m \u001b[0;34m\u001b[0m\u001b[0m\n\u001b[1;32m    711\u001b[0m         \u001b[0;32massert\u001b[0m \u001b[0mhx\u001b[0m \u001b[0;32mis\u001b[0m \u001b[0;32mnot\u001b[0m \u001b[0;32mNone\u001b[0m\u001b[0;34m\u001b[0m\u001b[0;34m\u001b[0m\u001b[0m\n\u001b[0;32m--> 712\u001b[0;31m         \u001b[0mself\u001b[0m\u001b[0;34m.\u001b[0m\u001b[0mcheck_forward_args\u001b[0m\u001b[0;34m(\u001b[0m\u001b[0minput\u001b[0m\u001b[0;34m,\u001b[0m \u001b[0mhx\u001b[0m\u001b[0;34m,\u001b[0m \u001b[0mbatch_sizes\u001b[0m\u001b[0;34m)\u001b[0m\u001b[0;34m\u001b[0m\u001b[0;34m\u001b[0m\u001b[0m\n\u001b[0m\u001b[1;32m    713\u001b[0m         \u001b[0;32massert\u001b[0m \u001b[0mself\u001b[0m\u001b[0;34m.\u001b[0m\u001b[0mmode\u001b[0m \u001b[0;34m==\u001b[0m \u001b[0;34m\"RNN_TANH\"\u001b[0m \u001b[0;32mor\u001b[0m \u001b[0mself\u001b[0m\u001b[0;34m.\u001b[0m\u001b[0mmode\u001b[0m \u001b[0;34m==\u001b[0m \u001b[0;34m\"RNN_RELU\"\u001b[0m\u001b[0;34m\u001b[0m\u001b[0;34m\u001b[0m\u001b[0m\n\u001b[1;32m    714\u001b[0m         \u001b[0;32mif\u001b[0m \u001b[0mbatch_sizes\u001b[0m \u001b[0;32mis\u001b[0m \u001b[0;32mNone\u001b[0m\u001b[0;34m:\u001b[0m\u001b[0;34m\u001b[0m\u001b[0;34m\u001b[0m\u001b[0m\n",
            "\u001b[0;32m/usr/local/lib/python3.11/dist-packages/torch/nn/modules/rnn.py\u001b[0m in \u001b[0;36mcheck_forward_args\u001b[0;34m(self, input, hidden, batch_sizes)\u001b[0m\n\u001b[1;32m    361\u001b[0m         \u001b[0mself\u001b[0m\u001b[0;34m,\u001b[0m \u001b[0minput\u001b[0m\u001b[0;34m:\u001b[0m \u001b[0mTensor\u001b[0m\u001b[0;34m,\u001b[0m \u001b[0mhidden\u001b[0m\u001b[0;34m:\u001b[0m \u001b[0mTensor\u001b[0m\u001b[0;34m,\u001b[0m \u001b[0mbatch_sizes\u001b[0m\u001b[0;34m:\u001b[0m \u001b[0mOptional\u001b[0m\u001b[0;34m[\u001b[0m\u001b[0mTensor\u001b[0m\u001b[0;34m]\u001b[0m\u001b[0;34m\u001b[0m\u001b[0;34m\u001b[0m\u001b[0m\n\u001b[1;32m    362\u001b[0m     ):\n\u001b[0;32m--> 363\u001b[0;31m         \u001b[0mself\u001b[0m\u001b[0;34m.\u001b[0m\u001b[0mcheck_input\u001b[0m\u001b[0;34m(\u001b[0m\u001b[0minput\u001b[0m\u001b[0;34m,\u001b[0m \u001b[0mbatch_sizes\u001b[0m\u001b[0;34m)\u001b[0m\u001b[0;34m\u001b[0m\u001b[0;34m\u001b[0m\u001b[0m\n\u001b[0m\u001b[1;32m    364\u001b[0m         \u001b[0mexpected_hidden_size\u001b[0m \u001b[0;34m=\u001b[0m \u001b[0mself\u001b[0m\u001b[0;34m.\u001b[0m\u001b[0mget_expected_hidden_size\u001b[0m\u001b[0;34m(\u001b[0m\u001b[0minput\u001b[0m\u001b[0;34m,\u001b[0m \u001b[0mbatch_sizes\u001b[0m\u001b[0;34m)\u001b[0m\u001b[0;34m\u001b[0m\u001b[0;34m\u001b[0m\u001b[0m\n\u001b[1;32m    365\u001b[0m \u001b[0;34m\u001b[0m\u001b[0m\n",
            "\u001b[0;32m/usr/local/lib/python3.11/dist-packages/torch/nn/modules/rnn.py\u001b[0m in \u001b[0;36mcheck_input\u001b[0;34m(self, input, batch_sizes)\u001b[0m\n\u001b[1;32m    312\u001b[0m             )\n\u001b[1;32m    313\u001b[0m         \u001b[0;32mif\u001b[0m \u001b[0mself\u001b[0m\u001b[0;34m.\u001b[0m\u001b[0minput_size\u001b[0m \u001b[0;34m!=\u001b[0m \u001b[0minput\u001b[0m\u001b[0;34m.\u001b[0m\u001b[0msize\u001b[0m\u001b[0;34m(\u001b[0m\u001b[0;34m-\u001b[0m\u001b[0;36m1\u001b[0m\u001b[0;34m)\u001b[0m\u001b[0;34m:\u001b[0m\u001b[0;34m\u001b[0m\u001b[0;34m\u001b[0m\u001b[0m\n\u001b[0;32m--> 314\u001b[0;31m             raise RuntimeError(\n\u001b[0m\u001b[1;32m    315\u001b[0m                 \u001b[0;34mf\"input.size(-1) must be equal to input_size. Expected {self.input_size}, got {input.size(-1)}\"\u001b[0m\u001b[0;34m\u001b[0m\u001b[0;34m\u001b[0m\u001b[0m\n\u001b[1;32m    316\u001b[0m             )\n",
            "\u001b[0;31mRuntimeError\u001b[0m: input.size(-1) must be equal to input_size. Expected 1, got 32"
          ]
        }
      ],
      "source": [
        "%%time\n",
        "y_deep=get_forecast(seq_length, rail_valid, deep_model)"
      ]
    },
    {
      "cell_type": "markdown",
      "metadata": {
        "id": "ZdgnjC3cneqn"
      },
      "source": [
        "Phase alignment"
      ]
    },
    {
      "cell_type": "code",
      "execution_count": 68,
      "metadata": {
        "id": "g2TSUY12neDR",
        "colab": {
          "base_uri": "https://localhost:8080/",
          "height": 147
        },
        "outputId": "86f9618d-2e72-4324-e092-fe0987499e68"
      },
      "outputs": [
        {
          "output_type": "error",
          "ename": "NameError",
          "evalue": "name 'y_deep' is not defined",
          "traceback": [
            "\u001b[0;31m---------------------------------------------------------------------------\u001b[0m",
            "\u001b[0;31mNameError\u001b[0m                                 Traceback (most recent call last)",
            "\u001b[0;32m<ipython-input-68-4fd771f024fe>\u001b[0m in \u001b[0;36m<cell line: 0>\u001b[0;34m()\u001b[0m\n\u001b[0;32m----> 1\u001b[0;31m \u001b[0my_deep_aligned\u001b[0m\u001b[0;34m=\u001b[0m\u001b[0malign_phase\u001b[0m\u001b[0;34m(\u001b[0m\u001b[0my_deep\u001b[0m\u001b[0;34m)\u001b[0m\u001b[0;34m\u001b[0m\u001b[0;34m\u001b[0m\u001b[0m\n\u001b[0m",
            "\u001b[0;31mNameError\u001b[0m: name 'y_deep' is not defined"
          ]
        }
      ],
      "source": [
        "y_deep_aligned=align_phase(y_deep)"
      ]
    },
    {
      "cell_type": "code",
      "execution_count": null,
      "metadata": {
        "id": "8HhLdA3WmaIx"
      },
      "outputs": [],
      "source": [
        "fig, ax = plt.subplots(figsize=(8, 3))\n",
        "rail_valid.loc[y_deep.index[0]-pd.Timedelta(days=10):rail_valid.index[-1]].plot(label=\"Data\", ax=ax, marker=\".\", grid=True)\n",
        "ax.plot(y_deep_aligned, marker=\".\", label=\"Deep RNN\")\n",
        "plt.legend(fontsize=10, loc='lower right')\n",
        "plt.show()"
      ]
    },
    {
      "cell_type": "code",
      "execution_count": null,
      "metadata": {
        "id": "-7H5w0TlqXL9"
      },
      "outputs": [],
      "source": [
        "mae_deep=maef(y_deep_aligned, rail_valid[y_deep_aligned.index])*1e6\n",
        "print(mae_deep)"
      ]
    },
    {
      "cell_type": "markdown",
      "metadata": {
        "id": "c36-BsxWC8Zd"
      },
      "source": [
        "# Multivariate TS"
      ]
    },
    {
      "cell_type": "markdown",
      "metadata": {
        "id": "agOx3mYvtkXB"
      },
      "source": [
        "Defines the dataframe and features. Now `df_mulvar` is a DataFrame with five columns: the bus and rail data, plus three\n",
        "columns containing the one-hot encoding of the next day’s type (recall that there are\n",
        "three possible day types, W, A, and U)."
      ]
    },
    {
      "cell_type": "code",
      "execution_count": 70,
      "metadata": {
        "id": "Zk8eCXwfC8Zd"
      },
      "outputs": [],
      "source": [
        "df_mulvar = df[[\"bus\", \"rail\"]] / 1e6  # use both bus & rail series as input\n",
        "df_mulvar[\"next_day_type\"] = df[\"day_type\"].shift(-1)  # we know tomorrow's type\n",
        "df_mulvar = pd.get_dummies(df_mulvar, dtype=int)  # one-hot encode the day type"
      ]
    },
    {
      "cell_type": "code",
      "execution_count": 71,
      "metadata": {
        "id": "EvcSw-vIuJqg",
        "colab": {
          "base_uri": "https://localhost:8080/",
          "height": 238
        },
        "outputId": "106aa7d3-de9e-458c-92bc-f6d9f23ec133"
      },
      "outputs": [
        {
          "output_type": "execute_result",
          "data": {
            "text/plain": [
              "                 bus      rail  next_day_type_A  next_day_type_U  \\\n",
              "date                                                               \n",
              "2001-01-01  0.297192  0.126455                0                0   \n",
              "2001-01-02  0.780827  0.501952                0                0   \n",
              "2001-01-03  0.824923  0.536432                0                0   \n",
              "2001-01-04  0.870021  0.550011                0                0   \n",
              "2001-01-05  0.890426  0.557917                1                0   \n",
              "\n",
              "            next_day_type_W  \n",
              "date                         \n",
              "2001-01-01                1  \n",
              "2001-01-02                1  \n",
              "2001-01-03                1  \n",
              "2001-01-04                1  \n",
              "2001-01-05                0  "
            ],
            "text/html": [
              "\n",
              "  <div id=\"df-b34100e1-e263-48a0-bf77-be1eccedcb06\" class=\"colab-df-container\">\n",
              "    <div>\n",
              "<style scoped>\n",
              "    .dataframe tbody tr th:only-of-type {\n",
              "        vertical-align: middle;\n",
              "    }\n",
              "\n",
              "    .dataframe tbody tr th {\n",
              "        vertical-align: top;\n",
              "    }\n",
              "\n",
              "    .dataframe thead th {\n",
              "        text-align: right;\n",
              "    }\n",
              "</style>\n",
              "<table border=\"1\" class=\"dataframe\">\n",
              "  <thead>\n",
              "    <tr style=\"text-align: right;\">\n",
              "      <th></th>\n",
              "      <th>bus</th>\n",
              "      <th>rail</th>\n",
              "      <th>next_day_type_A</th>\n",
              "      <th>next_day_type_U</th>\n",
              "      <th>next_day_type_W</th>\n",
              "    </tr>\n",
              "    <tr>\n",
              "      <th>date</th>\n",
              "      <th></th>\n",
              "      <th></th>\n",
              "      <th></th>\n",
              "      <th></th>\n",
              "      <th></th>\n",
              "    </tr>\n",
              "  </thead>\n",
              "  <tbody>\n",
              "    <tr>\n",
              "      <th>2001-01-01</th>\n",
              "      <td>0.297192</td>\n",
              "      <td>0.126455</td>\n",
              "      <td>0</td>\n",
              "      <td>0</td>\n",
              "      <td>1</td>\n",
              "    </tr>\n",
              "    <tr>\n",
              "      <th>2001-01-02</th>\n",
              "      <td>0.780827</td>\n",
              "      <td>0.501952</td>\n",
              "      <td>0</td>\n",
              "      <td>0</td>\n",
              "      <td>1</td>\n",
              "    </tr>\n",
              "    <tr>\n",
              "      <th>2001-01-03</th>\n",
              "      <td>0.824923</td>\n",
              "      <td>0.536432</td>\n",
              "      <td>0</td>\n",
              "      <td>0</td>\n",
              "      <td>1</td>\n",
              "    </tr>\n",
              "    <tr>\n",
              "      <th>2001-01-04</th>\n",
              "      <td>0.870021</td>\n",
              "      <td>0.550011</td>\n",
              "      <td>0</td>\n",
              "      <td>0</td>\n",
              "      <td>1</td>\n",
              "    </tr>\n",
              "    <tr>\n",
              "      <th>2001-01-05</th>\n",
              "      <td>0.890426</td>\n",
              "      <td>0.557917</td>\n",
              "      <td>1</td>\n",
              "      <td>0</td>\n",
              "      <td>0</td>\n",
              "    </tr>\n",
              "  </tbody>\n",
              "</table>\n",
              "</div>\n",
              "    <div class=\"colab-df-buttons\">\n",
              "\n",
              "  <div class=\"colab-df-container\">\n",
              "    <button class=\"colab-df-convert\" onclick=\"convertToInteractive('df-b34100e1-e263-48a0-bf77-be1eccedcb06')\"\n",
              "            title=\"Convert this dataframe to an interactive table.\"\n",
              "            style=\"display:none;\">\n",
              "\n",
              "  <svg xmlns=\"http://www.w3.org/2000/svg\" height=\"24px\" viewBox=\"0 -960 960 960\">\n",
              "    <path d=\"M120-120v-720h720v720H120Zm60-500h600v-160H180v160Zm220 220h160v-160H400v160Zm0 220h160v-160H400v160ZM180-400h160v-160H180v160Zm440 0h160v-160H620v160ZM180-180h160v-160H180v160Zm440 0h160v-160H620v160Z\"/>\n",
              "  </svg>\n",
              "    </button>\n",
              "\n",
              "  <style>\n",
              "    .colab-df-container {\n",
              "      display:flex;\n",
              "      gap: 12px;\n",
              "    }\n",
              "\n",
              "    .colab-df-convert {\n",
              "      background-color: #E8F0FE;\n",
              "      border: none;\n",
              "      border-radius: 50%;\n",
              "      cursor: pointer;\n",
              "      display: none;\n",
              "      fill: #1967D2;\n",
              "      height: 32px;\n",
              "      padding: 0 0 0 0;\n",
              "      width: 32px;\n",
              "    }\n",
              "\n",
              "    .colab-df-convert:hover {\n",
              "      background-color: #E2EBFA;\n",
              "      box-shadow: 0px 1px 2px rgba(60, 64, 67, 0.3), 0px 1px 3px 1px rgba(60, 64, 67, 0.15);\n",
              "      fill: #174EA6;\n",
              "    }\n",
              "\n",
              "    .colab-df-buttons div {\n",
              "      margin-bottom: 4px;\n",
              "    }\n",
              "\n",
              "    [theme=dark] .colab-df-convert {\n",
              "      background-color: #3B4455;\n",
              "      fill: #D2E3FC;\n",
              "    }\n",
              "\n",
              "    [theme=dark] .colab-df-convert:hover {\n",
              "      background-color: #434B5C;\n",
              "      box-shadow: 0px 1px 3px 1px rgba(0, 0, 0, 0.15);\n",
              "      filter: drop-shadow(0px 1px 2px rgba(0, 0, 0, 0.3));\n",
              "      fill: #FFFFFF;\n",
              "    }\n",
              "  </style>\n",
              "\n",
              "    <script>\n",
              "      const buttonEl =\n",
              "        document.querySelector('#df-b34100e1-e263-48a0-bf77-be1eccedcb06 button.colab-df-convert');\n",
              "      buttonEl.style.display =\n",
              "        google.colab.kernel.accessAllowed ? 'block' : 'none';\n",
              "\n",
              "      async function convertToInteractive(key) {\n",
              "        const element = document.querySelector('#df-b34100e1-e263-48a0-bf77-be1eccedcb06');\n",
              "        const dataTable =\n",
              "          await google.colab.kernel.invokeFunction('convertToInteractive',\n",
              "                                                    [key], {});\n",
              "        if (!dataTable) return;\n",
              "\n",
              "        const docLinkHtml = 'Like what you see? Visit the ' +\n",
              "          '<a target=\"_blank\" href=https://colab.research.google.com/notebooks/data_table.ipynb>data table notebook</a>'\n",
              "          + ' to learn more about interactive tables.';\n",
              "        element.innerHTML = '';\n",
              "        dataTable['output_type'] = 'display_data';\n",
              "        await google.colab.output.renderOutput(dataTable, element);\n",
              "        const docLink = document.createElement('div');\n",
              "        docLink.innerHTML = docLinkHtml;\n",
              "        element.appendChild(docLink);\n",
              "      }\n",
              "    </script>\n",
              "  </div>\n",
              "\n",
              "\n",
              "<div id=\"df-c4d00fd7-2f0a-4d30-aa6e-aa5c02b6102a\">\n",
              "  <button class=\"colab-df-quickchart\" onclick=\"quickchart('df-c4d00fd7-2f0a-4d30-aa6e-aa5c02b6102a')\"\n",
              "            title=\"Suggest charts\"\n",
              "            style=\"display:none;\">\n",
              "\n",
              "<svg xmlns=\"http://www.w3.org/2000/svg\" height=\"24px\"viewBox=\"0 0 24 24\"\n",
              "     width=\"24px\">\n",
              "    <g>\n",
              "        <path d=\"M19 3H5c-1.1 0-2 .9-2 2v14c0 1.1.9 2 2 2h14c1.1 0 2-.9 2-2V5c0-1.1-.9-2-2-2zM9 17H7v-7h2v7zm4 0h-2V7h2v10zm4 0h-2v-4h2v4z\"/>\n",
              "    </g>\n",
              "</svg>\n",
              "  </button>\n",
              "\n",
              "<style>\n",
              "  .colab-df-quickchart {\n",
              "      --bg-color: #E8F0FE;\n",
              "      --fill-color: #1967D2;\n",
              "      --hover-bg-color: #E2EBFA;\n",
              "      --hover-fill-color: #174EA6;\n",
              "      --disabled-fill-color: #AAA;\n",
              "      --disabled-bg-color: #DDD;\n",
              "  }\n",
              "\n",
              "  [theme=dark] .colab-df-quickchart {\n",
              "      --bg-color: #3B4455;\n",
              "      --fill-color: #D2E3FC;\n",
              "      --hover-bg-color: #434B5C;\n",
              "      --hover-fill-color: #FFFFFF;\n",
              "      --disabled-bg-color: #3B4455;\n",
              "      --disabled-fill-color: #666;\n",
              "  }\n",
              "\n",
              "  .colab-df-quickchart {\n",
              "    background-color: var(--bg-color);\n",
              "    border: none;\n",
              "    border-radius: 50%;\n",
              "    cursor: pointer;\n",
              "    display: none;\n",
              "    fill: var(--fill-color);\n",
              "    height: 32px;\n",
              "    padding: 0;\n",
              "    width: 32px;\n",
              "  }\n",
              "\n",
              "  .colab-df-quickchart:hover {\n",
              "    background-color: var(--hover-bg-color);\n",
              "    box-shadow: 0 1px 2px rgba(60, 64, 67, 0.3), 0 1px 3px 1px rgba(60, 64, 67, 0.15);\n",
              "    fill: var(--button-hover-fill-color);\n",
              "  }\n",
              "\n",
              "  .colab-df-quickchart-complete:disabled,\n",
              "  .colab-df-quickchart-complete:disabled:hover {\n",
              "    background-color: var(--disabled-bg-color);\n",
              "    fill: var(--disabled-fill-color);\n",
              "    box-shadow: none;\n",
              "  }\n",
              "\n",
              "  .colab-df-spinner {\n",
              "    border: 2px solid var(--fill-color);\n",
              "    border-color: transparent;\n",
              "    border-bottom-color: var(--fill-color);\n",
              "    animation:\n",
              "      spin 1s steps(1) infinite;\n",
              "  }\n",
              "\n",
              "  @keyframes spin {\n",
              "    0% {\n",
              "      border-color: transparent;\n",
              "      border-bottom-color: var(--fill-color);\n",
              "      border-left-color: var(--fill-color);\n",
              "    }\n",
              "    20% {\n",
              "      border-color: transparent;\n",
              "      border-left-color: var(--fill-color);\n",
              "      border-top-color: var(--fill-color);\n",
              "    }\n",
              "    30% {\n",
              "      border-color: transparent;\n",
              "      border-left-color: var(--fill-color);\n",
              "      border-top-color: var(--fill-color);\n",
              "      border-right-color: var(--fill-color);\n",
              "    }\n",
              "    40% {\n",
              "      border-color: transparent;\n",
              "      border-right-color: var(--fill-color);\n",
              "      border-top-color: var(--fill-color);\n",
              "    }\n",
              "    60% {\n",
              "      border-color: transparent;\n",
              "      border-right-color: var(--fill-color);\n",
              "    }\n",
              "    80% {\n",
              "      border-color: transparent;\n",
              "      border-right-color: var(--fill-color);\n",
              "      border-bottom-color: var(--fill-color);\n",
              "    }\n",
              "    90% {\n",
              "      border-color: transparent;\n",
              "      border-bottom-color: var(--fill-color);\n",
              "    }\n",
              "  }\n",
              "</style>\n",
              "\n",
              "  <script>\n",
              "    async function quickchart(key) {\n",
              "      const quickchartButtonEl =\n",
              "        document.querySelector('#' + key + ' button');\n",
              "      quickchartButtonEl.disabled = true;  // To prevent multiple clicks.\n",
              "      quickchartButtonEl.classList.add('colab-df-spinner');\n",
              "      try {\n",
              "        const charts = await google.colab.kernel.invokeFunction(\n",
              "            'suggestCharts', [key], {});\n",
              "      } catch (error) {\n",
              "        console.error('Error during call to suggestCharts:', error);\n",
              "      }\n",
              "      quickchartButtonEl.classList.remove('colab-df-spinner');\n",
              "      quickchartButtonEl.classList.add('colab-df-quickchart-complete');\n",
              "    }\n",
              "    (() => {\n",
              "      let quickchartButtonEl =\n",
              "        document.querySelector('#df-c4d00fd7-2f0a-4d30-aa6e-aa5c02b6102a button');\n",
              "      quickchartButtonEl.style.display =\n",
              "        google.colab.kernel.accessAllowed ? 'block' : 'none';\n",
              "    })();\n",
              "  </script>\n",
              "</div>\n",
              "\n",
              "    </div>\n",
              "  </div>\n"
            ],
            "application/vnd.google.colaboratory.intrinsic+json": {
              "type": "dataframe",
              "variable_name": "df_mulvar",
              "summary": "{\n  \"name\": \"df_mulvar\",\n  \"rows\": 7639,\n  \"fields\": [\n    {\n      \"column\": \"date\",\n      \"properties\": {\n        \"dtype\": \"date\",\n        \"min\": \"2001-01-01 00:00:00\",\n        \"max\": \"2021-11-30 00:00:00\",\n        \"num_unique_values\": 7639,\n        \"samples\": [\n          \"2002-11-15 00:00:00\",\n          \"2017-03-26 00:00:00\",\n          \"2007-09-24 00:00:00\"\n        ],\n        \"semantic_type\": \"\",\n        \"description\": \"\"\n      }\n    },\n    {\n      \"column\": \"bus\",\n      \"properties\": {\n        \"dtype\": \"number\",\n        \"std\": 0.26255110950317523,\n        \"min\": 0.080783,\n        \"max\": 1.211992,\n        \"num_unique_values\": 7604,\n        \"samples\": [\n          0.523895,\n          0.805441,\n          0.807829\n        ],\n        \"semantic_type\": \"\",\n        \"description\": \"\"\n      }\n    },\n    {\n      \"column\": \"rail\",\n      \"properties\": {\n        \"dtype\": \"number\",\n        \"std\": 0.20539512873290036,\n        \"min\": 0.023544,\n        \"max\": 1.146516,\n        \"num_unique_values\": 7590,\n        \"samples\": [\n          0.615377,\n          0.635754,\n          0.700814\n        ],\n        \"semantic_type\": \"\",\n        \"description\": \"\"\n      }\n    },\n    {\n      \"column\": \"next_day_type_A\",\n      \"properties\": {\n        \"dtype\": \"number\",\n        \"std\": 0,\n        \"min\": 0,\n        \"max\": 1,\n        \"num_unique_values\": 2,\n        \"samples\": [\n          1,\n          0\n        ],\n        \"semantic_type\": \"\",\n        \"description\": \"\"\n      }\n    },\n    {\n      \"column\": \"next_day_type_U\",\n      \"properties\": {\n        \"dtype\": \"number\",\n        \"std\": 0,\n        \"min\": 0,\n        \"max\": 1,\n        \"num_unique_values\": 2,\n        \"samples\": [\n          1,\n          0\n        ],\n        \"semantic_type\": \"\",\n        \"description\": \"\"\n      }\n    },\n    {\n      \"column\": \"next_day_type_W\",\n      \"properties\": {\n        \"dtype\": \"number\",\n        \"std\": 0,\n        \"min\": 0,\n        \"max\": 1,\n        \"num_unique_values\": 2,\n        \"samples\": [\n          0,\n          1\n        ],\n        \"semantic_type\": \"\",\n        \"description\": \"\"\n      }\n    }\n  ]\n}"
            }
          },
          "metadata": {},
          "execution_count": 71
        }
      ],
      "source": [
        "df_mulvar.head()"
      ]
    },
    {
      "cell_type": "markdown",
      "metadata": {
        "id": "lbMjMlJ_tpgL"
      },
      "source": [
        "Next we can proceed much like we did earlier.\n",
        "First we split the data into three periods, for training, validation, and testing:"
      ]
    },
    {
      "cell_type": "code",
      "execution_count": 72,
      "metadata": {
        "id": "YfmD_evFC8Zd"
      },
      "outputs": [],
      "source": [
        "mulvar_train = df_mulvar[\"2016-01\":\"2018-12\"]\n",
        "mulvar_valid = df_mulvar[\"2019-01\":\"2019-05\"]\n",
        "mulvar_test = df_mulvar[\"2019-06\":]"
      ]
    },
    {
      "cell_type": "markdown",
      "metadata": {
        "id": "NVBLJ9NPT8RG"
      },
      "source": [
        "## Forecasts one variable\n",
        "\n",
        "$$y = f(\\mathbf{x})$$\n",
        "where $\\mathbf{x}$ encodes the features used for training—in this case, bus riders, rail riders, and whether the next day is a weekday, Saturday or Sunday (which are, of course, mutually exclusive)."
      ]
    },
    {
      "cell_type": "code",
      "execution_count": 73,
      "metadata": {
        "id": "xuLuqeK7XuiG",
        "colab": {
          "base_uri": "https://localhost:8080/"
        },
        "outputId": "ef493e0c-b5dd-46cd-8724-55829b2ba3a9"
      },
      "outputs": [
        {
          "output_type": "execute_result",
          "data": {
            "text/plain": [
              "array([[0.303321, 0.319835, 1.      , 0.      , 0.      ],\n",
              "       [0.448859, 0.365509, 0.      , 1.      , 0.      ],\n",
              "       [0.34054 , 0.287661, 0.      , 0.      , 1.      ],\n",
              "       ...,\n",
              "       [0.394088, 0.307105, 0.      , 1.      , 0.      ],\n",
              "       [0.31455 , 0.26531 , 0.      , 0.      , 1.      ],\n",
              "       [0.463165, 0.386058, 0.      , 1.      , 0.      ]])"
            ]
          },
          "metadata": {},
          "execution_count": 73
        }
      ],
      "source": [
        "mulvar_train.to_numpy()"
      ]
    },
    {
      "cell_type": "markdown",
      "metadata": {
        "id": "c-IsG3yZYFrg"
      },
      "source": [
        "Prepares data for training\n"
      ]
    },
    {
      "cell_type": "code",
      "execution_count": 74,
      "metadata": {
        "id": "bC3cBlJxC8Zd"
      },
      "outputs": [],
      "source": [
        "# Custom dataset for time series\n",
        "class TimeSeriesDatasetMulvar(Dataset):\n",
        "    def __init__(self, data, targets, seq_length):\n",
        "        self.data = data\n",
        "        self.targets = targets\n",
        "        self.seq_length = seq_length\n",
        "\n",
        "    def __len__(self):\n",
        "        return len(self.targets)  # Should match len(data) - seq_length\n",
        "\n",
        "    def __getitem__(self, idx):\n",
        "        # Get sequence from data\n",
        "        X = self.data[idx:idx + self.seq_length]\n",
        "        # Get corresponding target\n",
        "        y = self.targets[idx]\n",
        "        return torch.tensor(X, dtype=torch.float32), torch.tensor(y, dtype=torch.float32)\n",
        "\n",
        "# Create datasets\n",
        "train_data = mulvar_train.to_numpy()\n",
        "train_targets = mulvar_train[\"rail\"].values[seq_length:]\n",
        "train_dataset = TimeSeriesDatasetMulvar(train_data, train_targets, seq_length)\n",
        "train_loader_mulvar = DataLoader(train_dataset, batch_size=32, shuffle=True, generator=torch.Generator().manual_seed(42))\n",
        "\n",
        "valid_data = mulvar_valid.to_numpy()\n",
        "valid_targets = mulvar_valid[\"rail\"].values[seq_length:]\n",
        "valid_dataset = TimeSeriesDatasetMulvar(valid_data, valid_targets, seq_length)\n",
        "valid_loader_mulvar = DataLoader(valid_dataset, batch_size=32, shuffle=False)\n"
      ]
    },
    {
      "cell_type": "markdown",
      "source": [
        "Define the model. Notice that the input shape takes five inputs—one for each feature—instead of one."
      ],
      "metadata": {
        "id": "6XA-KbHFNEdh"
      }
    },
    {
      "cell_type": "code",
      "source": [
        "# Define the model\n",
        "class MulvarRNN(nn.Module):\n",
        "    def __init__(self):\n",
        "        super(MulvarRNN, self).__init__()\n",
        "        self.rnn = nn.RNN(5, 32, batch_first=True)\n",
        "        self.linear = nn.Linear(32, 1)\n",
        "\n",
        "    def forward(self, x):\n",
        "        _, hidden = self.rnn(x)\n",
        "        return self.linear(hidden.squeeze(0))\n",
        "\n",
        "# Initialize model\n",
        "mulvar_model1 = MulvarRNN()"
      ],
      "metadata": {
        "id": "e5hC4NHTNFsA"
      },
      "execution_count": 75,
      "outputs": []
    },
    {
      "cell_type": "markdown",
      "metadata": {
        "id": "SIAdj6sXv7An"
      },
      "source": [
        "Train and save the model."
      ]
    },
    {
      "cell_type": "code",
      "source": [
        "%%time\n",
        "train_save(mulvar_model1, in_colab, \"mulvar1.pth\", train_loader_mulvar, valid_loader_mulvar, 0.05, fit_and_evaluate_mulvar)"
      ],
      "metadata": {
        "id": "Lf0wajEwNqym",
        "colab": {
          "base_uri": "https://localhost:8080/"
        },
        "outputId": "ae513bb9-3313-4436-e764-218ad3ffe5ea"
      },
      "execution_count": 76,
      "outputs": [
        {
          "output_type": "stream",
          "name": "stdout",
          "text": [
            "Loading weights from disk\n",
            "CPU times: user 5.62 ms, sys: 1.07 ms, total: 6.69 ms\n",
            "Wall time: 381 ms\n"
          ]
        }
      ]
    },
    {
      "cell_type": "markdown",
      "metadata": {
        "id": "mSSFE5wSYJXv"
      },
      "source": [
        "Spits out forecast"
      ]
    },
    {
      "cell_type": "code",
      "execution_count": 77,
      "metadata": {
        "id": "kCGong_1YLCM",
        "colab": {
          "base_uri": "https://localhost:8080/"
        },
        "outputId": "ae388534-be95-4c1a-d078-7f192e62cc5a"
      },
      "outputs": [
        {
          "output_type": "stream",
          "name": "stdout",
          "text": [
            "CPU times: user 75.3 ms, sys: 498 µs, total: 75.8 ms\n",
            "Wall time: 81.1 ms\n"
          ]
        }
      ],
      "source": [
        "%%time\n",
        "y1_mulvar=get_forecast_mulvar(seq_length, mulvar_valid, mulvar_model1, 'rail')"
      ]
    },
    {
      "cell_type": "code",
      "execution_count": 78,
      "metadata": {
        "id": "dT77MDexYnnZ",
        "colab": {
          "base_uri": "https://localhost:8080/",
          "height": 386
        },
        "outputId": "6b904274-90f2-4139-b620-d29960d8f094"
      },
      "outputs": [
        {
          "output_type": "stream",
          "name": "stderr",
          "text": [
            "<ipython-input-78-590d6bf58da5>:3: UserWarning: This axis already has a converter set and is updating to a potentially incompatible converter\n",
            "  ax.plot(y1_mulvar, marker=\".\", label=\"Model\")\n"
          ]
        },
        {
          "output_type": "display_data",
          "data": {
            "text/plain": [
              "<Figure size 800x300 with 1 Axes>"
            ],
            "image/png": "[encoded data removed]"
          },
          "metadata": {}
        }
      ],
      "source": [
        "fig, ax = plt.subplots(figsize=(8, 3))\n",
        "rail_valid.loc[y1_mulvar.index[0]-pd.Timedelta(days=10):rail_valid.index[-1]].plot(label=\"Data\", ax=ax, marker=\".\", grid=True)\n",
        "ax.plot(y1_mulvar, marker=\".\", label=\"Model\")\n",
        "plt.legend(fontsize=10, loc='lower right')\n",
        "plt.title('Multivariate, 1 variable predicted')\n",
        "plt.show()"
      ]
    },
    {
      "cell_type": "markdown",
      "source": [
        "Notice that using more variables for prediction fixes the day offset, because now the model knows when the week starts."
      ],
      "metadata": {
        "id": "UkucCQp0abQo"
      }
    },
    {
      "cell_type": "code",
      "source": [
        "mae_mulvar1=maef(y1_mulvar, rail_valid[y1_mulvar.index])*1e6\n",
        "print(mae_mulvar1)"
      ],
      "metadata": {
        "id": "DEpQLfHUYtFK",
        "colab": {
          "base_uri": "https://localhost:8080/"
        },
        "outputId": "a6c8ff11-3e0a-4939-b443-68239c631ea7"
      },
      "execution_count": 79,
      "outputs": [
        {
          "output_type": "stream",
          "name": "stdout",
          "text": [
            "25840.0176327888\n"
          ]
        }
      ]
    },
    {
      "cell_type": "markdown",
      "metadata": {
        "id": "Nfd8F26aSMZv"
      },
      "source": [
        "## Forecasts two variables\n",
        "\n",
        "$$\\mathbf{y} = (y_0, y_1) = \\mathbf{f}(\\mathbf{x})$$"
      ]
    },
    {
      "cell_type": "markdown",
      "metadata": {
        "id": "sLRpeZHEa7r1"
      },
      "source": [
        "Splits into training and validation"
      ]
    },
    {
      "cell_type": "code",
      "execution_count": null,
      "metadata": {
        "id": "_ix1240FC8Ze"
      },
      "outputs": [],
      "source": [
        "# Custom dataset for time series with multiple targets\n",
        "class TimeSeriesDatasetMulvar2(Dataset):\n",
        "    def __init__(self, data, target_cols, seq_length):\n",
        "        \"\"\"\n",
        "        data: pandas DataFrame containing all features\n",
        "        target_cols: list of column names to predict (e.g., ['bus', 'rail'])\n",
        "        seq_length: length of input sequence\n",
        "        \"\"\"\n",
        "        self.data = data.values  # Convert to numpy for faster indexing\n",
        "        self.seq_length = seq_length\n",
        "\n",
        "        # Get column indices for targets\n",
        "        self.target_indices = [data.columns.get_loc(col) for col in target_cols]\n",
        "\n",
        "    def __len__(self):\n",
        "        return len(self.data) - self.seq_length\n",
        "\n",
        "    def __getitem__(self, idx):\n",
        "        # Get sequence from data\n",
        "        X = self.data[idx:idx + self.seq_length]\n",
        "        # Get target values at the next time step after the sequence\n",
        "        y = self.data[idx + self.seq_length, self.target_indices]\n",
        "        return torch.tensor(X, dtype=torch.float32), torch.tensor(y, dtype=torch.float32)"
      ]
    },
    {
      "cell_type": "code",
      "source": [
        "# Create datasets\n",
        "train_dataset = TimeSeriesDatasetMulvar2(data=mulvar_train, target_cols=[\"bus\", \"rail\"], seq_length=seq_length)\n",
        "train_loader_mulvar2 = DataLoader(train_dataset, batch_size=32, shuffle=True, generator=torch.Generator().manual_seed(42))\n",
        "\n",
        "valid_dataset = TimeSeriesDatasetMulvar2(data=mulvar_valid, target_cols=[\"bus\", \"rail\"], seq_length=seq_length)\n",
        "valid_loader_mulvar2 = DataLoader(valid_dataset, batch_size=32, shuffle=False)"
      ],
      "metadata": {
        "id": "MHjQLE88cSd8"
      },
      "execution_count": null,
      "outputs": []
    },
    {
      "cell_type": "markdown",
      "metadata": {
        "id": "B2x8gGb_bCSS"
      },
      "source": [
        "Defines model"
      ]
    },
    {
      "cell_type": "code",
      "execution_count": null,
      "metadata": {
        "id": "2_87h7h3a_4f"
      },
      "outputs": [],
      "source": [
        "# Define the model\n",
        "class MulvarRNN2(nn.Module):\n",
        "    def __init__(self):\n",
        "        super(MulvarRNN2, self).__init__()\n",
        "        self.rnn = nn.RNN(5, 32, batch_first=True)\n",
        "        self.linear = nn.Linear(32, 2)\n",
        "\n",
        "    def forward(self, x):\n",
        "        _, hidden = self.rnn(x)\n",
        "        return self.linear(hidden.squeeze(0))\n",
        "\n",
        "# Initialize model\n",
        "mulvar_model2 = MulvarRNN2()"
      ]
    },
    {
      "cell_type": "markdown",
      "metadata": {
        "id": "gU4STX9xbF8a"
      },
      "source": [
        "Training"
      ]
    },
    {
      "cell_type": "code",
      "execution_count": null,
      "metadata": {
        "id": "4KjyBX21bFCX"
      },
      "outputs": [],
      "source": [
        "%%time\n",
        "train_save(mulvar_model2, in_colab, \"mulvar2.pth\", train_loader_mulvar2, valid_loader_mulvar2, 0.02, fit_and_evaluate_mulvar)"
      ]
    },
    {
      "cell_type": "code",
      "source": [
        "%%time\n",
        "y2_mulvar=get_forecast_mulvar(seq_length, mulvar_valid, mulvar_model2, ['bus','rail'])"
      ],
      "metadata": {
        "id": "E9jH-KXOd78o"
      },
      "execution_count": null,
      "outputs": []
    },
    {
      "cell_type": "code",
      "source": [
        "y2_mulvar.head()"
      ],
      "metadata": {
        "id": "2G6Rx_YVeNWJ"
      },
      "execution_count": null,
      "outputs": []
    },
    {
      "cell_type": "code",
      "source": [
        "bus_valid = df[\"bus\"][\"2019-01\":\"2019-05\"] / 1e6"
      ],
      "metadata": {
        "id": "QPEfF_80fd7v"
      },
      "execution_count": null,
      "outputs": []
    },
    {
      "cell_type": "code",
      "source": [
        "fig, (ax1, ax2) = plt.subplots(figsize=(8, 6), nrows=2, sharex=True)\n",
        "\n",
        "rail_valid.loc[y2_mulvar.index[0]-pd.Timedelta(days=10):rail_valid.index[-1]].plot(ax=ax1, label=\"Rail\", marker=\".\", grid=True)\n",
        "ax1.plot(y2_mulvar['rail'], marker=\".\", label=\"Model\")\n",
        "ax1.legend(fontsize=10, loc='lower right')\n",
        "\n",
        "bus_valid.loc[y2_mulvar.index[0]-pd.Timedelta(days=10):rail_valid.index[-1]].plot(ax=ax2, label=\"Bus\", marker=\".\", grid=True, color='black')\n",
        "ax2.plot(y2_mulvar['bus'], marker=\".\", label=\"Model\", color='red')\n",
        "ax2.legend(fontsize=10, loc='lower right')\n",
        "\n",
        "fig.suptitle('Multivariate, 2 variables predicted')"
      ],
      "metadata": {
        "id": "bDaYV4pDeJXA"
      },
      "execution_count": null,
      "outputs": []
    },
    {
      "cell_type": "markdown",
      "source": [
        "Evaluates the naive forecasts for bus"
      ],
      "metadata": {
        "id": "IVyhXGC4inac"
      }
    },
    {
      "cell_type": "code",
      "execution_count": null,
      "metadata": {
        "id": "2wa4f3iHC8Ze"
      },
      "outputs": [],
      "source": [
        "bus_naive = mulvar_valid[\"bus\"].shift(7)[seq_length:]\n",
        "bus_target = mulvar_valid[\"bus\"][seq_length:]\n",
        "(bus_target - bus_naive).abs().mean() * 1e6"
      ]
    },
    {
      "cell_type": "markdown",
      "source": [
        "Evaluates the multitask RNN's forecasts both bus and rail"
      ],
      "metadata": {
        "id": "7oFsqL4Piruy"
      }
    },
    {
      "cell_type": "code",
      "source": [
        "mae_rail=maef(y2_mulvar['rail'], rail_valid[y2_mulvar['rail'].index])*1e6\n",
        "mae_bus=maef(y2_mulvar['bus'], bus_valid[y2_mulvar['bus'].index])*1e6\n",
        "\n",
        "print(\"Rail\", mae_rail)\n",
        "print(\"Bus\", mae_bus)"
      ],
      "metadata": {
        "id": "P9bEAEuSiyNQ"
      },
      "execution_count": null,
      "outputs": []
    },
    {
      "cell_type": "markdown",
      "metadata": {
        "id": "GnqcenVBnhmy"
      },
      "source": [
        "# Forecasting Several Steps Ahead"
      ]
    },
    {
      "cell_type": "markdown",
      "metadata": {
        "id": "n_r4XhoGC8Zg"
      },
      "source": [
        "## A) sequence-to-vector\n",
        "\n",
        "We train an RNN to predict the next 14 values in one shot. We\n",
        "can still use a sequence-to-vector model, but it will output 14 values instead of 1.\n",
        "However, we first need to change the targets to be vectors containing the next 14\n",
        "values."
      ]
    },
    {
      "cell_type": "code",
      "source": [
        "class TSAhead(Dataset):\n",
        "    def __init__(self, series, history, ahead=14, target_col=1):\n",
        "        \"\"\"\n",
        "        Args:\n",
        "            series (np.ndarray): the full time series data with shape (num_timesteps, num_features).\n",
        "            history (int): the number of time steps to use as input (i.e. seq_length).\n",
        "            ahead (int): the forecast horizon (number of steps ahead).\n",
        "            target_col (int): the index of the target column (e.g. 1).\n",
        "\n",
        "        The dataset windows are of length 'history + ahead'. For each window, the first\n",
        "        'history' time steps become the input features and the following 'ahead' steps (from\n",
        "        the target column) become the target.\n",
        "        \"\"\"\n",
        "        self.series = series\n",
        "        self.window_length = history + ahead\n",
        "        self.history = history\n",
        "        self.ahead = ahead\n",
        "        self.target_col = target_col\n",
        "\n",
        "    def __len__(self):\n",
        "        # For a series with N timesteps, the number of windows is N - (window_length - 1)\n",
        "        return len(self.series) - self.window_length + 1\n",
        "\n",
        "    def __getitem__(self, idx):\n",
        "        # Extract a window from the series\n",
        "        window = self.series[idx: idx + self.window_length]\n",
        "        # Convert to a torch tensor (float32)\n",
        "        window = torch.tensor(window, dtype=torch.float32)\n",
        "\n",
        "        # Split the window into:\n",
        "        # - X: first 'history' steps with all features\n",
        "        # - y: last 'ahead' steps for the target column\n",
        "        X = window[:self.history, :]\n",
        "        y = window[self.history:, self.target_col]\n",
        "        return X, y\n",
        "\n",
        "ahead = 14       # forecast horizon\n",
        "\n",
        "train_series = mulvar_train.to_numpy()\n",
        "valid_series = mulvar_valid.to_numpy()\n",
        "\n",
        "# Create dataset objects\n",
        "train_dataset = TSAhead(train_series, history=seq_length, ahead=ahead, target_col=1)\n",
        "valid_dataset = TSAhead(valid_series, history=seq_length, ahead=ahead, target_col=1)\n",
        "\n",
        "# Create data loaders equivalent to the tf.keras dataset pipelines (with batch size of 32)\n",
        "ahead_train_loader = DataLoader(train_dataset, batch_size=32, shuffle=True)\n",
        "ahead_valid_loader = DataLoader(valid_dataset, batch_size=32, shuffle=False)"
      ],
      "metadata": {
        "id": "YbSFWf1BgsqT"
      },
      "execution_count": 81,
      "outputs": []
    },
    {
      "cell_type": "markdown",
      "metadata": {
        "id": "GRewCennpSm8"
      },
      "source": [
        "Now we just need the output layer to have 14 units instead of 1.\n",
        "\n",
        "Below: defines model, trains, saves (or loads) model to disk."
      ]
    },
    {
      "cell_type": "code",
      "source": [
        "class Ahead(nn.Module):\n",
        "    def __init__(self, input_size=5, hidden_size=32, output_size=14):\n",
        "        super(Ahead, self).__init__()\n",
        "        self.rnn = nn.RNN(input_size=input_size, hidden_size=hidden_size, batch_first=True)\n",
        "        self.fc = nn.Linear(hidden_size, output_size)\n",
        "\n",
        "    def forward(self, x):\n",
        "        out, _ = self.rnn(x)\n",
        "        last_output = out[:, -1, :]  # shape becomes (batch_size, hidden_size)\n",
        "\n",
        "        predictions = self.fc(last_output)\n",
        "        return predictions\n",
        "\n",
        "# Initialize model\n",
        "ahead_model = Ahead()"
      ],
      "metadata": {
        "id": "XS0tR-Ymzzg-"
      },
      "execution_count": 83,
      "outputs": []
    },
    {
      "cell_type": "code",
      "source": [
        "%time train_save(ahead_model, in_colab, \"ahead.pth\", ahead_train_loader, ahead_valid_loader, 0.02, fit_and_evaluate_mulvar)"
      ],
      "metadata": {
        "colab": {
          "base_uri": "https://localhost:8080/"
        },
        "id": "lke0fUVz0EQ3",
        "outputId": "b55bd94a-8c1e-40a6-e7b9-1467212288e6"
      },
      "execution_count": 84,
      "outputs": [
        {
          "output_type": "stream",
          "name": "stdout",
          "text": [
            "Epoch 255/500, Validation MAE: 0.034461\n",
            "   -0.84  ┤\n",
            "   -0.90  ┤\n",
            "   -0.95  ┤\n",
            "   -1.01  ┤\n",
            "   -1.07  ┤\n",
            "   -1.13  ┤\n",
            "   -1.18  ┤\n",
            "   -1.24  ┤\n",
            "   -1.30  ┤\n",
            "   -1.36  ┤    ╭╮\n",
            "   -1.41  ┼────╯╰─────────────────────────────────────────────────────────────────────────────────────────────\n",
            "   -1.47  ┤\n",
            "Early stopping triggered at epoch 255\n",
            "Saving weights to disk\n",
            "CPU times: user 1min 1s, sys: 534 ms, total: 1min 1s\n",
            "Wall time: 1min 5s\n"
          ]
        }
      ]
    },
    {
      "cell_type": "code",
      "source": [
        "y_ahead=forecast_ahead(seq_length, mulvar_valid[:seq_length], ahead_model)\n",
        "\n",
        "# convert to pandas TS\n",
        "y_aheadP = pd.Series(y_ahead[0, :], index=pd.date_range(\"2019-02-26\", \"2019-03-11\"))"
      ],
      "metadata": {
        "id": "cUMs5iz81zrV"
      },
      "execution_count": 114,
      "outputs": []
    },
    {
      "cell_type": "code",
      "execution_count": 118,
      "metadata": {
        "colab": {
          "base_uri": "https://localhost:8080/",
          "height": 403
        },
        "id": "0sWCkBilqAHQ",
        "outputId": "14c8af91-eb25-41c3-f85f-87516c6d9651"
      },
      "outputs": [
        {
          "output_type": "display_data",
          "data": {
            "text/plain": [
              "<Figure size 800x350 with 1 Axes>"
            ],
            "image/png": "[encoded data removed]"
          },
          "metadata": {}
        }
      ],
      "source": [
        "fig, ax = plt.subplots(figsize=(8, 3.5))\n",
        "(rail_valid * 1e6)[\"2019-02-01\":\"2019-03-11\"].plot(label=\"Data\", marker=\".\", ax=ax)\n",
        "(mulvar_valid[0:seq_length]['rail']*1e6).plot(label=\"Input\", marker=\".\", ax=ax)\n",
        "(y_aheadP * 1e6).plot(label=\"Model\", grid=True, marker=\"x\", color=\"r\", ax=ax)\n",
        "\n",
        "ax.vlines(\"2019-02-25\", 0, 1e6, color=\"k\", linestyle=\"--\", label=\"Today\")\n",
        "ax.set_ylim([200_000, 800_000])\n",
        "plt.legend(loc=\"upper left\")\n",
        "plt.show()"
      ]
    },
    {
      "cell_type": "markdown",
      "metadata": {
        "id": "e8omnVPRp50q"
      },
      "source": [
        "## B) sequence-to-sequence"
      ]
    },
    {
      "cell_type": "markdown",
      "metadata": {
        "id": "a9WGqXXwC8Zg"
      },
      "source": [
        "Now let's create an RNN that predicts the next 14 steps at each time step. That is, instead of just forecasting time steps 56 to 69 based on time steps 0 to 55, it will forecast time steps 1 to 14 at time step 0, then time steps 2 to 15 at time step 1, and so on, and finally it will forecast time steps 56 to 69 at the last time step. Notice that the model is causal: when it makes predictions at any time step, it can only see past time steps."
      ]
    },
    {
      "cell_type": "markdown",
      "metadata": {
        "id": "MIEBTPA9C8Zg"
      },
      "source": [
        "To prepare the datasets, we can use `to_windows()` twice, to get sequences of consecutive windows, like this:"
      ]
    },
    {
      "cell_type": "code",
      "execution_count": null,
      "metadata": {
        "id": "AR6fbtew6Fdn"
      },
      "outputs": [],
      "source": [
        "def to_windows(dataset, length):\n",
        "    dataset = dataset.window(length, shift=1, drop_remainder=True)\n",
        "    return dataset.flat_map(lambda window_ds: window_ds.batch(length))"
      ]
    },
    {
      "cell_type": "markdown",
      "metadata": {
        "id": "u-yYlAYosa39"
      },
      "source": [
        "### Understanding how to format the training data"
      ]
    },
    {
      "cell_type": "code",
      "execution_count": null,
      "metadata": {
        "colab": {
          "base_uri": "https://localhost:8080/"
        },
        "id": "2UHV1QzQC8Zg",
        "outputId": "9af73997-27bf-4ca9-c8d9-6cf2c4795c47"
      },
      "outputs": [
        {
          "data": {
            "text/plain": [
              "[<tf.Tensor: shape=(4, 3), dtype=int64, numpy=\n",
              " array([[0, 1, 2],\n",
              "        [1, 2, 3],\n",
              "        [2, 3, 4],\n",
              "        [3, 4, 5]])>,\n",
              " <tf.Tensor: shape=(4, 3), dtype=int64, numpy=\n",
              " array([[1, 2, 3],\n",
              "        [2, 3, 4],\n",
              "        [3, 4, 5],\n",
              "        [4, 5, 6]])>]"
            ]
          },
          "execution_count": 32,
          "metadata": {},
          "output_type": "execute_result"
        }
      ],
      "source": [
        "my_series = tf.data.Dataset.range(7)\n",
        "dataset = to_windows(to_windows(my_series, 3), 4)\n",
        "list(dataset)"
      ]
    },
    {
      "cell_type": "markdown",
      "metadata": {
        "id": "HWgerfjDC8Zg"
      },
      "source": [
        "Then we can split these elements into the desired inputs and targets:"
      ]
    },
    {
      "cell_type": "code",
      "execution_count": null,
      "metadata": {
        "id": "ow6bRoOyC8Zh",
        "outputId": "d1eb0374-b667-4abc-b508-f625e54ff608"
      },
      "outputs": [
        {
          "data": {
            "text/plain": [
              "[(<tf.Tensor: shape=(4,), dtype=int64, numpy=array([0, 1, 2, 3])>,\n",
              "  <tf.Tensor: shape=(4, 2), dtype=int64, numpy=\n",
              "  array([[1, 2],\n",
              "         [2, 3],\n",
              "         [3, 4],\n",
              "         [4, 5]])>),\n",
              " (<tf.Tensor: shape=(4,), dtype=int64, numpy=array([1, 2, 3, 4])>,\n",
              "  <tf.Tensor: shape=(4, 2), dtype=int64, numpy=\n",
              "  array([[2, 3],\n",
              "         [3, 4],\n",
              "         [4, 5],\n",
              "         [5, 6]])>)]"
            ]
          },
          "execution_count": 56,
          "metadata": {},
          "output_type": "execute_result"
        }
      ],
      "source": [
        "dataset = dataset.map(lambda S: (S[:, 0], S[:, 1:]))\n",
        "list(dataset)"
      ]
    },
    {
      "cell_type": "markdown",
      "metadata": {
        "id": "siN1H9nkC8Zh"
      },
      "source": [
        "### Train/validation split\n",
        "\n",
        "Let's wrap this idea into a utility function. It will also take care of shuffling (optional) and batching:"
      ]
    },
    {
      "cell_type": "code",
      "execution_count": null,
      "metadata": {
        "id": "zDP7-BH6C8Zh"
      },
      "outputs": [],
      "source": [
        "def to_seq2seq_dataset(series, seq_length=56, ahead=14, target_col=1,\n",
        "                       batch_size=32, shuffle=False, seed=None):\n",
        "    ds = to_windows(tf.data.Dataset.from_tensor_slices(series), ahead + 1)\n",
        "    ds = to_windows(ds, seq_length).map(lambda S: (S[:, 0], S[:, 1:, 1]))\n",
        "    if shuffle:\n",
        "        ds = ds.shuffle(8 * batch_size, seed=seed)\n",
        "    return ds.batch(batch_size)"
      ]
    },
    {
      "cell_type": "code",
      "execution_count": null,
      "metadata": {
        "id": "R5tEDtt6C8Zh"
      },
      "outputs": [],
      "source": [
        "seq2seq_train = to_seq2seq_dataset(mulvar_train, shuffle=True, seed=42)\n",
        "seq2seq_valid = to_seq2seq_dataset(mulvar_valid)"
      ]
    },
    {
      "cell_type": "markdown",
      "metadata": {
        "id": "pb3ssdELpvk3"
      },
      "source": [
        "### Model and training\n",
        "\n",
        "Notice the `return_sequences=True`"
      ]
    },
    {
      "cell_type": "code",
      "execution_count": null,
      "metadata": {
        "colab": {
          "base_uri": "https://localhost:8080/"
        },
        "id": "MTyazK1EC8Zh",
        "outputId": "b8d44d88-a109-425a-d5ee-b40bc9a000fa"
      },
      "outputs": [
        {
          "name": "stderr",
          "output_type": "stream",
          "text": [
            "/usr/local/lib/python3.11/dist-packages/keras/src/layers/rnn/rnn.py:204: UserWarning: Do not pass an `input_shape`/`input_dim` argument to a layer. When using Sequential models, prefer using an `Input(shape)` object as the first layer in the model instead.\n",
            "  super().__init__(**kwargs)\n"
          ]
        }
      ],
      "source": [
        "tf.random.set_seed(42)  # extra code – ensures reproducibility\n",
        "seq2seq_model = tf.keras.Sequential([\n",
        "    tf.keras.layers.SimpleRNN(32, return_sequences=True, input_shape=[None, 5]),\n",
        "    tf.keras.layers.Dense(14)\n",
        "    # equivalent: tf.keras.layers.TimeDistributed(tf.keras.layers.Dense(14))\n",
        "    # also equivalent: tf.keras.layers.Conv1D(14, kernel_size=1)\n",
        "])"
      ]
    },
    {
      "cell_type": "code",
      "execution_count": null,
      "metadata": {
        "colab": {
          "base_uri": "https://localhost:8080/"
        },
        "id": "w-Fx46udC8Zh",
        "outputId": "fbde480f-d65e-4af9-d450-b646ad52a969"
      },
      "outputs": [
        {
          "name": "stdout",
          "output_type": "stream",
          "text": [
            "Epoch 1/500\n",
            "     33/Unknown \u001b[1m3s\u001b[0m 34ms/step - loss: 0.1613 - mae: 0.4219"
          ]
        },
        {
          "name": "stderr",
          "output_type": "stream",
          "text": [
            "/usr/lib/python3.11/contextlib.py:158: UserWarning: Your input ran out of data; interrupting training. Make sure that your dataset or generator can generate at least `steps_per_epoch * epochs` batches. You may need to use the `.repeat()` function when building your dataset.\n",
            "  self.gen.throw(typ, value, traceback)\n"
          ]
        },
        {
          "name": "stdout",
          "output_type": "stream",
          "text": [
            "\b\b\b\b\b\b\b\b\b\b\b\b\b\b\b\b\b\b\b\b\b\b\b\b\b\b\b\b\b\b\b\b\b\b\b\b\b\b\b\b\b\b\b\b\b\b\b\b\b\b\b\b\b\b\b\b\b\r",
            "\u001b[1m33/33\u001b[0m \u001b[32m━━━━━━━━━━━━━━━━━━━━\u001b[0m\u001b[37m\u001b[0m \u001b[1m5s\u001b[0m 81ms/step - loss: 0.1588 - mae: 0.4176 - val_loss: 0.0176 - val_mae: 0.1489\n",
            "Epoch 2/500\n",
            "\u001b[1m33/33\u001b[0m \u001b[32m━━━━━━━━━━━━━━━━━━━━\u001b[0m\u001b[37m\u001b[0m \u001b[1m3s\u001b[0m 39ms/step - loss: 0.0145 - mae: 0.1373 - val_loss: 0.0119 - val_mae: 0.1189\n",
            "Epoch 3/500\n",
            "\u001b[1m33/33\u001b[0m \u001b[32m━━━━━━━━━━━━━━━━━━━━\u001b[0m\u001b[37m\u001b[0m \u001b[1m2s\u001b[0m 36ms/step - loss: 0.0103 - mae: 0.1135 - val_loss: 0.0098 - val_mae: 0.1050\n",
            "Epoch 4/500\n",
            "\u001b[1m33/33\u001b[0m \u001b[32m━━━━━━━━━━━━━━━━━━━━\u001b[0m\u001b[37m\u001b[0m \u001b[1m1s\u001b[0m 25ms/step - loss: 0.0086 - mae: 0.1011 - val_loss: 0.0090 - val_mae: 0.0982\n",
            "Epoch 5/500\n",
            "\u001b[1m33/33\u001b[0m \u001b[32m━━━━━━━━━━━━━━━━━━━━\u001b[0m\u001b[37m\u001b[0m \u001b[1m1s\u001b[0m 28ms/step - loss: 0.0075 - mae: 0.0921 - val_loss: 0.0083 - val_mae: 0.0932\n",
            "Epoch 6/500\n",
            "\u001b[1m33/33\u001b[0m \u001b[32m━━━━━━━━━━━━━━━━━━━━\u001b[0m\u001b[37m\u001b[0m \u001b[1m1s\u001b[0m 31ms/step - loss: 0.0069 - mae: 0.0870 - val_loss: 0.0074 - val_mae: 0.0868\n",
            "Epoch 7/500\n",
            "\u001b[1m33/33\u001b[0m \u001b[32m━━━━━━━━━━━━━━━━━━━━\u001b[0m\u001b[37m\u001b[0m \u001b[1m2s\u001b[0m 41ms/step - loss: 0.0066 - mae: 0.0844 - val_loss: 0.0076 - val_mae: 0.0884\n",
            "Epoch 8/500\n",
            "\u001b[1m33/33\u001b[0m \u001b[32m━━━━━━━━━━━━━━━━━━━━\u001b[0m\u001b[37m\u001b[0m \u001b[1m2s\u001b[0m 36ms/step - loss: 0.0062 - mae: 0.0810 - val_loss: 0.0072 - val_mae: 0.0850\n",
            "Epoch 9/500\n",
            "\u001b[1m33/33\u001b[0m \u001b[32m━━━━━━━━━━━━━━━━━━━━\u001b[0m\u001b[37m\u001b[0m \u001b[1m2s\u001b[0m 28ms/step - loss: 0.0059 - mae: 0.0783 - val_loss: 0.0064 - val_mae: 0.0775\n",
            "Epoch 10/500\n",
            "\u001b[1m33/33\u001b[0m \u001b[32m━━━━━━━━━━━━━━━━━━━━\u001b[0m\u001b[37m\u001b[0m \u001b[1m1s\u001b[0m 17ms/step - loss: 0.0056 - mae: 0.0764 - val_loss: 0.0060 - val_mae: 0.0748\n",
            "Epoch 11/500\n",
            "\u001b[1m33/33\u001b[0m \u001b[32m━━━━━━━━━━━━━━━━━━━━\u001b[0m\u001b[37m\u001b[0m \u001b[1m1s\u001b[0m 26ms/step - loss: 0.0056 - mae: 0.0751 - val_loss: 0.0061 - val_mae: 0.0762\n",
            "Epoch 12/500\n",
            "\u001b[1m33/33\u001b[0m \u001b[32m━━━━━━━━━━━━━━━━━━━━\u001b[0m\u001b[37m\u001b[0m \u001b[1m2s\u001b[0m 42ms/step - loss: 0.0054 - mae: 0.0734 - val_loss: 0.0060 - val_mae: 0.0750\n",
            "Epoch 13/500\n",
            "\u001b[1m33/33\u001b[0m \u001b[32m━━━━━━━━━━━━━━━━━━━━\u001b[0m\u001b[37m\u001b[0m \u001b[1m2s\u001b[0m 55ms/step - loss: 0.0051 - mae: 0.0710 - val_loss: 0.0058 - val_mae: 0.0743\n",
            "Epoch 14/500\n",
            "\u001b[1m33/33\u001b[0m \u001b[32m━━━━━━━━━━━━━━━━━━━━\u001b[0m\u001b[37m\u001b[0m \u001b[1m1s\u001b[0m 27ms/step - loss: 0.0050 - mae: 0.0693 - val_loss: 0.0056 - val_mae: 0.0726\n",
            "Epoch 15/500\n",
            "\u001b[1m33/33\u001b[0m \u001b[32m━━━━━━━━━━━━━━━━━━━━\u001b[0m\u001b[37m\u001b[0m \u001b[1m1s\u001b[0m 23ms/step - loss: 0.0049 - mae: 0.0677 - val_loss: 0.0057 - val_mae: 0.0738\n",
            "Epoch 16/500\n",
            "\u001b[1m33/33\u001b[0m \u001b[32m━━━━━━━━━━━━━━━━━━━━\u001b[0m\u001b[37m\u001b[0m \u001b[1m1s\u001b[0m 19ms/step - loss: 0.0048 - mae: 0.0670 - val_loss: 0.0051 - val_mae: 0.0664\n",
            "Epoch 17/500\n",
            "\u001b[1m33/33\u001b[0m \u001b[32m━━━━━━━━━━━━━━━━━━━━\u001b[0m\u001b[37m\u001b[0m \u001b[1m1s\u001b[0m 20ms/step - loss: 0.0046 - mae: 0.0662 - val_loss: 0.0050 - val_mae: 0.0666\n",
            "Epoch 18/500\n",
            "\u001b[1m33/33\u001b[0m \u001b[32m━━━━━━━━━━━━━━━━━━━━\u001b[0m\u001b[37m\u001b[0m \u001b[1m1s\u001b[0m 21ms/step - loss: 0.0046 - mae: 0.0655 - val_loss: 0.0048 - val_mae: 0.0648\n",
            "Epoch 19/500\n",
            "\u001b[1m33/33\u001b[0m \u001b[32m━━━━━━━━━━━━━━━━━━━━\u001b[0m\u001b[37m\u001b[0m \u001b[1m2s\u001b[0m 29ms/step - loss: 0.0045 - mae: 0.0645 - val_loss: 0.0049 - val_mae: 0.0659\n",
            "Epoch 20/500\n",
            "\u001b[1m33/33\u001b[0m \u001b[32m━━━━━━━━━━━━━━━━━━━━\u001b[0m\u001b[37m\u001b[0m \u001b[1m1s\u001b[0m 20ms/step - loss: 0.0044 - mae: 0.0639 - val_loss: 0.0048 - val_mae: 0.0652\n",
            "Epoch 21/500\n",
            "\u001b[1m33/33\u001b[0m \u001b[32m━━━━━━━━━━━━━━━━━━━━\u001b[0m\u001b[37m\u001b[0m \u001b[1m1s\u001b[0m 18ms/step - loss: 0.0043 - mae: 0.0629 - val_loss: 0.0046 - val_mae: 0.0628\n",
            "Epoch 22/500\n",
            "\u001b[1m33/33\u001b[0m \u001b[32m━━━━━━━━━━━━━━━━━━━━\u001b[0m\u001b[37m\u001b[0m \u001b[1m1s\u001b[0m 27ms/step - loss: 0.0044 - mae: 0.0629 - val_loss: 0.0046 - val_mae: 0.0627\n",
            "Epoch 23/500\n",
            "\u001b[1m33/33\u001b[0m \u001b[32m━━━━━━━━━━━━━━━━━━━━\u001b[0m\u001b[37m\u001b[0m \u001b[1m2s\u001b[0m 34ms/step - loss: 0.0043 - mae: 0.0627 - val_loss: 0.0043 - val_mae: 0.0593\n",
            "Epoch 24/500\n",
            "\u001b[1m33/33\u001b[0m \u001b[32m━━━━━━━━━━━━━━━━━━━━\u001b[0m\u001b[37m\u001b[0m \u001b[1m2s\u001b[0m 48ms/step - loss: 0.0044 - mae: 0.0637 - val_loss: 0.0043 - val_mae: 0.0585\n",
            "Epoch 25/500\n",
            "\u001b[1m33/33\u001b[0m \u001b[32m━━━━━━━━━━━━━━━━━━━━\u001b[0m\u001b[37m\u001b[0m \u001b[1m2s\u001b[0m 31ms/step - loss: 0.0042 - mae: 0.0624 - val_loss: 0.0041 - val_mae: 0.0566\n",
            "Epoch 26/500\n",
            "\u001b[1m33/33\u001b[0m \u001b[32m━━━━━━━━━━━━━━━━━━━━\u001b[0m\u001b[37m\u001b[0m \u001b[1m2s\u001b[0m 16ms/step - loss: 0.0042 - mae: 0.0623 - val_loss: 0.0043 - val_mae: 0.0593\n",
            "Epoch 27/500\n",
            "\u001b[1m33/33\u001b[0m \u001b[32m━━━━━━━━━━━━━━━━━━━━\u001b[0m\u001b[37m\u001b[0m \u001b[1m1s\u001b[0m 15ms/step - loss: 0.0041 - mae: 0.0603 - val_loss: 0.0042 - val_mae: 0.0581\n",
            "Epoch 28/500\n",
            "\u001b[1m33/33\u001b[0m \u001b[32m━━━━━━━━━━━━━━━━━━━━\u001b[0m\u001b[37m\u001b[0m \u001b[1m1s\u001b[0m 14ms/step - loss: 0.0040 - mae: 0.0600 - val_loss: 0.0041 - val_mae: 0.0564\n",
            "Epoch 29/500\n",
            "\u001b[1m33/33\u001b[0m \u001b[32m━━━━━━━━━━━━━━━━━━━━\u001b[0m\u001b[37m\u001b[0m \u001b[1m1s\u001b[0m 15ms/step - loss: 0.0040 - mae: 0.0602 - val_loss: 0.0040 - val_mae: 0.0551\n",
            "Epoch 30/500\n",
            "\u001b[1m33/33\u001b[0m \u001b[32m━━━━━━━━━━━━━━━━━━━━\u001b[0m\u001b[37m\u001b[0m \u001b[1m1s\u001b[0m 15ms/step - loss: 0.0041 - mae: 0.0610 - val_loss: 0.0040 - val_mae: 0.0550\n",
            "Epoch 31/500\n",
            "\u001b[1m33/33\u001b[0m \u001b[32m━━━━━━━━━━━━━━━━━━━━\u001b[0m\u001b[37m\u001b[0m \u001b[1m1s\u001b[0m 15ms/step - loss: 0.0040 - mae: 0.0590 - val_loss: 0.0039 - val_mae: 0.0534\n",
            "Epoch 32/500\n",
            "\u001b[1m33/33\u001b[0m \u001b[32m━━━━━━━━━━━━━━━━━━━━\u001b[0m\u001b[37m\u001b[0m \u001b[1m1s\u001b[0m 16ms/step - loss: 0.0040 - mae: 0.0598 - val_loss: 0.0041 - val_mae: 0.0568\n",
            "Epoch 33/500\n",
            "\u001b[1m33/33\u001b[0m \u001b[32m━━━━━━━━━━━━━━━━━━━━\u001b[0m\u001b[37m\u001b[0m \u001b[1m1s\u001b[0m 15ms/step - loss: 0.0039 - mae: 0.0583 - val_loss: 0.0040 - val_mae: 0.0547\n",
            "Epoch 34/500\n",
            "\u001b[1m33/33\u001b[0m \u001b[32m━━━━━━━━━━━━━━━━━━━━\u001b[0m\u001b[37m\u001b[0m \u001b[1m1s\u001b[0m 15ms/step - loss: 0.0039 - mae: 0.0582 - val_loss: 0.0039 - val_mae: 0.0535\n",
            "Epoch 35/500\n",
            "\u001b[1m33/33\u001b[0m \u001b[32m━━━━━━━━━━━━━━━━━━━━\u001b[0m\u001b[37m\u001b[0m \u001b[1m1s\u001b[0m 16ms/step - loss: 0.0039 - mae: 0.0580 - val_loss: 0.0039 - val_mae: 0.0535\n",
            "Epoch 36/500\n",
            "\u001b[1m33/33\u001b[0m \u001b[32m━━━━━━━━━━━━━━━━━━━━\u001b[0m\u001b[37m\u001b[0m \u001b[1m1s\u001b[0m 15ms/step - loss: 0.0040 - mae: 0.0589 - val_loss: 0.0040 - val_mae: 0.0554\n",
            "Epoch 37/500\n",
            "\u001b[1m33/33\u001b[0m \u001b[32m━━━━━━━━━━━━━━━━━━━━\u001b[0m\u001b[37m\u001b[0m \u001b[1m1s\u001b[0m 16ms/step - loss: 0.0038 - mae: 0.0572 - val_loss: 0.0037 - val_mae: 0.0520\n",
            "Epoch 38/500\n",
            "\u001b[1m33/33\u001b[0m \u001b[32m━━━━━━━━━━━━━━━━━━━━\u001b[0m\u001b[37m\u001b[0m \u001b[1m1s\u001b[0m 15ms/step - loss: 0.0041 - mae: 0.0600 - val_loss: 0.0039 - val_mae: 0.0536\n",
            "Epoch 39/500\n",
            "\u001b[1m33/33\u001b[0m \u001b[32m━━━━━━━━━━━━━━━━━━━━\u001b[0m\u001b[37m\u001b[0m \u001b[1m1s\u001b[0m 14ms/step - loss: 0.0039 - mae: 0.0578 - val_loss: 0.0038 - val_mae: 0.0529\n",
            "Epoch 40/500\n",
            "\u001b[1m33/33\u001b[0m \u001b[32m━━━━━━━━━━━━━━━━━━━━\u001b[0m\u001b[37m\u001b[0m \u001b[1m1s\u001b[0m 17ms/step - loss: 0.0038 - mae: 0.0570 - val_loss: 0.0038 - val_mae: 0.0532\n",
            "Epoch 41/500\n",
            "\u001b[1m33/33\u001b[0m \u001b[32m━━━━━━━━━━━━━━━━━━━━\u001b[0m\u001b[37m\u001b[0m \u001b[1m1s\u001b[0m 24ms/step - loss: 0.0039 - mae: 0.0576 - val_loss: 0.0038 - val_mae: 0.0530\n",
            "Epoch 42/500\n",
            "\u001b[1m33/33\u001b[0m \u001b[32m━━━━━━━━━━━━━━━━━━━━\u001b[0m\u001b[37m\u001b[0m \u001b[1m1s\u001b[0m 28ms/step - loss: 0.0038 - mae: 0.0576 - val_loss: 0.0037 - val_mae: 0.0512\n",
            "Epoch 43/500\n",
            "\u001b[1m33/33\u001b[0m \u001b[32m━━━━━━━━━━━━━━━━━━━━\u001b[0m\u001b[37m\u001b[0m \u001b[1m1s\u001b[0m 28ms/step - loss: 0.0038 - mae: 0.0579 - val_loss: 0.0036 - val_mae: 0.0504\n",
            "Epoch 44/500\n",
            "\u001b[1m33/33\u001b[0m \u001b[32m━━━━━━━━━━━━━━━━━━━━\u001b[0m\u001b[37m\u001b[0m \u001b[1m1s\u001b[0m 23ms/step - loss: 0.0038 - mae: 0.0574 - val_loss: 0.0038 - val_mae: 0.0532\n",
            "Epoch 45/500\n",
            "\u001b[1m33/33\u001b[0m \u001b[32m━━━━━━━━━━━━━━━━━━━━\u001b[0m\u001b[37m\u001b[0m \u001b[1m1s\u001b[0m 16ms/step - loss: 0.0037 - mae: 0.0558 - val_loss: 0.0038 - val_mae: 0.0523\n",
            "Epoch 46/500\n",
            "\u001b[1m33/33\u001b[0m \u001b[32m━━━━━━━━━━━━━━━━━━━━\u001b[0m\u001b[37m\u001b[0m \u001b[1m1s\u001b[0m 16ms/step - loss: 0.0037 - mae: 0.0559 - val_loss: 0.0037 - val_mae: 0.0508\n",
            "Epoch 47/500\n",
            "\u001b[1m33/33\u001b[0m \u001b[32m━━━━━━━━━━━━━━━━━━━━\u001b[0m\u001b[37m\u001b[0m \u001b[1m1s\u001b[0m 18ms/step - loss: 0.0039 - mae: 0.0581 - val_loss: 0.0037 - val_mae: 0.0508\n",
            "Epoch 48/500\n",
            "\u001b[1m33/33\u001b[0m \u001b[32m━━━━━━━━━━━━━━━━━━━━\u001b[0m\u001b[37m\u001b[0m \u001b[1m1s\u001b[0m 16ms/step - loss: 0.0038 - mae: 0.0572 - val_loss: 0.0037 - val_mae: 0.0516\n",
            "Epoch 49/500\n",
            "\u001b[1m33/33\u001b[0m \u001b[32m━━━━━━━━━━━━━━━━━━━━\u001b[0m\u001b[37m\u001b[0m \u001b[1m1s\u001b[0m 15ms/step - loss: 0.0037 - mae: 0.0562 - val_loss: 0.0037 - val_mae: 0.0507\n",
            "Epoch 50/500\n",
            "\u001b[1m33/33\u001b[0m \u001b[32m━━━━━━━━━━━━━━━━━━━━\u001b[0m\u001b[37m\u001b[0m \u001b[1m1s\u001b[0m 16ms/step - loss: 0.0037 - mae: 0.0565 - val_loss: 0.0036 - val_mae: 0.0502\n",
            "Epoch 51/500\n",
            "\u001b[1m33/33\u001b[0m \u001b[32m━━━━━━━━━━━━━━━━━━━━\u001b[0m\u001b[37m\u001b[0m \u001b[1m1s\u001b[0m 15ms/step - loss: 0.0038 - mae: 0.0566 - val_loss: 0.0037 - val_mae: 0.0506\n",
            "Epoch 52/500\n",
            "\u001b[1m33/33\u001b[0m \u001b[32m━━━━━━━━━━━━━━━━━━━━\u001b[0m\u001b[37m\u001b[0m \u001b[1m1s\u001b[0m 15ms/step - loss: 0.0037 - mae: 0.0561 - val_loss: 0.0037 - val_mae: 0.0516\n",
            "Epoch 53/500\n",
            "\u001b[1m33/33\u001b[0m \u001b[32m━━━━━━━━━━━━━━━━━━━━\u001b[0m\u001b[37m\u001b[0m \u001b[1m1s\u001b[0m 17ms/step - loss: 0.0036 - mae: 0.0551 - val_loss: 0.0036 - val_mae: 0.0503\n",
            "Epoch 54/500\n",
            "\u001b[1m33/33\u001b[0m \u001b[32m━━━━━━━━━━━━━━━━━━━━\u001b[0m\u001b[37m\u001b[0m \u001b[1m1s\u001b[0m 16ms/step - loss: 0.0036 - mae: 0.0554 - val_loss: 0.0037 - val_mae: 0.0513\n",
            "Epoch 55/500\n",
            "\u001b[1m33/33\u001b[0m \u001b[32m━━━━━━━━━━━━━━━━━━━━\u001b[0m\u001b[37m\u001b[0m \u001b[1m1s\u001b[0m 16ms/step - loss: 0.0036 - mae: 0.0545 - val_loss: 0.0037 - val_mae: 0.0515\n",
            "Epoch 56/500\n",
            "\u001b[1m33/33\u001b[0m \u001b[32m━━━━━━━━━━━━━━━━━━━━\u001b[0m\u001b[37m\u001b[0m \u001b[1m1s\u001b[0m 15ms/step - loss: 0.0037 - mae: 0.0556 - val_loss: 0.0038 - val_mae: 0.0533\n",
            "Epoch 57/500\n",
            "\u001b[1m33/33\u001b[0m \u001b[32m━━━━━━━━━━━━━━━━━━━━\u001b[0m\u001b[37m\u001b[0m \u001b[1m1s\u001b[0m 18ms/step - loss: 0.0036 - mae: 0.0540 - val_loss: 0.0036 - val_mae: 0.0493\n",
            "Epoch 58/500\n",
            "\u001b[1m33/33\u001b[0m \u001b[32m━━━━━━━━━━━━━━━━━━━━\u001b[0m\u001b[37m\u001b[0m \u001b[1m2s\u001b[0m 26ms/step - loss: 0.0036 - mae: 0.0555 - val_loss: 0.0036 - val_mae: 0.0499\n",
            "Epoch 59/500\n",
            "\u001b[1m33/33\u001b[0m \u001b[32m━━━━━━━━━━━━━━━━━━━━\u001b[0m\u001b[37m\u001b[0m \u001b[1m1s\u001b[0m 26ms/step - loss: 0.0036 - mae: 0.0552 - val_loss: 0.0036 - val_mae: 0.0493\n",
            "Epoch 60/500\n",
            "\u001b[1m33/33\u001b[0m \u001b[32m━━━━━━━━━━━━━━━━━━━━\u001b[0m\u001b[37m\u001b[0m \u001b[1m1s\u001b[0m 15ms/step - loss: 0.0036 - mae: 0.0551 - val_loss: 0.0038 - val_mae: 0.0521\n",
            "Epoch 61/500\n",
            "\u001b[1m33/33\u001b[0m \u001b[32m━━━━━━━━━━━━━━━━━━━━\u001b[0m\u001b[37m\u001b[0m \u001b[1m1s\u001b[0m 15ms/step - loss: 0.0035 - mae: 0.0531 - val_loss: 0.0035 - val_mae: 0.0487\n",
            "Epoch 62/500\n",
            "\u001b[1m33/33\u001b[0m \u001b[32m━━━━━━━━━━━━━━━━━━━━\u001b[0m\u001b[37m\u001b[0m \u001b[1m1s\u001b[0m 15ms/step - loss: 0.0037 - mae: 0.0568 - val_loss: 0.0035 - val_mae: 0.0489\n",
            "Epoch 63/500\n",
            "\u001b[1m33/33\u001b[0m \u001b[32m━━━━━━━━━━━━━━━━━━━━\u001b[0m\u001b[37m\u001b[0m \u001b[1m1s\u001b[0m 16ms/step - loss: 0.0036 - mae: 0.0553 - val_loss: 0.0036 - val_mae: 0.0493\n",
            "Epoch 64/500\n",
            "\u001b[1m33/33\u001b[0m \u001b[32m━━━━━━━━━━━━━━━━━━━━\u001b[0m\u001b[37m\u001b[0m \u001b[1m1s\u001b[0m 16ms/step - loss: 0.0036 - mae: 0.0553 - val_loss: 0.0036 - val_mae: 0.0492\n",
            "Epoch 65/500\n",
            "\u001b[1m33/33\u001b[0m \u001b[32m━━━━━━━━━━━━━━━━━━━━\u001b[0m\u001b[37m\u001b[0m \u001b[1m1s\u001b[0m 16ms/step - loss: 0.0036 - mae: 0.0547 - val_loss: 0.0036 - val_mae: 0.0501\n",
            "Epoch 66/500\n",
            "\u001b[1m33/33\u001b[0m \u001b[32m━━━━━━━━━━━━━━━━━━━━\u001b[0m\u001b[37m\u001b[0m \u001b[1m1s\u001b[0m 16ms/step - loss: 0.0035 - mae: 0.0536 - val_loss: 0.0038 - val_mae: 0.0527\n",
            "Epoch 67/500\n",
            "\u001b[1m33/33\u001b[0m \u001b[32m━━━━━━━━━━━━━━━━━━━━\u001b[0m\u001b[37m\u001b[0m \u001b[1m1s\u001b[0m 16ms/step - loss: 0.0036 - mae: 0.0542 - val_loss: 0.0035 - val_mae: 0.0487\n",
            "Epoch 68/500\n",
            "\u001b[1m33/33\u001b[0m \u001b[32m━━━━━━━━━━━━━━━━━━━━\u001b[0m\u001b[37m\u001b[0m \u001b[1m1s\u001b[0m 15ms/step - loss: 0.0037 - mae: 0.0555 - val_loss: 0.0036 - val_mae: 0.0499\n",
            "Epoch 69/500\n",
            "\u001b[1m33/33\u001b[0m \u001b[32m━━━━━━━━━━━━━━━━━━━━\u001b[0m\u001b[37m\u001b[0m \u001b[1m1s\u001b[0m 15ms/step - loss: 0.0035 - mae: 0.0538 - val_loss: 0.0035 - val_mae: 0.0490\n",
            "Epoch 70/500\n",
            "\u001b[1m33/33\u001b[0m \u001b[32m━━━━━━━━━━━━━━━━━━━━\u001b[0m\u001b[37m\u001b[0m \u001b[1m1s\u001b[0m 15ms/step - loss: 0.0035 - mae: 0.0534 - val_loss: 0.0035 - val_mae: 0.0482\n",
            "Epoch 71/500\n",
            "\u001b[1m33/33\u001b[0m \u001b[32m━━━━━━━━━━━━━━━━━━━━\u001b[0m\u001b[37m\u001b[0m \u001b[1m1s\u001b[0m 16ms/step - loss: 0.0036 - mae: 0.0542 - val_loss: 0.0035 - val_mae: 0.0485\n",
            "Epoch 72/500\n",
            "\u001b[1m33/33\u001b[0m \u001b[32m━━━━━━━━━━━━━━━━━━━━\u001b[0m\u001b[37m\u001b[0m \u001b[1m1s\u001b[0m 15ms/step - loss: 0.0036 - mae: 0.0538 - val_loss: 0.0035 - val_mae: 0.0486\n",
            "Epoch 73/500\n",
            "\u001b[1m33/33\u001b[0m \u001b[32m━━━━━━━━━━━━━━━━━━━━\u001b[0m\u001b[37m\u001b[0m \u001b[1m1s\u001b[0m 14ms/step - loss: 0.0036 - mae: 0.0546 - val_loss: 0.0035 - val_mae: 0.0484\n",
            "Epoch 74/500\n",
            "\u001b[1m33/33\u001b[0m \u001b[32m━━━━━━━━━━━━━━━━━━━━\u001b[0m\u001b[37m\u001b[0m \u001b[1m1s\u001b[0m 15ms/step - loss: 0.0035 - mae: 0.0536 - val_loss: 0.0035 - val_mae: 0.0477\n",
            "Epoch 75/500\n",
            "\u001b[1m33/33\u001b[0m \u001b[32m━━━━━━━━━━━━━━━━━━━━\u001b[0m\u001b[37m\u001b[0m \u001b[1m1s\u001b[0m 16ms/step - loss: 0.0035 - mae: 0.0550 - val_loss: 0.0035 - val_mae: 0.0483\n",
            "Epoch 76/500\n",
            "\u001b[1m33/33\u001b[0m \u001b[32m━━━━━━━━━━━━━━━━━━━━\u001b[0m\u001b[37m\u001b[0m \u001b[1m1s\u001b[0m 26ms/step - loss: 0.0036 - mae: 0.0548 - val_loss: 0.0035 - val_mae: 0.0479\n",
            "Epoch 77/500\n",
            "\u001b[1m33/33\u001b[0m \u001b[32m━━━━━━━━━━━━━━━━━━━━\u001b[0m\u001b[37m\u001b[0m \u001b[1m1s\u001b[0m 24ms/step - loss: 0.0036 - mae: 0.0547 - val_loss: 0.0034 - val_mae: 0.0479\n",
            "Epoch 78/500\n",
            "\u001b[1m33/33\u001b[0m \u001b[32m━━━━━━━━━━━━━━━━━━━━\u001b[0m\u001b[37m\u001b[0m \u001b[1m1s\u001b[0m 27ms/step - loss: 0.0036 - mae: 0.0559 - val_loss: 0.0035 - val_mae: 0.0480\n",
            "Epoch 79/500\n",
            "\u001b[1m33/33\u001b[0m \u001b[32m━━━━━━━━━━━━━━━━━━━━\u001b[0m\u001b[37m\u001b[0m \u001b[1m1s\u001b[0m 26ms/step - loss: 0.0035 - mae: 0.0535 - val_loss: 0.0035 - val_mae: 0.0480\n",
            "Epoch 80/500\n",
            "\u001b[1m33/33\u001b[0m \u001b[32m━━━━━━━━━━━━━━━━━━━━\u001b[0m\u001b[37m\u001b[0m \u001b[1m1s\u001b[0m 17ms/step - loss: 0.0034 - mae: 0.0523 - val_loss: 0.0035 - val_mae: 0.0485\n",
            "Epoch 81/500\n",
            "\u001b[1m33/33\u001b[0m \u001b[32m━━━━━━━━━━━━━━━━━━━━\u001b[0m\u001b[37m\u001b[0m \u001b[1m1s\u001b[0m 16ms/step - loss: 0.0035 - mae: 0.0530 - val_loss: 0.0035 - val_mae: 0.0477\n",
            "Epoch 82/500\n",
            "\u001b[1m33/33\u001b[0m \u001b[32m━━━━━━━━━━━━━━━━━━━━\u001b[0m\u001b[37m\u001b[0m \u001b[1m1s\u001b[0m 16ms/step - loss: 0.0035 - mae: 0.0535 - val_loss: 0.0035 - val_mae: 0.0488\n",
            "Epoch 83/500\n",
            "\u001b[1m33/33\u001b[0m \u001b[32m━━━━━━━━━━━━━━━━━━━━\u001b[0m\u001b[37m\u001b[0m \u001b[1m1s\u001b[0m 16ms/step - loss: 0.0036 - mae: 0.0539 - val_loss: 0.0035 - val_mae: 0.0489\n",
            "Epoch 84/500\n",
            "\u001b[1m33/33\u001b[0m \u001b[32m━━━━━━━━━━━━━━━━━━━━\u001b[0m\u001b[37m\u001b[0m \u001b[1m1s\u001b[0m 15ms/step - loss: 0.0035 - mae: 0.0523 - val_loss: 0.0035 - val_mae: 0.0478\n",
            "Epoch 85/500\n",
            "\u001b[1m33/33\u001b[0m \u001b[32m━━━━━━━━━━━━━━━━━━━━\u001b[0m\u001b[37m\u001b[0m \u001b[1m1s\u001b[0m 16ms/step - loss: 0.0034 - mae: 0.0523 - val_loss: 0.0034 - val_mae: 0.0473\n",
            "Epoch 86/500\n",
            "\u001b[1m33/33\u001b[0m \u001b[32m━━━━━━━━━━━━━━━━━━━━\u001b[0m\u001b[37m\u001b[0m \u001b[1m1s\u001b[0m 15ms/step - loss: 0.0035 - mae: 0.0531 - val_loss: 0.0035 - val_mae: 0.0487\n",
            "Epoch 87/500\n",
            "\u001b[1m33/33\u001b[0m \u001b[32m━━━━━━━━━━━━━━━━━━━━\u001b[0m\u001b[37m\u001b[0m \u001b[1m1s\u001b[0m 17ms/step - loss: 0.0033 - mae: 0.0514 - val_loss: 0.0034 - val_mae: 0.0471\n",
            "Epoch 88/500\n",
            "\u001b[1m33/33\u001b[0m \u001b[32m━━━━━━━━━━━━━━━━━━━━\u001b[0m\u001b[37m\u001b[0m \u001b[1m1s\u001b[0m 14ms/step - loss: 0.0034 - mae: 0.0524 - val_loss: 0.0035 - val_mae: 0.0473\n",
            "Epoch 89/500\n",
            "\u001b[1m33/33\u001b[0m \u001b[32m━━━━━━━━━━━━━━━━━━━━\u001b[0m\u001b[37m\u001b[0m \u001b[1m1s\u001b[0m 15ms/step - loss: 0.0034 - mae: 0.0521 - val_loss: 0.0035 - val_mae: 0.0477\n",
            "Epoch 90/500\n",
            "\u001b[1m33/33\u001b[0m \u001b[32m━━━━━━━━━━━━━━━━━━━━\u001b[0m\u001b[37m\u001b[0m \u001b[1m1s\u001b[0m 16ms/step - loss: 0.0034 - mae: 0.0519 - val_loss: 0.0035 - val_mae: 0.0476\n",
            "Epoch 91/500\n",
            "\u001b[1m33/33\u001b[0m \u001b[32m━━━━━━━━━━━━━━━━━━━━\u001b[0m\u001b[37m\u001b[0m \u001b[1m1s\u001b[0m 15ms/step - loss: 0.0034 - mae: 0.0514 - val_loss: 0.0035 - val_mae: 0.0480\n",
            "Epoch 92/500\n",
            "\u001b[1m33/33\u001b[0m \u001b[32m━━━━━━━━━━━━━━━━━━━━\u001b[0m\u001b[37m\u001b[0m \u001b[1m1s\u001b[0m 16ms/step - loss: 0.0034 - mae: 0.0519 - val_loss: 0.0035 - val_mae: 0.0481\n",
            "Epoch 93/500\n",
            "\u001b[1m33/33\u001b[0m \u001b[32m━━━━━━━━━━━━━━━━━━━━\u001b[0m\u001b[37m\u001b[0m \u001b[1m1s\u001b[0m 15ms/step - loss: 0.0034 - mae: 0.0522 - val_loss: 0.0035 - val_mae: 0.0478\n",
            "Epoch 94/500\n",
            "\u001b[1m33/33\u001b[0m \u001b[32m━━━━━━━━━━━━━━━━━━━━\u001b[0m\u001b[37m\u001b[0m \u001b[1m1s\u001b[0m 19ms/step - loss: 0.0035 - mae: 0.0526 - val_loss: 0.0034 - val_mae: 0.0468\n",
            "Epoch 95/500\n",
            "\u001b[1m33/33\u001b[0m \u001b[32m━━━━━━━━━━━━━━━━━━━━\u001b[0m\u001b[37m\u001b[0m \u001b[1m2s\u001b[0m 30ms/step - loss: 0.0037 - mae: 0.0557 - val_loss: 0.0034 - val_mae: 0.0470\n",
            "Epoch 96/500\n",
            "\u001b[1m33/33\u001b[0m \u001b[32m━━━━━━━━━━━━━━━━━━━━\u001b[0m\u001b[37m\u001b[0m \u001b[1m1s\u001b[0m 26ms/step - loss: 0.0034 - mae: 0.0522 - val_loss: 0.0034 - val_mae: 0.0468\n",
            "Epoch 97/500\n",
            "\u001b[1m33/33\u001b[0m \u001b[32m━━━━━━━━━━━━━━━━━━━━\u001b[0m\u001b[37m\u001b[0m \u001b[1m1s\u001b[0m 17ms/step - loss: 0.0034 - mae: 0.0530 - val_loss: 0.0034 - val_mae: 0.0469\n",
            "Epoch 98/500\n",
            "\u001b[1m33/33\u001b[0m \u001b[32m━━━━━━━━━━━━━━━━━━━━\u001b[0m\u001b[37m\u001b[0m \u001b[1m1s\u001b[0m 15ms/step - loss: 0.0035 - mae: 0.0543 - val_loss: 0.0034 - val_mae: 0.0467\n",
            "Epoch 99/500\n",
            "\u001b[1m33/33\u001b[0m \u001b[32m━━━━━━━━━━━━━━━━━━━━\u001b[0m\u001b[37m\u001b[0m \u001b[1m1s\u001b[0m 16ms/step - loss: 0.0034 - mae: 0.0519 - val_loss: 0.0035 - val_mae: 0.0470\n",
            "Epoch 100/500\n",
            "\u001b[1m33/33\u001b[0m \u001b[32m━━━━━━━━━━━━━━━━━━━━\u001b[0m\u001b[37m\u001b[0m \u001b[1m1s\u001b[0m 15ms/step - loss: 0.0034 - mae: 0.0515 - val_loss: 0.0034 - val_mae: 0.0466\n",
            "Epoch 101/500\n",
            "\u001b[1m33/33\u001b[0m \u001b[32m━━━━━━━━━━━━━━━━━━━━\u001b[0m\u001b[37m\u001b[0m \u001b[1m1s\u001b[0m 14ms/step - loss: 0.0034 - mae: 0.0521 - val_loss: 0.0034 - val_mae: 0.0469\n",
            "Epoch 102/500\n",
            "\u001b[1m33/33\u001b[0m \u001b[32m━━━━━━━━━━━━━━━━━━━━\u001b[0m\u001b[37m\u001b[0m \u001b[1m1s\u001b[0m 15ms/step - loss: 0.0033 - mae: 0.0517 - val_loss: 0.0034 - val_mae: 0.0467\n",
            "Epoch 103/500\n",
            "\u001b[1m33/33\u001b[0m \u001b[32m━━━━━━━━━━━━━━━━━━━━\u001b[0m\u001b[37m\u001b[0m \u001b[1m1s\u001b[0m 15ms/step - loss: 0.0034 - mae: 0.0516 - val_loss: 0.0034 - val_mae: 0.0466\n",
            "Epoch 104/500\n",
            "\u001b[1m33/33\u001b[0m \u001b[32m━━━━━━━━━━━━━━━━━━━━\u001b[0m\u001b[37m\u001b[0m \u001b[1m1s\u001b[0m 16ms/step - loss: 0.0034 - mae: 0.0521 - val_loss: 0.0035 - val_mae: 0.0473\n",
            "Epoch 105/500\n",
            "\u001b[1m33/33\u001b[0m \u001b[32m━━━━━━━━━━━━━━━━━━━━\u001b[0m\u001b[37m\u001b[0m \u001b[1m1s\u001b[0m 16ms/step - loss: 0.0034 - mae: 0.0515 - val_loss: 0.0035 - val_mae: 0.0473\n",
            "Epoch 106/500\n",
            "\u001b[1m33/33\u001b[0m \u001b[32m━━━━━━━━━━━━━━━━━━━━\u001b[0m\u001b[37m\u001b[0m \u001b[1m1s\u001b[0m 18ms/step - loss: 0.0034 - mae: 0.0519 - val_loss: 0.0035 - val_mae: 0.0474\n",
            "Epoch 107/500\n",
            "\u001b[1m33/33\u001b[0m \u001b[32m━━━━━━━━━━━━━━━━━━━━\u001b[0m\u001b[37m\u001b[0m \u001b[1m1s\u001b[0m 15ms/step - loss: 0.0033 - mae: 0.0507 - val_loss: 0.0035 - val_mae: 0.0473\n",
            "Epoch 108/500\n",
            "\u001b[1m33/33\u001b[0m \u001b[32m━━━━━━━━━━━━━━━━━━━━\u001b[0m\u001b[37m\u001b[0m \u001b[1m1s\u001b[0m 15ms/step - loss: 0.0033 - mae: 0.0504 - val_loss: 0.0035 - val_mae: 0.0474\n",
            "Epoch 109/500\n",
            "\u001b[1m33/33\u001b[0m \u001b[32m━━━━━━━━━━━━━━━━━━━━\u001b[0m\u001b[37m\u001b[0m \u001b[1m1s\u001b[0m 16ms/step - loss: 0.0033 - mae: 0.0502 - val_loss: 0.0034 - val_mae: 0.0466\n",
            "Epoch 110/500\n",
            "\u001b[1m33/33\u001b[0m \u001b[32m━━━━━━━━━━━━━━━━━━━━\u001b[0m\u001b[37m\u001b[0m \u001b[1m1s\u001b[0m 16ms/step - loss: 0.0033 - mae: 0.0507 - val_loss: 0.0034 - val_mae: 0.0470\n",
            "Epoch 111/500\n",
            "\u001b[1m33/33\u001b[0m \u001b[32m━━━━━━━━━━━━━━━━━━━━\u001b[0m\u001b[37m\u001b[0m \u001b[1m1s\u001b[0m 27ms/step - loss: 0.0033 - mae: 0.0512 - val_loss: 0.0035 - val_mae: 0.0483\n",
            "Epoch 112/500\n",
            "\u001b[1m33/33\u001b[0m \u001b[32m━━━━━━━━━━━━━━━━━━━━\u001b[0m\u001b[37m\u001b[0m \u001b[1m1s\u001b[0m 28ms/step - loss: 0.0034 - mae: 0.0515 - val_loss: 0.0035 - val_mae: 0.0472\n",
            "Epoch 113/500\n",
            "\u001b[1m33/33\u001b[0m \u001b[32m━━━━━━━━━━━━━━━━━━━━\u001b[0m\u001b[37m\u001b[0m \u001b[1m1s\u001b[0m 31ms/step - loss: 0.0034 - mae: 0.0515 - val_loss: 0.0034 - val_mae: 0.0468\n",
            "Epoch 114/500\n",
            "\u001b[1m33/33\u001b[0m \u001b[32m━━━━━━━━━━━━━━━━━━━━\u001b[0m\u001b[37m\u001b[0m \u001b[1m1s\u001b[0m 15ms/step - loss: 0.0033 - mae: 0.0515 - val_loss: 0.0034 - val_mae: 0.0464\n",
            "Epoch 115/500\n",
            "\u001b[1m33/33\u001b[0m \u001b[32m━━━━━━━━━━━━━━━━━━━━\u001b[0m\u001b[37m\u001b[0m \u001b[1m1s\u001b[0m 17ms/step - loss: 0.0033 - mae: 0.0507 - val_loss: 0.0034 - val_mae: 0.0465\n",
            "Epoch 116/500\n",
            "\u001b[1m33/33\u001b[0m \u001b[32m━━━━━━━━━━━━━━━━━━━━\u001b[0m\u001b[37m\u001b[0m \u001b[1m1s\u001b[0m 15ms/step - loss: 0.0034 - mae: 0.0519 - val_loss: 0.0034 - val_mae: 0.0465\n",
            "Epoch 117/500\n",
            "\u001b[1m33/33\u001b[0m \u001b[32m━━━━━━━━━━━━━━━━━━━━\u001b[0m\u001b[37m\u001b[0m \u001b[1m1s\u001b[0m 16ms/step - loss: 0.0033 - mae: 0.0504 - val_loss: 0.0035 - val_mae: 0.0483\n",
            "Epoch 118/500\n",
            "\u001b[1m33/33\u001b[0m \u001b[32m━━━━━━━━━━━━━━━━━━━━\u001b[0m\u001b[37m\u001b[0m \u001b[1m1s\u001b[0m 16ms/step - loss: 0.0032 - mae: 0.0491 - val_loss: 0.0034 - val_mae: 0.0463\n",
            "Epoch 119/500\n",
            "\u001b[1m33/33\u001b[0m \u001b[32m━━━━━━━━━━━━━━━━━━━━\u001b[0m\u001b[37m\u001b[0m \u001b[1m1s\u001b[0m 15ms/step - loss: 0.0033 - mae: 0.0508 - val_loss: 0.0034 - val_mae: 0.0463\n",
            "Epoch 120/500\n",
            "\u001b[1m33/33\u001b[0m \u001b[32m━━━━━━━━━━━━━━━━━━━━\u001b[0m\u001b[37m\u001b[0m \u001b[1m1s\u001b[0m 33ms/step - loss: 0.0034 - mae: 0.0516 - val_loss: 0.0034 - val_mae: 0.0468\n",
            "Epoch 121/500\n",
            "\u001b[1m33/33\u001b[0m \u001b[32m━━━━━━━━━━━━━━━━━━━━\u001b[0m\u001b[37m\u001b[0m \u001b[1m1s\u001b[0m 17ms/step - loss: 0.0034 - mae: 0.0520 - val_loss: 0.0034 - val_mae: 0.0462\n",
            "Epoch 122/500\n",
            "\u001b[1m33/33\u001b[0m \u001b[32m━━━━━━━━━━━━━━━━━━━━\u001b[0m\u001b[37m\u001b[0m \u001b[1m1s\u001b[0m 16ms/step - loss: 0.0033 - mae: 0.0507 - val_loss: 0.0035 - val_mae: 0.0471\n",
            "Epoch 123/500\n",
            "\u001b[1m33/33\u001b[0m \u001b[32m━━━━━━━━━━━━━━━━━━━━\u001b[0m\u001b[37m\u001b[0m \u001b[1m1s\u001b[0m 15ms/step - loss: 0.0033 - mae: 0.0499 - val_loss: 0.0035 - val_mae: 0.0474\n",
            "Epoch 124/500\n",
            "\u001b[1m33/33\u001b[0m \u001b[32m━━━━━━━━━━━━━━━━━━━━\u001b[0m\u001b[37m\u001b[0m \u001b[1m1s\u001b[0m 16ms/step - loss: 0.0031 - mae: 0.0491 - val_loss: 0.0035 - val_mae: 0.0473\n",
            "Epoch 125/500\n",
            "\u001b[1m33/33\u001b[0m \u001b[32m━━━━━━━━━━━━━━━━━━━━\u001b[0m\u001b[37m\u001b[0m \u001b[1m1s\u001b[0m 16ms/step - loss: 0.0032 - mae: 0.0493 - val_loss: 0.0035 - val_mae: 0.0470\n",
            "Epoch 126/500\n",
            "\u001b[1m33/33\u001b[0m \u001b[32m━━━━━━━━━━━━━━━━━━━━\u001b[0m\u001b[37m\u001b[0m \u001b[1m1s\u001b[0m 21ms/step - loss: 0.0032 - mae: 0.0491 - val_loss: 0.0036 - val_mae: 0.0500\n",
            "Epoch 127/500\n",
            "\u001b[1m33/33\u001b[0m \u001b[32m━━━━━━━━━━━━━━━━━━━━\u001b[0m\u001b[37m\u001b[0m \u001b[1m1s\u001b[0m 29ms/step - loss: 0.0032 - mae: 0.0491 - val_loss: 0.0034 - val_mae: 0.0462\n",
            "Epoch 128/500\n",
            "\u001b[1m33/33\u001b[0m \u001b[32m━━━━━━━━━━━━━━━━━━━━\u001b[0m\u001b[37m\u001b[0m \u001b[1m2s\u001b[0m 42ms/step - loss: 0.0032 - mae: 0.0504 - val_loss: 0.0035 - val_mae: 0.0469\n",
            "Epoch 129/500\n",
            "\u001b[1m33/33\u001b[0m \u001b[32m━━━━━━━━━━━━━━━━━━━━\u001b[0m\u001b[37m\u001b[0m \u001b[1m1s\u001b[0m 16ms/step - loss: 0.0032 - mae: 0.0492 - val_loss: 0.0034 - val_mae: 0.0465\n",
            "Epoch 130/500\n",
            "\u001b[1m33/33\u001b[0m \u001b[32m━━━━━━━━━━━━━━━━━━━━\u001b[0m\u001b[37m\u001b[0m \u001b[1m1s\u001b[0m 16ms/step - loss: 0.0032 - mae: 0.0495 - val_loss: 0.0034 - val_mae: 0.0468\n",
            "Epoch 131/500\n",
            "\u001b[1m33/33\u001b[0m \u001b[32m━━━━━━━━━━━━━━━━━━━━\u001b[0m\u001b[37m\u001b[0m \u001b[1m1s\u001b[0m 15ms/step - loss: 0.0031 - mae: 0.0485 - val_loss: 0.0034 - val_mae: 0.0464\n",
            "Epoch 132/500\n",
            "\u001b[1m33/33\u001b[0m \u001b[32m━━━━━━━━━━━━━━━━━━━━\u001b[0m\u001b[37m\u001b[0m \u001b[1m1s\u001b[0m 16ms/step - loss: 0.0032 - mae: 0.0497 - val_loss: 0.0035 - val_mae: 0.0476\n",
            "Epoch 133/500\n",
            "\u001b[1m33/33\u001b[0m \u001b[32m━━━━━━━━━━━━━━━━━━━━\u001b[0m\u001b[37m\u001b[0m \u001b[1m1s\u001b[0m 16ms/step - loss: 0.0033 - mae: 0.0501 - val_loss: 0.0035 - val_mae: 0.0487\n",
            "Epoch 134/500\n",
            "\u001b[1m33/33\u001b[0m \u001b[32m━━━━━━━━━━━━━━━━━━━━\u001b[0m\u001b[37m\u001b[0m \u001b[1m1s\u001b[0m 16ms/step - loss: 0.0033 - mae: 0.0500 - val_loss: 0.0035 - val_mae: 0.0480\n",
            "Epoch 135/500\n",
            "\u001b[1m33/33\u001b[0m \u001b[32m━━━━━━━━━━━━━━━━━━━━\u001b[0m\u001b[37m\u001b[0m \u001b[1m1s\u001b[0m 16ms/step - loss: 0.0032 - mae: 0.0496 - val_loss: 0.0034 - val_mae: 0.0471\n",
            "Epoch 136/500\n",
            "\u001b[1m33/33\u001b[0m \u001b[32m━━━━━━━━━━━━━━━━━━━━\u001b[0m\u001b[37m\u001b[0m \u001b[1m1s\u001b[0m 16ms/step - loss: 0.0032 - mae: 0.0493 - val_loss: 0.0034 - val_mae: 0.0467\n",
            "Epoch 137/500\n",
            "\u001b[1m33/33\u001b[0m \u001b[32m━━━━━━━━━━━━━━━━━━━━\u001b[0m\u001b[37m\u001b[0m \u001b[1m1s\u001b[0m 17ms/step - loss: 0.0032 - mae: 0.0497 - val_loss: 0.0034 - val_mae: 0.0466\n",
            "Epoch 138/500\n",
            "\u001b[1m33/33\u001b[0m \u001b[32m━━━━━━━━━━━━━━━━━━━━\u001b[0m\u001b[37m\u001b[0m \u001b[1m1s\u001b[0m 16ms/step - loss: 0.0033 - mae: 0.0507 - val_loss: 0.0035 - val_mae: 0.0476\n",
            "Epoch 139/500\n",
            "\u001b[1m33/33\u001b[0m \u001b[32m━━━━━━━━━━━━━━━━━━━━\u001b[0m\u001b[37m\u001b[0m \u001b[1m1s\u001b[0m 16ms/step - loss: 0.0031 - mae: 0.0489 - val_loss: 0.0035 - val_mae: 0.0477\n",
            "Epoch 140/500\n",
            "\u001b[1m33/33\u001b[0m \u001b[32m━━━━━━━━━━━━━━━━━━━━\u001b[0m\u001b[37m\u001b[0m \u001b[1m1s\u001b[0m 16ms/step - loss: 0.0032 - mae: 0.0496 - val_loss: 0.0034 - val_mae: 0.0469\n",
            "Epoch 141/500\n",
            "\u001b[1m33/33\u001b[0m \u001b[32m━━━━━━━━━━━━━━━━━━━━\u001b[0m\u001b[37m\u001b[0m \u001b[1m1s\u001b[0m 15ms/step - loss: 0.0032 - mae: 0.0499 - val_loss: 0.0034 - val_mae: 0.0466\n",
            "Epoch 142/500\n",
            "\u001b[1m33/33\u001b[0m \u001b[32m━━━━━━━━━━━━━━━━━━━━\u001b[0m\u001b[37m\u001b[0m \u001b[1m1s\u001b[0m 23ms/step - loss: 0.0032 - mae: 0.0495 - val_loss: 0.0035 - val_mae: 0.0473\n",
            "Epoch 143/500\n",
            "\u001b[1m33/33\u001b[0m \u001b[32m━━━━━━━━━━━━━━━━━━━━\u001b[0m\u001b[37m\u001b[0m \u001b[1m1s\u001b[0m 25ms/step - loss: 0.0033 - mae: 0.0504 - val_loss: 0.0034 - val_mae: 0.0462\n",
            "Epoch 144/500\n",
            "\u001b[1m33/33\u001b[0m \u001b[32m━━━━━━━━━━━━━━━━━━━━\u001b[0m\u001b[37m\u001b[0m \u001b[1m1s\u001b[0m 29ms/step - loss: 0.0032 - mae: 0.0509 - val_loss: 0.0034 - val_mae: 0.0462\n",
            "Epoch 145/500\n",
            "\u001b[1m33/33\u001b[0m \u001b[32m━━━━━━━━━━━━━━━━━━━━\u001b[0m\u001b[37m\u001b[0m \u001b[1m1s\u001b[0m 16ms/step - loss: 0.0033 - mae: 0.0512 - val_loss: 0.0034 - val_mae: 0.0466\n",
            "Epoch 146/500\n",
            "\u001b[1m33/33\u001b[0m \u001b[32m━━━━━━━━━━━━━━━━━━━━\u001b[0m\u001b[37m\u001b[0m \u001b[1m1s\u001b[0m 15ms/step - loss: 0.0031 - mae: 0.0485 - val_loss: 0.0035 - val_mae: 0.0471\n",
            "Epoch 147/500\n",
            "\u001b[1m33/33\u001b[0m \u001b[32m━━━━━━━━━━━━━━━━━━━━\u001b[0m\u001b[37m\u001b[0m \u001b[1m1s\u001b[0m 16ms/step - loss: 0.0032 - mae: 0.0490 - val_loss: 0.0034 - val_mae: 0.0466\n",
            "Epoch 148/500\n",
            "\u001b[1m33/33\u001b[0m \u001b[32m━━━━━━━━━━━━━━━━━━━━\u001b[0m\u001b[37m\u001b[0m \u001b[1m1s\u001b[0m 16ms/step - loss: 0.0031 - mae: 0.0478 - val_loss: 0.0035 - val_mae: 0.0474\n",
            "Epoch 149/500\n",
            "\u001b[1m33/33\u001b[0m \u001b[32m━━━━━━━━━━━━━━━━━━━━\u001b[0m\u001b[37m\u001b[0m \u001b[1m1s\u001b[0m 16ms/step - loss: 0.0032 - mae: 0.0492 - val_loss: 0.0034 - val_mae: 0.0461\n",
            "Epoch 150/500\n",
            "\u001b[1m33/33\u001b[0m \u001b[32m━━━━━━━━━━━━━━━━━━━━\u001b[0m\u001b[37m\u001b[0m \u001b[1m1s\u001b[0m 16ms/step - loss: 0.0032 - mae: 0.0502 - val_loss: 0.0035 - val_mae: 0.0476\n",
            "Epoch 151/500\n",
            "\u001b[1m33/33\u001b[0m \u001b[32m━━━━━━━━━━━━━━━━━━━━\u001b[0m\u001b[37m\u001b[0m \u001b[1m1s\u001b[0m 16ms/step - loss: 0.0032 - mae: 0.0488 - val_loss: 0.0034 - val_mae: 0.0469\n",
            "Epoch 152/500\n",
            "\u001b[1m33/33\u001b[0m \u001b[32m━━━━━━━━━━━━━━━━━━━━\u001b[0m\u001b[37m\u001b[0m \u001b[1m1s\u001b[0m 16ms/step - loss: 0.0032 - mae: 0.0498 - val_loss: 0.0034 - val_mae: 0.0461\n",
            "Epoch 153/500\n",
            "\u001b[1m33/33\u001b[0m \u001b[32m━━━━━━━━━━━━━━━━━━━━\u001b[0m\u001b[37m\u001b[0m \u001b[1m1s\u001b[0m 16ms/step - loss: 0.0032 - mae: 0.0493 - val_loss: 0.0034 - val_mae: 0.0461\n",
            "Epoch 154/500\n",
            "\u001b[1m33/33\u001b[0m \u001b[32m━━━━━━━━━━━━━━━━━━━━\u001b[0m\u001b[37m\u001b[0m \u001b[1m1s\u001b[0m 15ms/step - loss: 0.0033 - mae: 0.0513 - val_loss: 0.0034 - val_mae: 0.0464\n",
            "Epoch 155/500\n",
            "\u001b[1m33/33\u001b[0m \u001b[32m━━━━━━━━━━━━━━━━━━━━\u001b[0m\u001b[37m\u001b[0m \u001b[1m1s\u001b[0m 16ms/step - loss: 0.0033 - mae: 0.0501 - val_loss: 0.0035 - val_mae: 0.0484\n",
            "Epoch 156/500\n",
            "\u001b[1m33/33\u001b[0m \u001b[32m━━━━━━━━━━━━━━━━━━━━\u001b[0m\u001b[37m\u001b[0m \u001b[1m1s\u001b[0m 15ms/step - loss: 0.0032 - mae: 0.0487 - val_loss: 0.0034 - val_mae: 0.0469\n",
            "Epoch 157/500\n",
            "\u001b[1m33/33\u001b[0m \u001b[32m━━━━━━━━━━━━━━━━━━━━\u001b[0m\u001b[37m\u001b[0m \u001b[1m1s\u001b[0m 14ms/step - loss: 0.0031 - mae: 0.0482 - val_loss: 0.0035 - val_mae: 0.0476\n",
            "Epoch 158/500\n",
            "\u001b[1m33/33\u001b[0m \u001b[32m━━━━━━━━━━━━━━━━━━━━\u001b[0m\u001b[37m\u001b[0m \u001b[1m1s\u001b[0m 16ms/step - loss: 0.0031 - mae: 0.0480 - val_loss: 0.0035 - val_mae: 0.0485\n",
            "Epoch 159/500\n",
            "\u001b[1m33/33\u001b[0m \u001b[32m━━━━━━━━━━━━━━━━━━━━\u001b[0m\u001b[37m\u001b[0m \u001b[1m1s\u001b[0m 16ms/step - loss: 0.0031 - mae: 0.0478 - val_loss: 0.0034 - val_mae: 0.0466\n",
            "Epoch 160/500\n",
            "\u001b[1m33/33\u001b[0m \u001b[32m━━━━━━━━━━━━━━━━━━━━\u001b[0m\u001b[37m\u001b[0m \u001b[1m1s\u001b[0m 29ms/step - loss: 0.0031 - mae: 0.0480 - val_loss: 0.0035 - val_mae: 0.0470\n",
            "Epoch 161/500\n",
            "\u001b[1m33/33\u001b[0m \u001b[32m━━━━━━━━━━━━━━━━━━━━\u001b[0m\u001b[37m\u001b[0m \u001b[1m1s\u001b[0m 27ms/step - loss: 0.0031 - mae: 0.0479 - val_loss: 0.0035 - val_mae: 0.0481\n",
            "Epoch 162/500\n",
            "\u001b[1m33/33\u001b[0m \u001b[32m━━━━━━━━━━━━━━━━━━━━\u001b[0m\u001b[37m\u001b[0m \u001b[1m1s\u001b[0m 25ms/step - loss: 0.0031 - mae: 0.0478 - val_loss: 0.0035 - val_mae: 0.0475\n",
            "Epoch 163/500\n",
            "\u001b[1m33/33\u001b[0m \u001b[32m━━━━━━━━━━━━━━━━━━━━\u001b[0m\u001b[37m\u001b[0m \u001b[1m1s\u001b[0m 15ms/step - loss: 0.0032 - mae: 0.0489 - val_loss: 0.0034 - val_mae: 0.0461\n",
            "Epoch 164/500\n",
            "\u001b[1m33/33\u001b[0m \u001b[32m━━━━━━━━━━━━━━━━━━━━\u001b[0m\u001b[37m\u001b[0m \u001b[1m1s\u001b[0m 17ms/step - loss: 0.0032 - mae: 0.0493 - val_loss: 0.0034 - val_mae: 0.0461\n",
            "Epoch 165/500\n",
            "\u001b[1m33/33\u001b[0m \u001b[32m━━━━━━━━━━━━━━━━━━━━\u001b[0m\u001b[37m\u001b[0m \u001b[1m1s\u001b[0m 16ms/step - loss: 0.0031 - mae: 0.0486 - val_loss: 0.0035 - val_mae: 0.0482\n",
            "Epoch 166/500\n",
            "\u001b[1m33/33\u001b[0m \u001b[32m━━━━━━━━━━━━━━━━━━━━\u001b[0m\u001b[37m\u001b[0m \u001b[1m1s\u001b[0m 16ms/step - loss: 0.0031 - mae: 0.0480 - val_loss: 0.0036 - val_mae: 0.0487\n",
            "Epoch 167/500\n",
            "\u001b[1m33/33\u001b[0m \u001b[32m━━━━━━━━━━━━━━━━━━━━\u001b[0m\u001b[37m\u001b[0m \u001b[1m1s\u001b[0m 16ms/step - loss: 0.0030 - mae: 0.0472 - val_loss: 0.0034 - val_mae: 0.0461\n",
            "Epoch 168/500\n",
            "\u001b[1m33/33\u001b[0m \u001b[32m━━━━━━━━━━━━━━━━━━━━\u001b[0m\u001b[37m\u001b[0m \u001b[1m1s\u001b[0m 16ms/step - loss: 0.0030 - mae: 0.0477 - val_loss: 0.0034 - val_mae: 0.0465\n",
            "Epoch 169/500\n",
            "\u001b[1m33/33\u001b[0m \u001b[32m━━━━━━━━━━━━━━━━━━━━\u001b[0m\u001b[37m\u001b[0m \u001b[1m1s\u001b[0m 15ms/step - loss: 0.0031 - mae: 0.0474 - val_loss: 0.0034 - val_mae: 0.0468\n",
            "Epoch 170/500\n",
            "\u001b[1m33/33\u001b[0m \u001b[32m━━━━━━━━━━━━━━━━━━━━\u001b[0m\u001b[37m\u001b[0m \u001b[1m1s\u001b[0m 16ms/step - loss: 0.0031 - mae: 0.0477 - val_loss: 0.0035 - val_mae: 0.0478\n",
            "Epoch 171/500\n",
            "\u001b[1m33/33\u001b[0m \u001b[32m━━━━━━━━━━━━━━━━━━━━\u001b[0m\u001b[37m\u001b[0m \u001b[1m1s\u001b[0m 15ms/step - loss: 0.0031 - mae: 0.0478 - val_loss: 0.0036 - val_mae: 0.0489\n",
            "Epoch 172/500\n",
            "\u001b[1m33/33\u001b[0m \u001b[32m━━━━━━━━━━━━━━━━━━━━\u001b[0m\u001b[37m\u001b[0m \u001b[1m1s\u001b[0m 15ms/step - loss: 0.0031 - mae: 0.0483 - val_loss: 0.0036 - val_mae: 0.0494\n",
            "Epoch 173/500\n",
            "\u001b[1m33/33\u001b[0m \u001b[32m━━━━━━━━━━━━━━━━━━━━\u001b[0m\u001b[37m\u001b[0m \u001b[1m1s\u001b[0m 17ms/step - loss: 0.0031 - mae: 0.0492 - val_loss: 0.0034 - val_mae: 0.0461\n",
            "Epoch 174/500\n",
            "\u001b[1m33/33\u001b[0m \u001b[32m━━━━━━━━━━━━━━━━━━━━\u001b[0m\u001b[37m\u001b[0m \u001b[1m1s\u001b[0m 15ms/step - loss: 0.0032 - mae: 0.0496 - val_loss: 0.0034 - val_mae: 0.0462\n",
            "Epoch 175/500\n",
            "\u001b[1m33/33\u001b[0m \u001b[32m━━━━━━━━━━━━━━━━━━━━\u001b[0m\u001b[37m\u001b[0m \u001b[1m1s\u001b[0m 16ms/step - loss: 0.0031 - mae: 0.0481 - val_loss: 0.0034 - val_mae: 0.0465\n",
            "Epoch 176/500\n",
            "\u001b[1m33/33\u001b[0m \u001b[32m━━━━━━━━━━━━━━━━━━━━\u001b[0m\u001b[37m\u001b[0m \u001b[1m1s\u001b[0m 16ms/step - loss: 0.0031 - mae: 0.0484 - val_loss: 0.0037 - val_mae: 0.0509\n",
            "Epoch 177/500\n",
            "\u001b[1m33/33\u001b[0m \u001b[32m━━━━━━━━━━━━━━━━━━━━\u001b[0m\u001b[37m\u001b[0m \u001b[1m1s\u001b[0m 28ms/step - loss: 0.0031 - mae: 0.0474 - val_loss: 0.0035 - val_mae: 0.0475\n",
            "Epoch 178/500\n",
            "\u001b[1m33/33\u001b[0m \u001b[32m━━━━━━━━━━━━━━━━━━━━\u001b[0m\u001b[37m\u001b[0m \u001b[1m1s\u001b[0m 25ms/step - loss: 0.0031 - mae: 0.0481 - val_loss: 0.0034 - val_mae: 0.0463\n",
            "Epoch 179/500\n",
            "\u001b[1m33/33\u001b[0m \u001b[32m━━━━━━━━━━━━━━━━━━━━\u001b[0m\u001b[37m\u001b[0m \u001b[1m1s\u001b[0m 28ms/step - loss: 0.0032 - mae: 0.0493 - val_loss: 0.0034 - val_mae: 0.0461\n",
            "Epoch 180/500\n",
            "\u001b[1m33/33\u001b[0m \u001b[32m━━━━━━━━━━━━━━━━━━━━\u001b[0m\u001b[37m\u001b[0m \u001b[1m1s\u001b[0m 15ms/step - loss: 0.0032 - mae: 0.0503 - val_loss: 0.0033 - val_mae: 0.0459\n",
            "Epoch 181/500\n",
            "\u001b[1m33/33\u001b[0m \u001b[32m━━━━━━━━━━━━━━━━━━━━\u001b[0m\u001b[37m\u001b[0m \u001b[1m1s\u001b[0m 15ms/step - loss: 0.0032 - mae: 0.0495 - val_loss: 0.0034 - val_mae: 0.0461\n",
            "Epoch 182/500\n",
            "\u001b[1m33/33\u001b[0m \u001b[32m━━━━━━━━━━━━━━━━━━━━\u001b[0m\u001b[37m\u001b[0m \u001b[1m1s\u001b[0m 16ms/step - loss: 0.0031 - mae: 0.0479 - val_loss: 0.0035 - val_mae: 0.0478\n",
            "Epoch 183/500\n",
            "\u001b[1m33/33\u001b[0m \u001b[32m━━━━━━━━━━━━━━━━━━━━\u001b[0m\u001b[37m\u001b[0m \u001b[1m1s\u001b[0m 15ms/step - loss: 0.0031 - mae: 0.0476 - val_loss: 0.0035 - val_mae: 0.0470\n",
            "Epoch 184/500\n",
            "\u001b[1m33/33\u001b[0m \u001b[32m━━━━━━━━━━━━━━━━━━━━\u001b[0m\u001b[37m\u001b[0m \u001b[1m1s\u001b[0m 16ms/step - loss: 0.0031 - mae: 0.0477 - val_loss: 0.0035 - val_mae: 0.0484\n",
            "Epoch 185/500\n",
            "\u001b[1m33/33\u001b[0m \u001b[32m━━━━━━━━━━━━━━━━━━━━\u001b[0m\u001b[37m\u001b[0m \u001b[1m1s\u001b[0m 16ms/step - loss: 0.0031 - mae: 0.0481 - val_loss: 0.0035 - val_mae: 0.0472\n",
            "Epoch 186/500\n",
            "\u001b[1m33/33\u001b[0m \u001b[32m━━━━━━━━━━━━━━━━━━━━\u001b[0m\u001b[37m\u001b[0m \u001b[1m1s\u001b[0m 16ms/step - loss: 0.0031 - mae: 0.0479 - val_loss: 0.0034 - val_mae: 0.0459\n",
            "Epoch 187/500\n",
            "\u001b[1m33/33\u001b[0m \u001b[32m━━━━━━━━━━━━━━━━━━━━\u001b[0m\u001b[37m\u001b[0m \u001b[1m1s\u001b[0m 16ms/step - loss: 0.0030 - mae: 0.0477 - val_loss: 0.0035 - val_mae: 0.0475\n",
            "Epoch 188/500\n",
            "\u001b[1m33/33\u001b[0m \u001b[32m━━━━━━━━━━━━━━━━━━━━\u001b[0m\u001b[37m\u001b[0m \u001b[1m1s\u001b[0m 16ms/step - loss: 0.0029 - mae: 0.0467 - val_loss: 0.0034 - val_mae: 0.0462\n",
            "Epoch 189/500\n",
            "\u001b[1m33/33\u001b[0m \u001b[32m━━━━━━━━━━━━━━━━━━━━\u001b[0m\u001b[37m\u001b[0m \u001b[1m1s\u001b[0m 18ms/step - loss: 0.0031 - mae: 0.0480 - val_loss: 0.0034 - val_mae: 0.0465\n",
            "Epoch 190/500\n",
            "\u001b[1m33/33\u001b[0m \u001b[32m━━━━━━━━━━━━━━━━━━━━\u001b[0m\u001b[37m\u001b[0m \u001b[1m1s\u001b[0m 15ms/step - loss: 0.0031 - mae: 0.0477 - val_loss: 0.0035 - val_mae: 0.0474\n",
            "Epoch 191/500\n",
            "\u001b[1m33/33\u001b[0m \u001b[32m━━━━━━━━━━━━━━━━━━━━\u001b[0m\u001b[37m\u001b[0m \u001b[1m1s\u001b[0m 16ms/step - loss: 0.0030 - mae: 0.0471 - val_loss: 0.0034 - val_mae: 0.0465\n",
            "Epoch 192/500\n",
            "\u001b[1m33/33\u001b[0m \u001b[32m━━━━━━━━━━━━━━━━━━━━\u001b[0m\u001b[37m\u001b[0m \u001b[1m1s\u001b[0m 16ms/step - loss: 0.0030 - mae: 0.0476 - val_loss: 0.0035 - val_mae: 0.0485\n",
            "Epoch 193/500\n",
            "\u001b[1m33/33\u001b[0m \u001b[32m━━━━━━━━━━━━━━━━━━━━\u001b[0m\u001b[37m\u001b[0m \u001b[1m1s\u001b[0m 23ms/step - loss: 0.0030 - mae: 0.0474 - val_loss: 0.0034 - val_mae: 0.0470\n",
            "Epoch 194/500\n",
            "\u001b[1m33/33\u001b[0m \u001b[32m━━━━━━━━━━━━━━━━━━━━\u001b[0m\u001b[37m\u001b[0m \u001b[1m1s\u001b[0m 23ms/step - loss: 0.0031 - mae: 0.0480 - val_loss: 0.0034 - val_mae: 0.0465\n",
            "Epoch 195/500\n",
            "\u001b[1m33/33\u001b[0m \u001b[32m━━━━━━━━━━━━━━━━━━━━\u001b[0m\u001b[37m\u001b[0m \u001b[1m1s\u001b[0m 28ms/step - loss: 0.0030 - mae: 0.0471 - val_loss: 0.0034 - val_mae: 0.0464\n",
            "Epoch 196/500\n",
            "\u001b[1m33/33\u001b[0m \u001b[32m━━━━━━━━━━━━━━━━━━━━\u001b[0m\u001b[37m\u001b[0m \u001b[1m1s\u001b[0m 15ms/step - loss: 0.0030 - mae: 0.0477 - val_loss: 0.0034 - val_mae: 0.0471\n",
            "Epoch 197/500\n",
            "\u001b[1m33/33\u001b[0m \u001b[32m━━━━━━━━━━━━━━━━━━━━\u001b[0m\u001b[37m\u001b[0m \u001b[1m1s\u001b[0m 15ms/step - loss: 0.0030 - mae: 0.0474 - val_loss: 0.0035 - val_mae: 0.0479\n",
            "Epoch 198/500\n",
            "\u001b[1m33/33\u001b[0m \u001b[32m━━━━━━━━━━━━━━━━━━━━\u001b[0m\u001b[37m\u001b[0m \u001b[1m1s\u001b[0m 15ms/step - loss: 0.0031 - mae: 0.0478 - val_loss: 0.0035 - val_mae: 0.0478\n",
            "Epoch 199/500\n",
            "\u001b[1m33/33\u001b[0m \u001b[32m━━━━━━━━━━━━━━━━━━━━\u001b[0m\u001b[37m\u001b[0m \u001b[1m1s\u001b[0m 15ms/step - loss: 0.0030 - mae: 0.0466 - val_loss: 0.0035 - val_mae: 0.0483\n",
            "Epoch 200/500\n",
            "\u001b[1m33/33\u001b[0m \u001b[32m━━━━━━━━━━━━━━━━━━━━\u001b[0m\u001b[37m\u001b[0m \u001b[1m1s\u001b[0m 17ms/step - loss: 0.0031 - mae: 0.0471 - val_loss: 0.0036 - val_mae: 0.0490\n",
            "Epoch 201/500\n",
            "\u001b[1m33/33\u001b[0m \u001b[32m━━━━━━━━━━━━━━━━━━━━\u001b[0m\u001b[37m\u001b[0m \u001b[1m1s\u001b[0m 16ms/step - loss: 0.0030 - mae: 0.0466 - val_loss: 0.0035 - val_mae: 0.0480\n",
            "Epoch 202/500\n",
            "\u001b[1m33/33\u001b[0m \u001b[32m━━━━━━━━━━━━━━━━━━━━\u001b[0m\u001b[37m\u001b[0m \u001b[1m1s\u001b[0m 16ms/step - loss: 0.0029 - mae: 0.0460 - val_loss: 0.0035 - val_mae: 0.0481\n",
            "Epoch 203/500\n",
            "\u001b[1m33/33\u001b[0m \u001b[32m━━━━━━━━━━━━━━━━━━━━\u001b[0m\u001b[37m\u001b[0m \u001b[1m1s\u001b[0m 16ms/step - loss: 0.0030 - mae: 0.0464 - val_loss: 0.0035 - val_mae: 0.0474\n",
            "Epoch 204/500\n",
            "\u001b[1m33/33\u001b[0m \u001b[32m━━━━━━━━━━━━━━━━━━━━\u001b[0m\u001b[37m\u001b[0m \u001b[1m1s\u001b[0m 17ms/step - loss: 0.0030 - mae: 0.0467 - val_loss: 0.0035 - val_mae: 0.0477\n",
            "Epoch 205/500\n",
            "\u001b[1m33/33\u001b[0m \u001b[32m━━━━━━━━━━━━━━━━━━━━\u001b[0m\u001b[37m\u001b[0m \u001b[1m1s\u001b[0m 16ms/step - loss: 0.0030 - mae: 0.0466 - val_loss: 0.0035 - val_mae: 0.0483\n",
            "Epoch 206/500\n",
            "\u001b[1m33/33\u001b[0m \u001b[32m━━━━━━━━━━━━━━━━━━━━\u001b[0m\u001b[37m\u001b[0m \u001b[1m1s\u001b[0m 16ms/step - loss: 0.0030 - mae: 0.0467 - val_loss: 0.0034 - val_mae: 0.0470\n",
            "Epoch 207/500\n",
            "\u001b[1m33/33\u001b[0m \u001b[32m━━━━━━━━━━━━━━━━━━━━\u001b[0m\u001b[37m\u001b[0m \u001b[1m1s\u001b[0m 16ms/step - loss: 0.0030 - mae: 0.0466 - val_loss: 0.0036 - val_mae: 0.0499\n",
            "Epoch 208/500\n",
            "\u001b[1m33/33\u001b[0m \u001b[32m━━━━━━━━━━━━━━━━━━━━\u001b[0m\u001b[37m\u001b[0m \u001b[1m1s\u001b[0m 16ms/step - loss: 0.0030 - mae: 0.0472 - val_loss: 0.0036 - val_mae: 0.0497\n",
            "Epoch 209/500\n",
            "\u001b[1m33/33\u001b[0m \u001b[32m━━━━━━━━━━━━━━━━━━━━\u001b[0m\u001b[37m\u001b[0m \u001b[1m1s\u001b[0m 16ms/step - loss: 0.0029 - mae: 0.0459 - val_loss: 0.0035 - val_mae: 0.0472\n",
            "Epoch 210/500\n",
            "\u001b[1m33/33\u001b[0m \u001b[32m━━━━━━━━━━━━━━━━━━━━\u001b[0m\u001b[37m\u001b[0m \u001b[1m1s\u001b[0m 26ms/step - loss: 0.0029 - mae: 0.0463 - val_loss: 0.0036 - val_mae: 0.0494\n",
            "Epoch 211/500\n",
            "\u001b[1m33/33\u001b[0m \u001b[32m━━━━━━━━━━━━━━━━━━━━\u001b[0m\u001b[37m\u001b[0m \u001b[1m1s\u001b[0m 25ms/step - loss: 0.0031 - mae: 0.0478 - val_loss: 0.0036 - val_mae: 0.0492\n",
            "Epoch 212/500\n",
            "\u001b[1m33/33\u001b[0m \u001b[32m━━━━━━━━━━━━━━━━━━━━\u001b[0m\u001b[37m\u001b[0m \u001b[1m1s\u001b[0m 26ms/step - loss: 0.0030 - mae: 0.0465 - val_loss: 0.0035 - val_mae: 0.0477\n",
            "Epoch 213/500\n",
            "\u001b[1m33/33\u001b[0m \u001b[32m━━━━━━━━━━━━━━━━━━━━\u001b[0m\u001b[37m\u001b[0m \u001b[1m1s\u001b[0m 16ms/step - loss: 0.0030 - mae: 0.0469 - val_loss: 0.0035 - val_mae: 0.0484\n",
            "Epoch 214/500\n",
            "\u001b[1m33/33\u001b[0m \u001b[32m━━━━━━━━━━━━━━━━━━━━\u001b[0m\u001b[37m\u001b[0m \u001b[1m1s\u001b[0m 16ms/step - loss: 0.0030 - mae: 0.0469 - val_loss: 0.0035 - val_mae: 0.0486\n",
            "Epoch 215/500\n",
            "\u001b[1m33/33\u001b[0m \u001b[32m━━━━━━━━━━━━━━━━━━━━\u001b[0m\u001b[37m\u001b[0m \u001b[1m1s\u001b[0m 15ms/step - loss: 0.0029 - mae: 0.0462 - val_loss: 0.0034 - val_mae: 0.0470\n",
            "Epoch 216/500\n",
            "\u001b[1m33/33\u001b[0m \u001b[32m━━━━━━━━━━━━━━━━━━━━\u001b[0m\u001b[37m\u001b[0m \u001b[1m1s\u001b[0m 17ms/step - loss: 0.0029 - mae: 0.0466 - val_loss: 0.0034 - val_mae: 0.0469\n",
            "Epoch 217/500\n",
            "\u001b[1m33/33\u001b[0m \u001b[32m━━━━━━━━━━━━━━━━━━━━\u001b[0m\u001b[37m\u001b[0m \u001b[1m1s\u001b[0m 15ms/step - loss: 0.0031 - mae: 0.0478 - val_loss: 0.0035 - val_mae: 0.0490\n",
            "Epoch 218/500\n",
            "\u001b[1m33/33\u001b[0m \u001b[32m━━━━━━━━━━━━━━━━━━━━\u001b[0m\u001b[37m\u001b[0m \u001b[1m1s\u001b[0m 17ms/step - loss: 0.0031 - mae: 0.0483 - val_loss: 0.0034 - val_mae: 0.0461\n",
            "Epoch 219/500\n",
            "\u001b[1m33/33\u001b[0m \u001b[32m━━━━━━━━━━━━━━━━━━━━\u001b[0m\u001b[37m\u001b[0m \u001b[1m1s\u001b[0m 16ms/step - loss: 0.0031 - mae: 0.0488 - val_loss: 0.0035 - val_mae: 0.0489\n",
            "Epoch 220/500\n",
            "\u001b[1m33/33\u001b[0m \u001b[32m━━━━━━━━━━━━━━━━━━━━\u001b[0m\u001b[37m\u001b[0m \u001b[1m1s\u001b[0m 15ms/step - loss: 0.0031 - mae: 0.0483 - val_loss: 0.0034 - val_mae: 0.0460\n",
            "Epoch 221/500\n",
            "\u001b[1m33/33\u001b[0m \u001b[32m━━━━━━━━━━━━━━━━━━━━\u001b[0m\u001b[37m\u001b[0m \u001b[1m1s\u001b[0m 16ms/step - loss: 0.0031 - mae: 0.0485 - val_loss: 0.0033 - val_mae: 0.0457\n",
            "Epoch 222/500\n",
            "\u001b[1m33/33\u001b[0m \u001b[32m━━━━━━━━━━━━━━━━━━━━\u001b[0m\u001b[37m\u001b[0m \u001b[1m1s\u001b[0m 15ms/step - loss: 0.0031 - mae: 0.0483 - val_loss: 0.0033 - val_mae: 0.0460\n",
            "Epoch 223/500\n",
            "\u001b[1m33/33\u001b[0m \u001b[32m━━━━━━━━━━━━━━━━━━━━\u001b[0m\u001b[37m\u001b[0m \u001b[1m1s\u001b[0m 17ms/step - loss: 0.0030 - mae: 0.0483 - val_loss: 0.0034 - val_mae: 0.0460\n",
            "Epoch 224/500\n",
            "\u001b[1m33/33\u001b[0m \u001b[32m━━━━━━━━━━━━━━━━━━━━\u001b[0m\u001b[37m\u001b[0m \u001b[1m1s\u001b[0m 16ms/step - loss: 0.0029 - mae: 0.0465 - val_loss: 0.0034 - val_mae: 0.0460\n",
            "Epoch 225/500\n",
            "\u001b[1m33/33\u001b[0m \u001b[32m━━━━━━━━━━━━━━━━━━━━\u001b[0m\u001b[37m\u001b[0m \u001b[1m1s\u001b[0m 15ms/step - loss: 0.0031 - mae: 0.0482 - val_loss: 0.0034 - val_mae: 0.0468\n",
            "Epoch 226/500\n",
            "\u001b[1m33/33\u001b[0m \u001b[32m━━━━━━━━━━━━━━━━━━━━\u001b[0m\u001b[37m\u001b[0m \u001b[1m1s\u001b[0m 15ms/step - loss: 0.0030 - mae: 0.0468 - val_loss: 0.0034 - val_mae: 0.0458\n",
            "Epoch 227/500\n",
            "\u001b[1m33/33\u001b[0m \u001b[32m━━━━━━━━━━━━━━━━━━━━\u001b[0m\u001b[37m\u001b[0m \u001b[1m1s\u001b[0m 15ms/step - loss: 0.0030 - mae: 0.0471 - val_loss: 0.0034 - val_mae: 0.0467\n",
            "Epoch 228/500\n",
            "\u001b[1m33/33\u001b[0m \u001b[32m━━━━━━━━━━━━━━━━━━━━\u001b[0m\u001b[37m\u001b[0m \u001b[1m1s\u001b[0m 26ms/step - loss: 0.0030 - mae: 0.0469 - val_loss: 0.0034 - val_mae: 0.0465\n",
            "Epoch 229/500\n",
            "\u001b[1m33/33\u001b[0m \u001b[32m━━━━━━━━━━━━━━━━━━━━\u001b[0m\u001b[37m\u001b[0m \u001b[1m1s\u001b[0m 25ms/step - loss: 0.0030 - mae: 0.0470 - val_loss: 0.0036 - val_mae: 0.0506\n",
            "Epoch 230/500\n",
            "\u001b[1m33/33\u001b[0m \u001b[32m━━━━━━━━━━━━━━━━━━━━\u001b[0m\u001b[37m\u001b[0m \u001b[1m1s\u001b[0m 29ms/step - loss: 0.0030 - mae: 0.0476 - val_loss: 0.0033 - val_mae: 0.0460\n",
            "Epoch 231/500\n",
            "\u001b[1m33/33\u001b[0m \u001b[32m━━━━━━━━━━━━━━━━━━━━\u001b[0m\u001b[37m\u001b[0m \u001b[1m1s\u001b[0m 19ms/step - loss: 0.0031 - mae: 0.0485 - val_loss: 0.0034 - val_mae: 0.0460\n",
            "Epoch 232/500\n",
            "\u001b[1m33/33\u001b[0m \u001b[32m━━━━━━━━━━━━━━━━━━━━\u001b[0m\u001b[37m\u001b[0m \u001b[1m1s\u001b[0m 17ms/step - loss: 0.0030 - mae: 0.0475 - val_loss: 0.0035 - val_mae: 0.0479\n",
            "Epoch 233/500\n",
            "\u001b[1m33/33\u001b[0m \u001b[32m━━━━━━━━━━━━━━━━━━━━\u001b[0m\u001b[37m\u001b[0m \u001b[1m1s\u001b[0m 16ms/step - loss: 0.0030 - mae: 0.0471 - val_loss: 0.0034 - val_mae: 0.0470\n",
            "Epoch 234/500\n",
            "\u001b[1m33/33\u001b[0m \u001b[32m━━━━━━━━━━━━━━━━━━━━\u001b[0m\u001b[37m\u001b[0m \u001b[1m1s\u001b[0m 15ms/step - loss: 0.0030 - mae: 0.0469 - val_loss: 0.0034 - val_mae: 0.0460\n",
            "Epoch 235/500\n",
            "\u001b[1m33/33\u001b[0m \u001b[32m━━━━━━━━━━━━━━━━━━━━\u001b[0m\u001b[37m\u001b[0m \u001b[1m1s\u001b[0m 16ms/step - loss: 0.0030 - mae: 0.0476 - val_loss: 0.0034 - val_mae: 0.0469\n",
            "Epoch 236/500\n",
            "\u001b[1m33/33\u001b[0m \u001b[32m━━━━━━━━━━━━━━━━━━━━\u001b[0m\u001b[37m\u001b[0m \u001b[1m1s\u001b[0m 15ms/step - loss: 0.0029 - mae: 0.0460 - val_loss: 0.0034 - val_mae: 0.0461\n",
            "Epoch 237/500\n",
            "\u001b[1m33/33\u001b[0m \u001b[32m━━━━━━━━━━━━━━━━━━━━\u001b[0m\u001b[37m\u001b[0m \u001b[1m1s\u001b[0m 18ms/step - loss: 0.0030 - mae: 0.0476 - val_loss: 0.0035 - val_mae: 0.0476\n",
            "Epoch 238/500\n",
            "\u001b[1m33/33\u001b[0m \u001b[32m━━━━━━━━━━━━━━━━━━━━\u001b[0m\u001b[37m\u001b[0m \u001b[1m1s\u001b[0m 15ms/step - loss: 0.0030 - mae: 0.0469 - val_loss: 0.0034 - val_mae: 0.0465\n",
            "Epoch 239/500\n",
            "\u001b[1m33/33\u001b[0m \u001b[32m━━━━━━━━━━━━━━━━━━━━\u001b[0m\u001b[37m\u001b[0m \u001b[1m1s\u001b[0m 17ms/step - loss: 0.0031 - mae: 0.0480 - val_loss: 0.0034 - val_mae: 0.0469\n",
            "Epoch 240/500\n",
            "\u001b[1m33/33\u001b[0m \u001b[32m━━━━━━━━━━━━━━━━━━━━\u001b[0m\u001b[37m\u001b[0m \u001b[1m1s\u001b[0m 16ms/step - loss: 0.0031 - mae: 0.0475 - val_loss: 0.0034 - val_mae: 0.0463\n",
            "Epoch 241/500\n",
            "\u001b[1m33/33\u001b[0m \u001b[32m━━━━━━━━━━━━━━━━━━━━\u001b[0m\u001b[37m\u001b[0m \u001b[1m1s\u001b[0m 16ms/step - loss: 0.0030 - mae: 0.0467 - val_loss: 0.0035 - val_mae: 0.0482\n",
            "Epoch 242/500\n",
            "\u001b[1m33/33\u001b[0m \u001b[32m━━━━━━━━━━━━━━━━━━━━\u001b[0m\u001b[37m\u001b[0m \u001b[1m1s\u001b[0m 15ms/step - loss: 0.0029 - mae: 0.0463 - val_loss: 0.0036 - val_mae: 0.0495\n",
            "Epoch 243/500\n",
            "\u001b[1m33/33\u001b[0m \u001b[32m━━━━━━━━━━━━━━━━━━━━\u001b[0m\u001b[37m\u001b[0m \u001b[1m1s\u001b[0m 16ms/step - loss: 0.0029 - mae: 0.0465 - val_loss: 0.0034 - val_mae: 0.0463\n",
            "Epoch 244/500\n",
            "\u001b[1m33/33\u001b[0m \u001b[32m━━━━━━━━━━━━━━━━━━━━\u001b[0m\u001b[37m\u001b[0m \u001b[1m1s\u001b[0m 22ms/step - loss: 0.0030 - mae: 0.0472 - val_loss: 0.0035 - val_mae: 0.0480\n",
            "Epoch 245/500\n",
            "\u001b[1m33/33\u001b[0m \u001b[32m━━━━━━━━━━━━━━━━━━━━\u001b[0m\u001b[37m\u001b[0m \u001b[1m1s\u001b[0m 23ms/step - loss: 0.0029 - mae: 0.0461 - val_loss: 0.0035 - val_mae: 0.0482\n",
            "Epoch 246/500\n",
            "\u001b[1m33/33\u001b[0m \u001b[32m━━━━━━━━━━━━━━━━━━━━\u001b[0m\u001b[37m\u001b[0m \u001b[1m1s\u001b[0m 25ms/step - loss: 0.0030 - mae: 0.0463 - val_loss: 0.0035 - val_mae: 0.0477\n",
            "Epoch 247/500\n",
            "\u001b[1m33/33\u001b[0m \u001b[32m━━━━━━━━━━━━━━━━━━━━\u001b[0m\u001b[37m\u001b[0m \u001b[1m1s\u001b[0m 26ms/step - loss: 0.0030 - mae: 0.0467 - val_loss: 0.0034 - val_mae: 0.0463\n",
            "Epoch 248/500\n",
            "\u001b[1m33/33\u001b[0m \u001b[32m━━━━━━━━━━━━━━━━━━━━\u001b[0m\u001b[37m\u001b[0m \u001b[1m1s\u001b[0m 28ms/step - loss: 0.0029 - mae: 0.0457 - val_loss: 0.0035 - val_mae: 0.0476\n",
            "Epoch 249/500\n",
            "\u001b[1m33/33\u001b[0m \u001b[32m━━━━━━━━━━━━━━━━━━━━\u001b[0m\u001b[37m\u001b[0m \u001b[1m1s\u001b[0m 16ms/step - loss: 0.0029 - mae: 0.0458 - val_loss: 0.0035 - val_mae: 0.0476\n",
            "Epoch 250/500\n",
            "\u001b[1m33/33\u001b[0m \u001b[32m━━━━━━━━━━━━━━━━━━━━\u001b[0m\u001b[37m\u001b[0m \u001b[1m2s\u001b[0m 21ms/step - loss: 0.0030 - mae: 0.0464 - val_loss: 0.0034 - val_mae: 0.0463\n",
            "Epoch 251/500\n",
            "\u001b[1m33/33\u001b[0m \u001b[32m━━━━━━━━━━━━━━━━━━━━\u001b[0m\u001b[37m\u001b[0m \u001b[1m1s\u001b[0m 16ms/step - loss: 0.0030 - mae: 0.0469 - val_loss: 0.0034 - val_mae: 0.0464\n",
            "Epoch 252/500\n",
            "\u001b[1m33/33\u001b[0m \u001b[32m━━━━━━━━━━━━━━━━━━━━\u001b[0m\u001b[37m\u001b[0m \u001b[1m1s\u001b[0m 16ms/step - loss: 0.0030 - mae: 0.0479 - val_loss: 0.0034 - val_mae: 0.0473\n",
            "Epoch 253/500\n",
            "\u001b[1m33/33\u001b[0m \u001b[32m━━━━━━━━━━━━━━━━━━━━\u001b[0m\u001b[37m\u001b[0m \u001b[1m1s\u001b[0m 16ms/step - loss: 0.0030 - mae: 0.0480 - val_loss: 0.0034 - val_mae: 0.0463\n",
            "Epoch 254/500\n",
            "\u001b[1m33/33\u001b[0m \u001b[32m━━━━━━━━━━━━━━━━━━━━\u001b[0m\u001b[37m\u001b[0m \u001b[1m1s\u001b[0m 15ms/step - loss: 0.0030 - mae: 0.0473 - val_loss: 0.0034 - val_mae: 0.0468\n",
            "Epoch 255/500\n",
            "\u001b[1m33/33\u001b[0m \u001b[32m━━━━━━━━━━━━━━━━━━━━\u001b[0m\u001b[37m\u001b[0m \u001b[1m1s\u001b[0m 15ms/step - loss: 0.0029 - mae: 0.0468 - val_loss: 0.0034 - val_mae: 0.0465\n",
            "Epoch 256/500\n",
            "\u001b[1m33/33\u001b[0m \u001b[32m━━━━━━━━━━━━━━━━━━━━\u001b[0m\u001b[37m\u001b[0m \u001b[1m1s\u001b[0m 16ms/step - loss: 0.0030 - mae: 0.0482 - val_loss: 0.0034 - val_mae: 0.0465\n",
            "Epoch 257/500\n",
            "\u001b[1m33/33\u001b[0m \u001b[32m━━━━━━━━━━━━━━━━━━━━\u001b[0m\u001b[37m\u001b[0m \u001b[1m1s\u001b[0m 16ms/step - loss: 0.0029 - mae: 0.0456 - val_loss: 0.0034 - val_mae: 0.0470\n",
            "Epoch 258/500\n",
            "\u001b[1m33/33\u001b[0m \u001b[32m━━━━━━━━━━━━━━━━━━━━\u001b[0m\u001b[37m\u001b[0m \u001b[1m1s\u001b[0m 16ms/step - loss: 0.0030 - mae: 0.0474 - val_loss: 0.0035 - val_mae: 0.0481\n",
            "Epoch 259/500\n",
            "\u001b[1m33/33\u001b[0m \u001b[32m━━━━━━━━━━━━━━━━━━━━\u001b[0m\u001b[37m\u001b[0m \u001b[1m1s\u001b[0m 23ms/step - loss: 0.0029 - mae: 0.0459 - val_loss: 0.0035 - val_mae: 0.0482\n",
            "Epoch 260/500\n",
            "\u001b[1m33/33\u001b[0m \u001b[32m━━━━━━━━━━━━━━━━━━━━\u001b[0m\u001b[37m\u001b[0m \u001b[1m1s\u001b[0m 17ms/step - loss: 0.0029 - mae: 0.0454 - val_loss: 0.0035 - val_mae: 0.0480\n",
            "Epoch 261/500\n",
            "\u001b[1m33/33\u001b[0m \u001b[32m━━━━━━━━━━━━━━━━━━━━\u001b[0m\u001b[37m\u001b[0m \u001b[1m1s\u001b[0m 24ms/step - loss: 0.0029 - mae: 0.0467 - val_loss: 0.0034 - val_mae: 0.0468\n",
            "Epoch 262/500\n",
            "\u001b[1m33/33\u001b[0m \u001b[32m━━━━━━━━━━━━━━━━━━━━\u001b[0m\u001b[37m\u001b[0m \u001b[1m1s\u001b[0m 25ms/step - loss: 0.0030 - mae: 0.0468 - val_loss: 0.0035 - val_mae: 0.0485\n",
            "Epoch 263/500\n",
            "\u001b[1m33/33\u001b[0m \u001b[32m━━━━━━━━━━━━━━━━━━━━\u001b[0m\u001b[37m\u001b[0m \u001b[1m1s\u001b[0m 28ms/step - loss: 0.0030 - mae: 0.0467 - val_loss: 0.0034 - val_mae: 0.0462\n",
            "Epoch 264/500\n",
            "\u001b[1m33/33\u001b[0m \u001b[32m━━━━━━━━━━━━━━━━━━━━\u001b[0m\u001b[37m\u001b[0m \u001b[1m1s\u001b[0m 21ms/step - loss: 0.0030 - mae: 0.0466 - val_loss: 0.0035 - val_mae: 0.0476\n",
            "Epoch 265/500\n",
            "\u001b[1m33/33\u001b[0m \u001b[32m━━━━━━━━━━━━━━━━━━━━\u001b[0m\u001b[37m\u001b[0m \u001b[1m1s\u001b[0m 16ms/step - loss: 0.0030 - mae: 0.0463 - val_loss: 0.0034 - val_mae: 0.0468\n",
            "Epoch 266/500\n",
            "\u001b[1m33/33\u001b[0m \u001b[32m━━━━━━━━━━━━━━━━━━━━\u001b[0m\u001b[37m\u001b[0m \u001b[1m1s\u001b[0m 15ms/step - loss: 0.0030 - mae: 0.0467 - val_loss: 0.0035 - val_mae: 0.0475\n",
            "Epoch 267/500\n",
            "\u001b[1m33/33\u001b[0m \u001b[32m━━━━━━━━━━━━━━━━━━━━\u001b[0m\u001b[37m\u001b[0m \u001b[1m1s\u001b[0m 16ms/step - loss: 0.0029 - mae: 0.0463 - val_loss: 0.0034 - val_mae: 0.0470\n",
            "Epoch 268/500\n",
            "\u001b[1m33/33\u001b[0m \u001b[32m━━━━━━━━━━━━━━━━━━━━\u001b[0m\u001b[37m\u001b[0m \u001b[1m1s\u001b[0m 15ms/step - loss: 0.0029 - mae: 0.0458 - val_loss: 0.0034 - val_mae: 0.0463\n",
            "Epoch 269/500\n",
            "\u001b[1m33/33\u001b[0m \u001b[32m━━━━━━━━━━━━━━━━━━━━\u001b[0m\u001b[37m\u001b[0m \u001b[1m1s\u001b[0m 17ms/step - loss: 0.0029 - mae: 0.0461 - val_loss: 0.0035 - val_mae: 0.0473\n",
            "Epoch 270/500\n",
            "\u001b[1m33/33\u001b[0m \u001b[32m━━━━━━━━━━━━━━━━━━━━\u001b[0m\u001b[37m\u001b[0m \u001b[1m1s\u001b[0m 16ms/step - loss: 0.0027 - mae: 0.0442 - val_loss: 0.0035 - val_mae: 0.0484\n",
            "Epoch 271/500\n",
            "\u001b[1m33/33\u001b[0m \u001b[32m━━━━━━━━━━━━━━━━━━━━\u001b[0m\u001b[37m\u001b[0m \u001b[1m1s\u001b[0m 16ms/step - loss: 0.0029 - mae: 0.0462 - val_loss: 0.0036 - val_mae: 0.0494\n",
            "\u001b[1m3/3\u001b[0m \u001b[32m━━━━━━━━━━━━━━━━━━━━\u001b[0m\u001b[37m\u001b[0m \u001b[1m0s\u001b[0m 12ms/step - loss: 0.0042 - mae: 0.0501\n"
          ]
        },
        {
          "data": {
            "text/plain": [
              "45670.7589328289"
            ]
          },
          "execution_count": 36,
          "metadata": {},
          "output_type": "execute_result"
        }
      ],
      "source": [
        "%%time\n",
        "fit_and_evaluate(seq2seq_model, seq2seq_train, seq2seq_valid,\n",
        "                 learning_rate=0.1)"
      ]
    },
    {
      "cell_type": "code",
      "execution_count": null,
      "metadata": {
        "id": "opPsujM3omQH"
      },
      "outputs": [],
      "source": [
        "seq2seq_model.save('/content/drive/MyDrive/Colab Notebooks/seq2seq.keras')"
      ]
    },
    {
      "cell_type": "markdown",
      "metadata": {
        "id": "6MdwijOrrUQm"
      },
      "source": [
        "### Inference\n",
        "\n",
        "Remember that for each time, the model produces 14 predictions in the future.\n",
        "\n",
        "Below, `X.shape=(1, 56, 5)`. When using `X` for predictions, we get a tensor of shape `(1, 56, 14)`, i.e. 14 predictions at each of the 56 time steps."
      ]
    },
    {
      "cell_type": "code",
      "execution_count": null,
      "metadata": {
        "id": "HjmpyRFgC8Zh"
      },
      "outputs": [],
      "source": [
        "X = mulvar_valid.to_numpy()[np.newaxis, :seq_length]\n",
        "y_pred_14 = seq2seq_model.predict(X, verbose=0)[0, -1]  # only the last time step's output"
      ]
    },
    {
      "cell_type": "markdown",
      "metadata": {
        "id": "rZKM6lwztS__"
      },
      "source": [
        "This is the prediction for the last time step."
      ]
    },
    {
      "cell_type": "code",
      "execution_count": null,
      "metadata": {
        "colab": {
          "base_uri": "https://localhost:8080/",
          "height": 404
        },
        "id": "jKET1ws4rVby",
        "outputId": "37744a79-88e1-4eb2-d0eb-d3ef3e5b6fb1"
      },
      "outputs": [
        {
          "data": {
            "text/plain": [
              "<Axes: xlabel='date'>"
            ]
          },
          "execution_count": 53,
          "metadata": {},
          "output_type": "execute_result"
        },
        {
          "data": {
            "image/png": "[encoded data removed]",
            "text/plain": [
              "<Figure size 800x350 with 1 Axes>"
            ]
          },
          "metadata": {},
          "output_type": "display_data"
        }
      ],
      "source": [
        "fig, ax = plt.subplots(figsize=(8, 3.5))\n",
        "pd.Series(y_pred_14,index=mulvar_valid.index[seq_length+1:seq_length+1+14]).plot(marker='.',ax=ax)"
      ]
    },
    {
      "cell_type": "code",
      "execution_count": null,
      "metadata": {
        "colab": {
          "base_uri": "https://localhost:8080/"
        },
        "id": "zqgVosI23H2r",
        "outputId": "18f1052c-1182-4cd2-a2d2-fd92ad439507"
      },
      "outputs": [
        {
          "data": {
            "text/plain": [
              "151"
            ]
          },
          "execution_count": 62,
          "metadata": {},
          "output_type": "execute_result"
        }
      ],
      "source": [
        "rail_valid.size"
      ]
    },
    {
      "cell_type": "code",
      "execution_count": null,
      "metadata": {
        "colab": {
          "base_uri": "https://localhost:8080/"
        },
        "id": "KofeBd013O4v",
        "outputId": "119a3253-0857-40a7-e900-3965440e7e2a"
      },
      "outputs": [
        {
          "data": {
            "text/plain": [
              "152"
            ]
          },
          "execution_count": 63,
          "metadata": {},
          "output_type": "execute_result"
        }
      ],
      "source": [
        "82+56+14"
      ]
    },
    {
      "cell_type": "code",
      "execution_count": null,
      "metadata": {
        "colab": {
          "base_uri": "https://localhost:8080/"
        },
        "id": "E8MQznOm2_-N",
        "outputId": "25e58960-ab24-4fca-a51b-ddd8ecf506c1"
      },
      "outputs": [
        {
          "data": {
            "text/plain": [
              "(82, 56, 14)"
            ]
          },
          "execution_count": 60,
          "metadata": {},
          "output_type": "execute_result"
        }
      ],
      "source": [
        "Y_pred_valid.shape"
      ]
    },
    {
      "cell_type": "markdown",
      "metadata": {
        "id": "iiQSWsM56H4Y"
      },
      "source": [
        "<div class=\"alert alert-warning\"><h4>ISSUE</h4><p>\n",
        "I did not quite get what is happening down here. I generated a sequence of plots with predictions at every step of the loop, but still not clear.\n",
        "</p></div>"
      ]
    },
    {
      "cell_type": "code",
      "execution_count": null,
      "metadata": {
        "colab": {
          "base_uri": "https://localhost:8080/",
          "height": 547
        },
        "id": "jbO-doYwC8Zh",
        "outputId": "45cfdf8a-e8d4-4bd2-9fe8-fb63dfe2f586"
      },
      "outputs": [
        {
          "name": "stderr",
          "output_type": "stream",
          "text": [
            "/usr/lib/python3.11/contextlib.py:158: UserWarning: Your input ran out of data; interrupting training. Make sure that your dataset or generator can generate at least `steps_per_epoch * epochs` batches. You may need to use the `.repeat()` function when building your dataset.\n",
            "  self.gen.throw(typ, value, traceback)\n"
          ]
        },
        {
          "name": "stdout",
          "output_type": "stream",
          "text": [
            "MAE for +1: 23,688\n",
            "MAE for +2: 27,065\n",
            "MAE for +3: 30,316\n",
            "MAE for +4: 32,893\n",
            "MAE for +5: 32,842\n",
            "MAE for +6: 32,764\n",
            "MAE for +7: 32,786\n",
            "MAE for +8: 34,412\n",
            "MAE for +9: 31,182\n",
            "MAE for +10: 32,578\n",
            "MAE for +11: 36,140\n",
            "MAE for +12: 36,371\n",
            "MAE for +13: 37,622\n",
            "MAE for +14: 33,889\n"
          ]
        },
        {
          "data": {
            "text/plain": [
              "<Figure size 800x350 with 0 Axes>"
            ]
          },
          "metadata": {},
          "output_type": "display_data"
        },
        {
          "data": {
            "text/plain": [
              "<Figure size 800x350 with 0 Axes>"
            ]
          },
          "metadata": {},
          "output_type": "display_data"
        },
        {
          "data": {
            "text/plain": [
              "<Figure size 800x350 with 0 Axes>"
            ]
          },
          "metadata": {},
          "output_type": "display_data"
        },
        {
          "data": {
            "text/plain": [
              "<Figure size 800x350 with 0 Axes>"
            ]
          },
          "metadata": {},
          "output_type": "display_data"
        },
        {
          "data": {
            "text/plain": [
              "<Figure size 800x350 with 0 Axes>"
            ]
          },
          "metadata": {},
          "output_type": "display_data"
        },
        {
          "data": {
            "text/plain": [
              "<Figure size 800x350 with 0 Axes>"
            ]
          },
          "metadata": {},
          "output_type": "display_data"
        },
        {
          "data": {
            "text/plain": [
              "<Figure size 800x350 with 0 Axes>"
            ]
          },
          "metadata": {},
          "output_type": "display_data"
        },
        {
          "data": {
            "text/plain": [
              "<Figure size 800x350 with 0 Axes>"
            ]
          },
          "metadata": {},
          "output_type": "display_data"
        },
        {
          "data": {
            "text/plain": [
              "<Figure size 800x350 with 0 Axes>"
            ]
          },
          "metadata": {},
          "output_type": "display_data"
        },
        {
          "data": {
            "text/plain": [
              "<Figure size 800x350 with 0 Axes>"
            ]
          },
          "metadata": {},
          "output_type": "display_data"
        },
        {
          "data": {
            "text/plain": [
              "<Figure size 800x350 with 0 Axes>"
            ]
          },
          "metadata": {},
          "output_type": "display_data"
        },
        {
          "data": {
            "text/plain": [
              "<Figure size 800x350 with 0 Axes>"
            ]
          },
          "metadata": {},
          "output_type": "display_data"
        },
        {
          "data": {
            "text/plain": [
              "<Figure size 800x350 with 0 Axes>"
            ]
          },
          "metadata": {},
          "output_type": "display_data"
        },
        {
          "data": {
            "text/plain": [
              "<Figure size 800x350 with 0 Axes>"
            ]
          },
          "metadata": {},
          "output_type": "display_data"
        }
      ],
      "source": [
        "Y_pred_valid = seq2seq_model.predict(seq2seq_valid, verbose=0)\n",
        "for ahead in range(14):\n",
        "    preds = pd.Series(Y_pred_valid[:-1, -1, ahead],\n",
        "                      index=mulvar_valid.index[56 + ahead : -14 + ahead])\n",
        "    mae = (preds - mulvar_valid[\"rail\"]).abs().mean() * 1e6\n",
        "    print(f\"MAE for +{ahead + 1}: {mae:,.0f}\")\n",
        "\n",
        "    fig, ax = plt.subplots(figsize=(8, 3.5))\n",
        "    preds.plot(marker='.',ax=ax, label='Data')\n",
        "    mulvar_valid[\"rail\"].plot(marker='.',ax=ax, label='Model')\n",
        "    plt.savefig('/content/drive/MyDrive/Colab Notebooks/plot-'+str(ahead)+'.png', dpi=300)\n",
        "    plt.clf()"
      ]
    },
    {
      "cell_type": "markdown",
      "metadata": {
        "id": "vhkQ35ngAHOO"
      },
      "source": [
        "# Uncertainty band"
      ]
    },
    {
      "cell_type": "markdown",
      "metadata": {
        "id": "yvYPhoKwAHOO"
      },
      "source": [
        "When forecasting time series, it is often useful to have some error\n",
        "bars along with your predictions. For this, one approach is to use\n",
        "MC dropout, introduced in Chapter 11: use `recurrent_dropout`\n",
        "during training, then keep dropout active at inference time by\n",
        "calling the model using `model(X, training=True)`. Repeat this\n",
        "several times to get multiple slightly different forecasts, then compute the mean and standard deviation of these predictions for each\n",
        "time step.\n",
        "\n",
        "Train with `recurrent_dropout`."
      ]
    },
    {
      "cell_type": "code",
      "execution_count": null,
      "metadata": {
        "colab": {
          "base_uri": "https://localhost:8080/"
        },
        "id": "Stm7CZpbqLW5",
        "outputId": "6c313de9-900a-4a23-962b-d55f9cfaaadd"
      },
      "outputs": [
        {
          "name": "stdout",
          "output_type": "stream",
          "text": [
            "CPU times: user 34.4 ms, sys: 1.91 ms, total: 36.3 ms\n",
            "Wall time: 40.7 ms\n"
          ]
        }
      ],
      "source": [
        "%%time\n",
        "if in_colab:\n",
        "    model_file='/content/drive/MyDrive/Colab Notebooks/models/ahead_errors.keras'\n",
        "else:\n",
        "    model_file=Path() / \"models\" / \"ahead_errors.keras\"\n",
        "\n",
        "if not os.path.exists(model_file): # train\n",
        "    tf.random.set_seed(42)\n",
        "\n",
        "    ahead_errors = tf.keras.Sequential([\n",
        "      tf.keras.layers.SimpleRNN(32, input_shape=[None, 5], recurrent_dropout=0.2), # <=======\n",
        "      tf.keras.layers.Dense(14)\n",
        "    ])\n",
        "\n",
        "    # extra code – compiles, fits, and evaluates the model, like earlier\n",
        "    fit_and_evaluate(ahead_model, ahead_train_ds, ahead_valid_ds, learning_rate=0.02)\n",
        "\n",
        "    # Save weights to Google Drive\n",
        "    ahead_errors.save(model_file)\n",
        "else: # loads model from disk\n",
        "    ahead_errors=tf.keras.models.load_model(model_file)"
      ]
    },
    {
      "cell_type": "markdown",
      "metadata": {
        "id": "95jQ8GXOtS0v"
      },
      "source": [
        "Input sequence"
      ]
    },
    {
      "cell_type": "code",
      "execution_count": null,
      "metadata": {
        "id": "rZrQTelprOhl"
      },
      "outputs": [],
      "source": [
        "X = mulvar_valid.to_numpy()[np.newaxis, :seq_length]  # shape [1, 56, 5]"
      ]
    },
    {
      "cell_type": "markdown",
      "metadata": {
        "id": "7ayq1pSntWO-"
      },
      "source": [
        "Generates distribution of predictions"
      ]
    },
    {
      "cell_type": "code",
      "execution_count": null,
      "metadata": {
        "colab": {
          "base_uri": "https://localhost:8080/"
        },
        "id": "SWt3ij5etnxp",
        "outputId": "13136f73-d1fe-47ab-9880-efe5fb1ebb38"
      },
      "outputs": [
        {
          "name": "stderr",
          "output_type": "stream",
          "text": [
            "100%|██████████| 100/100 [00:15<00:00,  6.28it/s]\n"
          ]
        }
      ],
      "source": [
        "# how many predictions will be generated\n",
        "n=100\n",
        "\n",
        "# generates matrix with ensemble of predictions\n",
        "# rows: different predictions\n",
        "# columns: time\n",
        "for i in tqdm(range(n)):\n",
        "  if i==0:\n",
        "    ensemble = ahead_errors(X, training=True)[0, :]\n",
        "  else:\n",
        "    ensemble=np.vstack((ensemble,ahead_errors(X, training=True)[0,:]))\n"
      ]
    },
    {
      "cell_type": "markdown",
      "metadata": {
        "id": "Z6YK8IluwEgV"
      },
      "source": [
        "Computes median and std. deviation of ensemble"
      ]
    },
    {
      "cell_type": "code",
      "execution_count": null,
      "metadata": {
        "id": "rhqwqZ9rwK3o"
      },
      "outputs": [],
      "source": [
        "ts_median=np.median(ensemble, axis=0)\n",
        "ts_std=np.std(ensemble, axis=0)\n",
        "ts_up=ts_median+ts_std\n",
        "ts_down=ts_median-ts_std"
      ]
    },
    {
      "cell_type": "markdown",
      "metadata": {
        "id": "s4NHkLTOzQhW"
      },
      "source": [
        "Wrapper to convert to pandas TS"
      ]
    },
    {
      "cell_type": "code",
      "execution_count": null,
      "metadata": {
        "id": "CbdHOMuzyH37"
      },
      "outputs": [],
      "source": [
        "tos=lambda ts:pd.Series(ts, index=pd.date_range(\"2019-02-26\", \"2019-03-11\"))"
      ]
    },
    {
      "cell_type": "markdown",
      "metadata": {
        "id": "oNLj7H1VwmZG"
      },
      "source": [
        "Here is the confidence band"
      ]
    },
    {
      "cell_type": "code",
      "execution_count": null,
      "metadata": {
        "colab": {
          "base_uri": "https://localhost:8080/",
          "height": 420
        },
        "id": "CB1afXIysc1n",
        "outputId": "508c7b16-4daf-45f7-c6f6-6d024aaa0c24"
      },
      "outputs": [
        {
          "data": {
            "text/plain": [
              "<matplotlib.legend.Legend at 0x793d0a8b66d0>"
            ]
          },
          "execution_count": 88,
          "metadata": {},
          "output_type": "execute_result"
        },
        {
          "data": {
            "image/png": "[encoded data removed]",
            "text/plain": [
              "<Figure size 800x350 with 1 Axes>"
            ]
          },
          "metadata": {},
          "output_type": "display_data"
        }
      ],
      "source": [
        "fig, ax = plt.subplots(figsize=(8, 3.5))\n",
        "\n",
        "rail_valid[\"2019-02-01\":\"2019-03-11\"].plot(label=\"True\", marker=\".\", ax=ax)\n",
        "\n",
        "# Fill the area between the series\n",
        "plt.fill_between(tos(ts_median).index, ts_down, ts_up, color='gray', alpha=0.3)\n",
        "\n",
        "tos(ts_median).plot(marker='.', ax=ax, label='Prediction')\n",
        "plt.legend()\n"
      ]
    },
    {
      "cell_type": "code",
      "execution_count": null,
      "metadata": {
        "colab": {
          "base_uri": "https://localhost:8080/",
          "height": 437
        },
        "id": "C5VmzG4u0SEY",
        "outputId": "571ef115-5ba0-46d7-ce03-9e4855b229ec"
      },
      "outputs": [
        {
          "name": "stderr",
          "output_type": "stream",
          "text": [
            "100%|██████████| 100/100 [00:01<00:00, 60.01it/s]\n"
          ]
        },
        {
          "data": {
            "text/plain": [
              "<Axes: xlabel='date'>"
            ]
          },
          "execution_count": 89,
          "metadata": {},
          "output_type": "execute_result"
        },
        {
          "data": {
            "image/png": "[encoded data removed]",
            "text/plain": [
              "<Figure size 800x350 with 1 Axes>"
            ]
          },
          "metadata": {},
          "output_type": "display_data"
        }
      ],
      "source": [
        "fig, ax = plt.subplots(figsize=(8, 3.5))\n",
        "\n",
        "for ts in tqdm(ensemble):\n",
        "  tos(ts).plot(marker='.', ax=ax, alpha=0.1, color='k')\n",
        "\n",
        "rail_valid[\"2019-02-01\":\"2019-03-11\"].plot(label=\"True\", marker=\".\", ax=ax)\n"
      ]
    },
    {
      "cell_type": "markdown",
      "metadata": {
        "id": "Xf5fXMgp2gdZ"
      },
      "source": [
        "<div class=\"alert alert-warning\"><h4>ISSUE</h4><p>\n",
        "The posteriors above do not make any fucking sense.\n",
        "</p></div>"
      ]
    },
    {
      "cell_type": "markdown",
      "metadata": {
        "id": "J37UD3g5C8Zh"
      },
      "source": [
        "# TODO\n",
        "\n",
        "- [ ] Layer normalization"
      ]
    }
  ],
  "metadata": {
    "accelerator": "GPU",
    "colab": {
      "provenance": [],
      "toc_visible": true
    },
    "kernelspec": {
      "display_name": "Python 3 (ipykernel)",
      "language": "python",
      "name": "python3"
    },
    "language_info": {
      "codemirror_mode": {
        "name": "ipython",
        "version": 3
      },
      "file_extension": ".py",
      "mimetype": "text/x-python",
      "name": "python",
      "nbconvert_exporter": "python",
      "pygments_lexer": "ipython3",
      "version": "3.11.7"
    },
    "nav_menu": {},
    "toc": {
      "navigate_menu": true,
      "number_sections": true,
      "sideBar": true,
      "threshold": 6,
      "toc_cell": false,
      "toc_section_display": "block",
      "toc_window_display": false
    }
  },
  "nbformat": 4,
  "nbformat_minor": 0
}